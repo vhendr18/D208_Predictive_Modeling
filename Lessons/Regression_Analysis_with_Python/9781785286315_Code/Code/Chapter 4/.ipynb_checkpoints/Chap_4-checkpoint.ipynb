{
 "cells": [
  {
   "cell_type": "markdown",
   "metadata": {},
   "source": [
    "# CHAPTER 4 - LOGISTIC REGRESSION"
   ]
  },
  {
   "cell_type": "markdown",
   "metadata": {},
   "source": [
    "## Create a dummy dataset"
   ]
  },
  {
   "cell_type": "code",
   "execution_count": 1,
   "metadata": {
    "collapsed": false
   },
   "outputs": [
    {
     "data": {
      "image/png": "[encoded data removed]",
      "text/plain": [
       "<matplotlib.figure.Figure at 0x10930b240>"
      ]
     },
     "metadata": {},
     "output_type": "display_data"
    }
   ],
   "source": [
    "%matplotlib inline\n",
    "\n",
    "import matplotlib.pyplot as plt\n",
    "from sklearn.datasets import make_classification\n",
    "\n",
    "X, y = make_classification(n_samples=100, n_features=2, n_informative=2,\n",
    "                           n_redundant=0, n_clusters_per_class=1, \n",
    "                           class_sep = 2.0, random_state=101)\n",
    "\n",
    "plt.scatter(X[:, 0], X[:, 1], marker='o', c=y, linewidth=0, edgecolor=None)\n",
    "plt.show()"
   ]
  },
  {
   "cell_type": "code",
   "execution_count": 2,
   "metadata": {
    "collapsed": true
   },
   "outputs": [],
   "source": [
    "y_orig = [0,0,0,0,0,0,1,1,1,1]\n",
    "y_pred = [0,0,0,0,1,1,1,1,1,0]"
   ]
  },
  {
   "cell_type": "markdown",
   "metadata": {},
   "source": [
    "## Measuring the classifier's performance"
   ]
  },
  {
   "cell_type": "code",
   "execution_count": 3,
   "metadata": {
    "collapsed": false
   },
   "outputs": [
    {
     "data": {
      "text/plain": [
       "array([[4, 2],\n",
       "       [1, 3]])"
      ]
     },
     "execution_count": 3,
     "metadata": {},
     "output_type": "execute_result"
    }
   ],
   "source": [
    "from sklearn.metrics import confusion_matrix\n",
    "confusion_matrix(y_orig, y_pred)"
   ]
  },
  {
   "cell_type": "code",
   "execution_count": 4,
   "metadata": {
    "collapsed": false
   },
   "outputs": [
    {
     "data": {
      "image/png": "[encoded data removed]",
      "text/plain": [
       "<matplotlib.figure.Figure at 0x1095c26a0>"
      ]
     },
     "metadata": {},
     "output_type": "display_data"
    }
   ],
   "source": [
    "plt.matshow(confusion_matrix(y_orig, y_pred))\n",
    "plt.title('Confusion matrix')\n",
    "plt.colorbar()\n",
    "plt.ylabel('True label')\n",
    "plt.xlabel('Predicted label')\n",
    "plt.show()"
   ]
  },
  {
   "cell_type": "code",
   "execution_count": 5,
   "metadata": {
    "collapsed": false
   },
   "outputs": [
    {
     "data": {
      "text/plain": [
       "0.69999999999999996"
      ]
     },
     "execution_count": 5,
     "metadata": {},
     "output_type": "execute_result"
    }
   ],
   "source": [
    "from sklearn.metrics import accuracy_score\n",
    "accuracy_score(y_orig, y_pred)"
   ]
  },
  {
   "cell_type": "code",
   "execution_count": 6,
   "metadata": {
    "collapsed": false
   },
   "outputs": [
    {
     "data": {
      "text/plain": [
       "0.59999999999999998"
      ]
     },
     "execution_count": 6,
     "metadata": {},
     "output_type": "execute_result"
    }
   ],
   "source": [
    "from sklearn.metrics import precision_score\n",
    "precision_score(y_orig, y_pred)"
   ]
  },
  {
   "cell_type": "code",
   "execution_count": 7,
   "metadata": {
    "collapsed": false
   },
   "outputs": [
    {
     "data": {
      "text/plain": [
       "0.75"
      ]
     },
     "execution_count": 7,
     "metadata": {},
     "output_type": "execute_result"
    }
   ],
   "source": [
    "from sklearn.metrics import recall_score\n",
    "recall_score(y_orig, y_pred)"
   ]
  },
  {
   "cell_type": "code",
   "execution_count": 8,
   "metadata": {
    "collapsed": false
   },
   "outputs": [
    {
     "data": {
      "text/plain": [
       "0.66666666666666652"
      ]
     },
     "execution_count": 8,
     "metadata": {},
     "output_type": "execute_result"
    }
   ],
   "source": [
    "from sklearn.metrics import f1_score\n",
    "f1_score(y_orig, y_pred)"
   ]
  },
  {
   "cell_type": "code",
   "execution_count": 9,
   "metadata": {
    "collapsed": false
   },
   "outputs": [
    {
     "name": "stdout",
     "output_type": "stream",
     "text": [
      "             precision    recall  f1-score   support\n",
      "\n",
      "          0       0.80      0.67      0.73         6\n",
      "          1       0.60      0.75      0.67         4\n",
      "\n",
      "avg / total       0.72      0.70      0.70        10\n",
      "\n"
     ]
    }
   ],
   "source": [
    "from sklearn.metrics import classification_report\n",
    "print(classification_report(y_orig, y_pred))"
   ]
  },
  {
   "cell_type": "markdown",
   "metadata": {},
   "source": [
    "## Fitting the classifier"
   ]
  },
  {
   "cell_type": "code",
   "execution_count": 10,
   "metadata": {
    "collapsed": false
   },
   "outputs": [],
   "source": [
    "from sklearn.cross_validation import train_test_split\n",
    "\n",
    "X_train, X_test, y_train, y_test = train_test_split(X, y.astype(float), \n",
    "                                   test_size=0.33, random_state=101)\n"
   ]
  },
  {
   "cell_type": "code",
   "execution_count": 11,
   "metadata": {
    "collapsed": false
   },
   "outputs": [
    {
     "data": {
      "text/plain": [
       "dtype('float64')"
      ]
     },
     "execution_count": 11,
     "metadata": {},
     "output_type": "execute_result"
    }
   ],
   "source": [
    "y_test.dtype"
   ]
  },
  {
   "cell_type": "code",
   "execution_count": 12,
   "metadata": {
    "collapsed": false
   },
   "outputs": [
    {
     "data": {
      "text/plain": [
       "array([ 0.,  1.,  1.,  0.,  1.,  1.,  0.,  1.,  0.,  0.,  0.,  0.,  1.,\n",
       "        0.,  1.,  0.,  0.,  1.,  1.,  0.,  0.,  0.,  0.,  0.,  0.,  0.,\n",
       "        0.,  0.,  0.,  1.,  0.,  1.,  0.])"
      ]
     },
     "execution_count": 12,
     "metadata": {},
     "output_type": "execute_result"
    }
   ],
   "source": [
    "y_test"
   ]
  },
  {
   "cell_type": "code",
   "execution_count": 13,
   "metadata": {
    "collapsed": false
   },
   "outputs": [
    {
     "data": {
      "text/plain": [
       "array([ 0.06688448,  1.01981921,  1.08597427, -0.15225094,  1.05856628,\n",
       "        0.8156161 ,  0.04837505,  0.7997539 ,  0.18942251, -0.03658995,\n",
       "       -0.0462575 , -0.09640911,  1.0253004 , -0.17062754,  1.13642842,\n",
       "        0.14052848, -0.00703683,  0.90903158,  1.26997191,  0.03606483,\n",
       "       -0.19047191,  0.22476337, -0.05936491, -0.18559975,  0.28378888,\n",
       "        0.01139188, -0.03559395,  0.22742328,  0.07485246,  1.24545626,\n",
       "        0.13924533,  1.09388935,  0.35341582])"
      ]
     },
     "execution_count": 13,
     "metadata": {},
     "output_type": "execute_result"
    }
   ],
   "source": [
    "from sklearn.linear_model import LinearRegression\n",
    "\n",
    "regr = LinearRegression()\n",
    "regr.fit(X_train, y_train)\n",
    "regr.predict(X_test)"
   ]
  },
  {
   "cell_type": "markdown",
   "metadata": {},
   "source": [
    "## The sigmoid (logit) function"
   ]
  },
  {
   "cell_type": "code",
   "execution_count": 14,
   "metadata": {
    "collapsed": false
   },
   "outputs": [
    {
     "data": {
      "image/png": "[encoded data removed]",
      "text/plain": [
       "<matplotlib.figure.Figure at 0x1093d2c50>"
      ]
     },
     "metadata": {},
     "output_type": "display_data"
    }
   ],
   "source": [
    "import numpy as np\n",
    "\n",
    "def model(x):\n",
    "    return 1 / (1 + np.exp(-x))\n",
    "\n",
    "X_vals = np.linspace(-10, 10, 1000)\n",
    "plt.plot(X_vals, model(X_vals), color='blue', linewidth=3)\n",
    "plt.ylabel('sigma(t)')\n",
    "plt.xlabel('t')\n",
    "\n",
    "plt.show()"
   ]
  },
  {
   "cell_type": "markdown",
   "metadata": {},
   "source": [
    "## Classification and decision boundaries"
   ]
  },
  {
   "cell_type": "code",
   "execution_count": 15,
   "metadata": {
    "collapsed": false
   },
   "outputs": [
    {
     "name": "stdout",
     "output_type": "stream",
     "text": [
      "             precision    recall  f1-score   support\n",
      "\n",
      "        0.0       1.00      0.95      0.98        22\n",
      "        1.0       0.92      1.00      0.96        11\n",
      "\n",
      "avg / total       0.97      0.97      0.97        33\n",
      "\n"
     ]
    }
   ],
   "source": [
    "from sklearn.linear_model import LogisticRegression\n",
    "\n",
    "clf = LogisticRegression()\n",
    "clf.fit(X_train, y_train.astype(int))\n",
    "y_clf = clf.predict(X_test)\n",
    "\n",
    "print(classification_report(y_test, y_clf))"
   ]
  },
  {
   "cell_type": "code",
   "execution_count": 16,
   "metadata": {
    "collapsed": false
   },
   "outputs": [
    {
     "data": {
      "image/png": "[encoded data removed]",
      "text/plain": [
       "<matplotlib.figure.Figure at 0x109fdd5f8>"
      ]
     },
     "metadata": {},
     "output_type": "display_data"
    }
   ],
   "source": [
    "# Example based on:\n",
    "# Code source: Gaël Varoquaux, Modified for documentation by Jaques Grobler, License: BSD 3 clause\n",
    "\n",
    "h = .02  # step size in the mesh\n",
    "\n",
    "# Plot the decision boundary. For that, we will assign a color to each\n",
    "# point in the mesh [x_min, m_max]x[y_min, y_max].\n",
    "x_min, x_max = X[:, 0].min() - .5, X[:, 0].max() + .5\n",
    "y_min, y_max = X[:, 1].min() - .5, X[:, 1].max() + .5\n",
    "xx, yy = np.meshgrid(np.arange(x_min, x_max, h), np.arange(y_min, y_max, h))\n",
    "Z = clf.predict(np.c_[xx.ravel(), yy.ravel()])\n",
    "\n",
    "# Put the result into a color plot\n",
    "Z = Z.reshape(xx.shape)\n",
    "plt.pcolormesh(xx, yy, Z, cmap=plt.cm.autumn)\n",
    "\n",
    "# Plot also the training points\n",
    "plt.scatter(X[:, 0], X[:, 1], c=y, edgecolors='k', linewidth=0, cmap=plt.cm.Paired)\n",
    "\n",
    "plt.xlim(xx.min(), xx.max())\n",
    "plt.ylim(yy.min(), yy.max())\n",
    "plt.xticks(())\n",
    "plt.yticks(())\n",
    "\n",
    "plt.show()"
   ]
  },
  {
   "cell_type": "code",
   "execution_count": 17,
   "metadata": {
    "collapsed": false
   },
   "outputs": [
    {
     "data": {
      "image/png": "[encoded data removed]",
      "text/plain": [
       "<matplotlib.figure.Figure at 0x109570390>"
      ]
     },
     "metadata": {},
     "output_type": "display_data"
    }
   ],
   "source": [
    "Z = clf.predict_proba(np.c_[xx.ravel(), yy.ravel()])[:,1]\n",
    "Z = Z.reshape(xx.shape)\n",
    "plt.pcolormesh(xx, yy, Z, cmap=plt.cm.autumn)\n",
    "\n",
    "ax = plt.axes()\n",
    "ax.arrow(0, 0, clf.coef_[0][0], clf.coef_[0][1], head_width=0.5, head_length=0.5, fc='k', ec='k')\n",
    "plt.scatter(0, 0, marker='o', c='k')\n",
    "\n",
    "plt.xlim(xx.min(), xx.max())\n",
    "plt.ylim(yy.min(), yy.max())\n",
    "\n",
    "plt.show()"
   ]
  },
  {
   "cell_type": "code",
   "execution_count": 18,
   "metadata": {
    "collapsed": false
   },
   "outputs": [
    {
     "data": {
      "text/plain": [
       "array([[-2.22576095, -0.28230719]])"
      ]
     },
     "execution_count": 18,
     "metadata": {},
     "output_type": "execute_result"
    }
   ],
   "source": [
    "clf.coef_"
   ]
  },
  {
   "cell_type": "code",
   "execution_count": 19,
   "metadata": {
    "collapsed": false
   },
   "outputs": [
    {
     "name": "stdout",
     "output_type": "stream",
     "text": [
      "1000 loops, best of 3: 372 µs per loop\n"
     ]
    }
   ],
   "source": [
    "%timeit clf.fit(X, y)"
   ]
  },
  {
   "cell_type": "code",
   "execution_count": 20,
   "metadata": {
    "collapsed": false
   },
   "outputs": [
    {
     "name": "stdout",
     "output_type": "stream",
     "text": [
      "10000 loops, best of 3: 54.1 µs per loop\n"
     ]
    }
   ],
   "source": [
    "%timeit clf.predict(X)"
   ]
  },
  {
   "cell_type": "code",
   "execution_count": 21,
   "metadata": {
    "collapsed": false
   },
   "outputs": [
    {
     "name": "stdout",
     "output_type": "stream",
     "text": [
      "10000 loops, best of 3: 73.2 µs per loop\n"
     ]
    }
   ],
   "source": [
    "%timeit clf.predict_proba(X)"
   ]
  },
  {
   "cell_type": "code",
   "execution_count": 22,
   "metadata": {
    "collapsed": false
   },
   "outputs": [],
   "source": [
    "# Clean all previous variables\n",
    "%reset -f"
   ]
  },
  {
   "cell_type": "markdown",
   "metadata": {},
   "source": [
    "## Multiclass Logistic Regression"
   ]
  },
  {
   "cell_type": "code",
   "execution_count": 23,
   "metadata": {
    "collapsed": false
   },
   "outputs": [
    {
     "data": {
      "image/png": "[encoded data removed]",
      "text/plain": [
       "<matplotlib.figure.Figure at 0x107a9bda0>"
      ]
     },
     "metadata": {},
     "output_type": "display_data"
    }
   ],
   "source": [
    "%matplotlib inline\n",
    "\n",
    "import matplotlib.pyplot as plt\n",
    "from sklearn.datasets import make_classification\n",
    "\n",
    "X, y = make_classification(n_samples=200, n_features=2, \n",
    "                           n_classes=3, n_informative=2,\n",
    "                           n_redundant=0, n_clusters_per_class=1, \n",
    "                           class_sep = 2.0, random_state=101)\n",
    "\n",
    "plt.scatter(X[:, 0], X[:, 1], marker='o', c=y, linewidth=0, edgecolor=None)\n",
    "plt.show()"
   ]
  },
  {
   "cell_type": "code",
   "execution_count": 24,
   "metadata": {
    "collapsed": true
   },
   "outputs": [],
   "source": [
    "from sklearn.cross_validation import train_test_split\n",
    "\n",
    "X_train, X_test, y_train, y_test = train_test_split(X, y.astype(float), \n",
    "                                   test_size=0.33, random_state=101)"
   ]
  },
  {
   "cell_type": "code",
   "execution_count": 25,
   "metadata": {
    "collapsed": false
   },
   "outputs": [],
   "source": [
    "from sklearn.linear_model import LogisticRegression\n",
    "\n",
    "clf = LogisticRegression()\n",
    "clf.fit(X_train, y_train.astype(int))\n",
    "y_clf = clf.predict(X_test)"
   ]
  },
  {
   "cell_type": "code",
   "execution_count": 26,
   "metadata": {
    "collapsed": false
   },
   "outputs": [
    {
     "name": "stdout",
     "output_type": "stream",
     "text": [
      "             precision    recall  f1-score   support\n",
      "\n",
      "        0.0       1.00      1.00      1.00        24\n",
      "        1.0       1.00      1.00      1.00        22\n",
      "        2.0       1.00      1.00      1.00        20\n",
      "\n",
      "avg / total       1.00      1.00      1.00        66\n",
      "\n"
     ]
    }
   ],
   "source": [
    "from sklearn.metrics import classification_report\n",
    "print(classification_report(y_test, y_clf))"
   ]
  },
  {
   "cell_type": "code",
   "execution_count": 27,
   "metadata": {
    "collapsed": false
   },
   "outputs": [
    {
     "data": {
      "image/png": "[encoded data removed]",
      "text/plain": [
       "<matplotlib.figure.Figure at 0x109fd2240>"
      ]
     },
     "metadata": {},
     "output_type": "display_data"
    }
   ],
   "source": [
    "import numpy as np\n",
    "\n",
    "h = .02  # step size in the mesh\n",
    "\n",
    "x_min, x_max = X[:, 0].min() - .5, X[:, 0].max() + .5\n",
    "y_min, y_max = X[:, 1].min() - .5, X[:, 1].max() + .5\n",
    "xx, yy = np.meshgrid(np.arange(x_min, x_max, h), np.arange(y_min, y_max, h))\n",
    "Z = clf.predict(np.c_[xx.ravel(), yy.ravel()])\n",
    "\n",
    "# Put the result into a color plot\n",
    "Z = Z.reshape(xx.shape)\n",
    "plt.pcolormesh(xx, yy, Z, cmap=plt.cm.autumn)\n",
    "\n",
    "# Plot also the training points\n",
    "plt.scatter(X[:, 0], X[:, 1], c=y, edgecolors='k', cmap=plt.cm.Paired)\n",
    "plt.xlim(xx.min(), xx.max())\n",
    "plt.ylim(yy.min(), yy.max())\n",
    "plt.xticks(())\n",
    "plt.yticks(())\n",
    "\n",
    "plt.show()"
   ]
  },
  {
   "cell_type": "code",
   "execution_count": 28,
   "metadata": {
    "collapsed": false
   },
   "outputs": [
    {
     "name": "stdout",
     "output_type": "stream",
     "text": [
      "[ 0.73255032  1.19639333]\n",
      "0.0\n",
      "0\n"
     ]
    }
   ],
   "source": [
    "print(X_test[0])\n",
    "print(y_test[0])\n",
    "print(y_clf[0])"
   ]
  },
  {
   "cell_type": "code",
   "execution_count": 29,
   "metadata": {
    "collapsed": false
   },
   "outputs": [
    {
     "name": "stderr",
     "output_type": "stream",
     "text": [
      "/Library/Frameworks/Python.framework/Versions/3.5/lib/python3.5/site-packages/sklearn/utils/validation.py:386: DeprecationWarning: Passing 1d arrays as data is deprecated in 0.17 and willraise ValueError in 0.19. Reshape your data either using X.reshape(-1, 1) if your data has a single feature or X.reshape(1, -1) if it contains a single sample.\n",
      "  DeprecationWarning)\n"
     ]
    },
    {
     "data": {
      "text/plain": [
       "array([[ 0.72797056,  0.06275109,  0.20927835]])"
      ]
     },
     "execution_count": 29,
     "metadata": {},
     "output_type": "execute_result"
    }
   ],
   "source": [
    "clf.predict_proba(X_test[0])"
   ]
  },
  {
   "cell_type": "code",
   "execution_count": 30,
   "metadata": {
    "collapsed": false
   },
   "outputs": [
    {
     "name": "stderr",
     "output_type": "stream",
     "text": [
      "/Library/Frameworks/Python.framework/Versions/3.5/lib/python3.5/site-packages/sklearn/utils/validation.py:386: DeprecationWarning: Passing 1d arrays as data is deprecated in 0.17 and willraise ValueError in 0.19. Reshape your data either using X.reshape(-1, 1) if your data has a single feature or X.reshape(1, -1) if it contains a single sample.\n",
      "  DeprecationWarning)\n"
     ]
    },
    {
     "data": {
      "text/plain": [
       "array([[ 0.37213503, -2.92299969, -1.58433774]])"
      ]
     },
     "execution_count": 30,
     "metadata": {},
     "output_type": "execute_result"
    }
   ],
   "source": [
    "clf.decision_function(X_test[0])"
   ]
  },
  {
   "cell_type": "markdown",
   "metadata": {},
   "source": [
    "# An example"
   ]
  },
  {
   "cell_type": "code",
   "execution_count": 31,
   "metadata": {
    "collapsed": false
   },
   "outputs": [],
   "source": [
    "X, y = make_classification(n_samples=10000, n_features=10, \n",
    "                           n_informative=10, n_redundant=0, \n",
    "                           random_state=101)"
   ]
  },
  {
   "cell_type": "markdown",
   "metadata": {},
   "source": [
    "## Using statsmodels"
   ]
  },
  {
   "cell_type": "code",
   "execution_count": 32,
   "metadata": {
    "collapsed": false
   },
   "outputs": [],
   "source": [
    "import statsmodels.api as sm\n",
    "import statsmodels.formula.api as smf"
   ]
  },
  {
   "cell_type": "code",
   "execution_count": 33,
   "metadata": {
    "collapsed": false
   },
   "outputs": [
    {
     "name": "stdout",
     "output_type": "stream",
     "text": [
      "Optimization terminated successfully.\n",
      "         Current function value: 0.438685\n",
      "         Iterations 7\n"
     ]
    }
   ],
   "source": [
    "Xc = sm.add_constant(X)\n",
    "logistic_regression = sm.Logit(y,Xc)\n",
    "fitted_model = logistic_regression.fit()"
   ]
  },
  {
   "cell_type": "code",
   "execution_count": 34,
   "metadata": {
    "collapsed": false,
    "scrolled": false
   },
   "outputs": [
    {
     "data": {
      "text/html": [
       "<table class=\"simpletable\">\n",
       "<caption>Logit Regression Results</caption>\n",
       "<tr>\n",
       "  <th>Dep. Variable:</th>         <td>y</td>        <th>  No. Observations:  </th>  <td> 10000</td> \n",
       "</tr>\n",
       "<tr>\n",
       "  <th>Model:</th>               <td>Logit</td>      <th>  Df Residuals:      </th>  <td>  9989</td> \n",
       "</tr>\n",
       "<tr>\n",
       "  <th>Method:</th>               <td>MLE</td>       <th>  Df Model:          </th>  <td>    10</td> \n",
       "</tr>\n",
       "<tr>\n",
       "  <th>Date:</th>          <td>Mon, 22 Feb 2016</td> <th>  Pseudo R-squ.:     </th>  <td>0.3671</td> \n",
       "</tr>\n",
       "<tr>\n",
       "  <th>Time:</th>              <td>21:32:14</td>     <th>  Log-Likelihood:    </th> <td> -4386.8</td>\n",
       "</tr>\n",
       "<tr>\n",
       "  <th>converged:</th>           <td>True</td>       <th>  LL-Null:           </th> <td> -6931.5</td>\n",
       "</tr>\n",
       "<tr>\n",
       "  <th> </th>                      <td> </td>        <th>  LLR p-value:       </th>  <td> 0.000</td> \n",
       "</tr>\n",
       "</table>\n",
       "<table class=\"simpletable\">\n",
       "<tr>\n",
       "    <td></td>       <th>coef</th>     <th>std err</th>      <th>z</th>      <th>P>|z|</th> <th>[95.0% Conf. Int.]</th> \n",
       "</tr>\n",
       "<tr>\n",
       "  <th>const</th> <td>    0.4299</td> <td>    0.039</td> <td>   11.023</td> <td> 0.000</td> <td>    0.353     0.506</td>\n",
       "</tr>\n",
       "<tr>\n",
       "  <th>x1</th>    <td>    0.0671</td> <td>    0.015</td> <td>    4.410</td> <td> 0.000</td> <td>    0.037     0.097</td>\n",
       "</tr>\n",
       "<tr>\n",
       "  <th>x2</th>    <td>   -0.7828</td> <td>    0.019</td> <td>  -41.947</td> <td> 0.000</td> <td>   -0.819    -0.746</td>\n",
       "</tr>\n",
       "<tr>\n",
       "  <th>x3</th>    <td>    0.1221</td> <td>    0.016</td> <td>    7.815</td> <td> 0.000</td> <td>    0.091     0.153</td>\n",
       "</tr>\n",
       "<tr>\n",
       "  <th>x4</th>    <td>    0.2841</td> <td>    0.016</td> <td>   18.150</td> <td> 0.000</td> <td>    0.253     0.315</td>\n",
       "</tr>\n",
       "<tr>\n",
       "  <th>x5</th>    <td>    0.1469</td> <td>    0.014</td> <td>   10.283</td> <td> 0.000</td> <td>    0.119     0.175</td>\n",
       "</tr>\n",
       "<tr>\n",
       "  <th>x6</th>    <td>   -0.3414</td> <td>    0.019</td> <td>  -17.636</td> <td> 0.000</td> <td>   -0.379    -0.303</td>\n",
       "</tr>\n",
       "<tr>\n",
       "  <th>x7</th>    <td>    0.0503</td> <td>    0.014</td> <td>    3.481</td> <td> 0.000</td> <td>    0.022     0.079</td>\n",
       "</tr>\n",
       "<tr>\n",
       "  <th>x8</th>    <td>   -0.1393</td> <td>    0.014</td> <td>   -9.642</td> <td> 0.000</td> <td>   -0.168    -0.111</td>\n",
       "</tr>\n",
       "<tr>\n",
       "  <th>x9</th>    <td>    0.1127</td> <td>    0.014</td> <td>    7.931</td> <td> 0.000</td> <td>    0.085     0.141</td>\n",
       "</tr>\n",
       "<tr>\n",
       "  <th>x10</th>   <td>   -0.4792</td> <td>    0.018</td> <td>  -27.340</td> <td> 0.000</td> <td>   -0.514    -0.445</td>\n",
       "</tr>\n",
       "</table>"
      ],
      "text/plain": [
       "<class 'statsmodels.iolib.summary.Summary'>\n",
       "\"\"\"\n",
       "                           Logit Regression Results                           \n",
       "==============================================================================\n",
       "Dep. Variable:                      y   No. Observations:                10000\n",
       "Model:                          Logit   Df Residuals:                     9989\n",
       "Method:                           MLE   Df Model:                           10\n",
       "Date:                Mon, 22 Feb 2016   Pseudo R-squ.:                  0.3671\n",
       "Time:                        21:32:14   Log-Likelihood:                -4386.8\n",
       "converged:                       True   LL-Null:                       -6931.5\n",
       "                                        LLR p-value:                     0.000\n",
       "==============================================================================\n",
       "                 coef    std err          z      P>|z|      [95.0% Conf. Int.]\n",
       "------------------------------------------------------------------------------\n",
       "const          0.4299      0.039     11.023      0.000         0.353     0.506\n",
       "x1             0.0671      0.015      4.410      0.000         0.037     0.097\n",
       "x2            -0.7828      0.019    -41.947      0.000        -0.819    -0.746\n",
       "x3             0.1221      0.016      7.815      0.000         0.091     0.153\n",
       "x4             0.2841      0.016     18.150      0.000         0.253     0.315\n",
       "x5             0.1469      0.014     10.283      0.000         0.119     0.175\n",
       "x6            -0.3414      0.019    -17.636      0.000        -0.379    -0.303\n",
       "x7             0.0503      0.014      3.481      0.000         0.022     0.079\n",
       "x8            -0.1393      0.014     -9.642      0.000        -0.168    -0.111\n",
       "x9             0.1127      0.014      7.931      0.000         0.085     0.141\n",
       "x10           -0.4792      0.018    -27.340      0.000        -0.514    -0.445\n",
       "==============================================================================\n",
       "\"\"\""
      ]
     },
     "execution_count": 34,
     "metadata": {},
     "output_type": "execute_result"
    }
   ],
   "source": [
    "fitted_model.summary()"
   ]
  },
  {
   "cell_type": "code",
   "execution_count": 35,
   "metadata": {
    "collapsed": false
   },
   "outputs": [
    {
     "name": "stdout",
     "output_type": "stream",
     "text": [
      "Optimization terminated successfully.\n",
      "         Current function value: 0.438685\n",
      "         Iterations 7\n"
     ]
    },
    {
     "data": {
      "text/html": [
       "<table class=\"simpletable\">\n",
       "<caption>Logit Regression Results</caption>\n",
       "<tr>\n",
       "  <th>Dep. Variable:</th>     <td>response</td>     <th>  No. Observations:  </th>  <td> 10000</td> \n",
       "</tr>\n",
       "<tr>\n",
       "  <th>Model:</th>               <td>Logit</td>      <th>  Df Residuals:      </th>  <td>  9989</td> \n",
       "</tr>\n",
       "<tr>\n",
       "  <th>Method:</th>               <td>MLE</td>       <th>  Df Model:          </th>  <td>    10</td> \n",
       "</tr>\n",
       "<tr>\n",
       "  <th>Date:</th>          <td>Mon, 22 Feb 2016</td> <th>  Pseudo R-squ.:     </th>  <td>0.3671</td> \n",
       "</tr>\n",
       "<tr>\n",
       "  <th>Time:</th>              <td>21:32:14</td>     <th>  Log-Likelihood:    </th> <td> -4386.8</td>\n",
       "</tr>\n",
       "<tr>\n",
       "  <th>converged:</th>           <td>True</td>       <th>  LL-Null:           </th> <td> -6931.5</td>\n",
       "</tr>\n",
       "<tr>\n",
       "  <th> </th>                      <td> </td>        <th>  LLR p-value:       </th>  <td> 0.000</td> \n",
       "</tr>\n",
       "</table>\n",
       "<table class=\"simpletable\">\n",
       "<tr>\n",
       "      <td></td>         <th>coef</th>     <th>std err</th>      <th>z</th>      <th>P>|z|</th> <th>[95.0% Conf. Int.]</th> \n",
       "</tr>\n",
       "<tr>\n",
       "  <th>Intercept</th> <td>    0.4299</td> <td>    0.039</td> <td>   11.023</td> <td> 0.000</td> <td>    0.353     0.506</td>\n",
       "</tr>\n",
       "<tr>\n",
       "  <th>VAR1</th>      <td>    0.0671</td> <td>    0.015</td> <td>    4.410</td> <td> 0.000</td> <td>    0.037     0.097</td>\n",
       "</tr>\n",
       "<tr>\n",
       "  <th>VAR2</th>      <td>   -0.7828</td> <td>    0.019</td> <td>  -41.947</td> <td> 0.000</td> <td>   -0.819    -0.746</td>\n",
       "</tr>\n",
       "<tr>\n",
       "  <th>VAR3</th>      <td>    0.1221</td> <td>    0.016</td> <td>    7.815</td> <td> 0.000</td> <td>    0.091     0.153</td>\n",
       "</tr>\n",
       "<tr>\n",
       "  <th>VAR4</th>      <td>    0.2841</td> <td>    0.016</td> <td>   18.150</td> <td> 0.000</td> <td>    0.253     0.315</td>\n",
       "</tr>\n",
       "<tr>\n",
       "  <th>VAR5</th>      <td>    0.1469</td> <td>    0.014</td> <td>   10.283</td> <td> 0.000</td> <td>    0.119     0.175</td>\n",
       "</tr>\n",
       "<tr>\n",
       "  <th>VAR6</th>      <td>   -0.3414</td> <td>    0.019</td> <td>  -17.636</td> <td> 0.000</td> <td>   -0.379    -0.303</td>\n",
       "</tr>\n",
       "<tr>\n",
       "  <th>VAR7</th>      <td>    0.0503</td> <td>    0.014</td> <td>    3.481</td> <td> 0.000</td> <td>    0.022     0.079</td>\n",
       "</tr>\n",
       "<tr>\n",
       "  <th>VAR8</th>      <td>   -0.1393</td> <td>    0.014</td> <td>   -9.642</td> <td> 0.000</td> <td>   -0.168    -0.111</td>\n",
       "</tr>\n",
       "<tr>\n",
       "  <th>VAR9</th>      <td>    0.1127</td> <td>    0.014</td> <td>    7.931</td> <td> 0.000</td> <td>    0.085     0.141</td>\n",
       "</tr>\n",
       "<tr>\n",
       "  <th>VAR10</th>     <td>   -0.4792</td> <td>    0.018</td> <td>  -27.340</td> <td> 0.000</td> <td>   -0.514    -0.445</td>\n",
       "</tr>\n",
       "</table>"
      ],
      "text/plain": [
       "<class 'statsmodels.iolib.summary.Summary'>\n",
       "\"\"\"\n",
       "                           Logit Regression Results                           \n",
       "==============================================================================\n",
       "Dep. Variable:               response   No. Observations:                10000\n",
       "Model:                          Logit   Df Residuals:                     9989\n",
       "Method:                           MLE   Df Model:                           10\n",
       "Date:                Mon, 22 Feb 2016   Pseudo R-squ.:                  0.3671\n",
       "Time:                        21:32:14   Log-Likelihood:                -4386.8\n",
       "converged:                       True   LL-Null:                       -6931.5\n",
       "                                        LLR p-value:                     0.000\n",
       "==============================================================================\n",
       "                 coef    std err          z      P>|z|      [95.0% Conf. Int.]\n",
       "------------------------------------------------------------------------------\n",
       "Intercept      0.4299      0.039     11.023      0.000         0.353     0.506\n",
       "VAR1           0.0671      0.015      4.410      0.000         0.037     0.097\n",
       "VAR2          -0.7828      0.019    -41.947      0.000        -0.819    -0.746\n",
       "VAR3           0.1221      0.016      7.815      0.000         0.091     0.153\n",
       "VAR4           0.2841      0.016     18.150      0.000         0.253     0.315\n",
       "VAR5           0.1469      0.014     10.283      0.000         0.119     0.175\n",
       "VAR6          -0.3414      0.019    -17.636      0.000        -0.379    -0.303\n",
       "VAR7           0.0503      0.014      3.481      0.000         0.022     0.079\n",
       "VAR8          -0.1393      0.014     -9.642      0.000        -0.168    -0.111\n",
       "VAR9           0.1127      0.014      7.931      0.000         0.085     0.141\n",
       "VAR10         -0.4792      0.018    -27.340      0.000        -0.514    -0.445\n",
       "==============================================================================\n",
       "\"\"\""
      ]
     },
     "execution_count": 35,
     "metadata": {},
     "output_type": "execute_result"
    }
   ],
   "source": [
    "import pandas as pd\n",
    "\n",
    "# As an alternative, this example is using the statsmodels.formula.api module\n",
    "# Equivalent to the R syntax for linear models, it requires to specify the form\n",
    "# of the logistic regression using 'response ~ predictor1 (+ predictor2 + ...)'\n",
    "\n",
    "Xd = pd.DataFrame(X)\n",
    "Xd.columns = ['VAR'+str(i+1) for i in range(10)]\n",
    "Xd['response'] = y\n",
    "\n",
    "logistic_regression = smf.logit(\n",
    "    formula = 'response ~ VAR1+ VAR2 + VAR3 + VAR4 + \\\n",
    "               VAR5 + VAR6 + VAR7 + VAR8 + VAR9 + VAR10',\n",
    "               data=Xd)\n",
    "\n",
    "fitted_model = logistic_regression.fit()\n",
    "fitted_model.summary()"
   ]
  },
  {
   "cell_type": "markdown",
   "metadata": {},
   "source": [
    "## Gradient Descend"
   ]
  },
  {
   "cell_type": "code",
   "execution_count": 36,
   "metadata": {
    "collapsed": true
   },
   "outputs": [],
   "source": [
    "from sklearn.preprocessing import StandardScaler\n",
    "import numpy as np\n",
    "observations = len(X)\n",
    "variables = ['VAR'+str(i+1) for i in range(10)]"
   ]
  },
  {
   "cell_type": "code",
   "execution_count": 37,
   "metadata": {
    "collapsed": false
   },
   "outputs": [
    {
     "name": "stdout",
     "output_type": "stream",
     "text": [
      "These are our final standardized coefficients: [ 0.42991407  0.0670771  -0.78279578  0.12208733  0.28410285  0.14689341\n",
      " -0.34143436  0.05031078 -0.1393206   0.11267402 -0.47916908]\n",
      "Reached after 885 iterations\n"
     ]
    },
    {
     "name": "stderr",
     "output_type": "stream",
     "text": [
      "/Library/Frameworks/Python.framework/Versions/3.5/lib/python3.5/site-packages/sklearn/utils/__init__.py:93: DeprecationWarning: Function std_ is deprecated; Attribute ``std_`` will be removed in 0.19. Use ``scale_`` instead\n",
      "  warnings.warn(msg, category=DeprecationWarning)\n"
     ]
    }
   ],
   "source": [
    "import random\n",
    "\n",
    "def random_w( p ):\n",
    "    return np.array([np.random.normal() for j in range(p)])\n",
    "\n",
    "def sigmoid(X,w):\n",
    "    return 1./(1.+np.exp(-np.dot(X,w)))\n",
    "\n",
    "def hypothesis(X,w):\n",
    "    return np.dot(X,w)\n",
    "\n",
    "def loss(X,w,y):\n",
    "    return hypothesis(X,w) - y\n",
    "\n",
    "def logit_loss(X,w,y):\n",
    "    return sigmoid(X,w) - y\n",
    "\n",
    "def squared_loss(X,w,y):\n",
    "    return loss(X,w,y)**2\n",
    "\n",
    "def gradient(X,w,y,loss_type=squared_loss):\n",
    "    gradients = list()\n",
    "    n = float(len( y ))\n",
    "    for j in range(len(w)):\n",
    "        gradients.append(np.sum(loss_type(X,w,y) * X[:,j]) / n)\n",
    "    return gradients\n",
    "\n",
    "def update(X,w,y, alpha=0.01, loss_type=squared_loss):\n",
    "    return [t - alpha*g for t, g in zip(w, gradient(X,w,y,loss_type))]\n",
    "\n",
    "def optimize(X,y, alpha=0.01, eta = 10**-12, loss_type=squared_loss, iterations = 1000):\n",
    "    standardization = StandardScaler()\n",
    "    Xst = standardization.fit_transform(X)\n",
    "    original_means, originanal_stds = standardization.mean_, standardization.std_\n",
    "    Xst = np.column_stack((Xst,np.ones(observations)))\n",
    "    w = random_w(Xst.shape[1])\n",
    "    path = list()\n",
    "    for k in range(iterations):\n",
    "        SSL = np.sum(squared_loss(Xst,w,y))\n",
    "        new_w = update(Xst,w,y, alpha=alpha, loss_type=logit_loss)\n",
    "        new_SSL = np.sum(squared_loss(Xst,new_w,y))\n",
    "        w = new_w\n",
    "        if k>=5 and (new_SSL - SSL <= eta and new_SSL - SSL >= -eta):\n",
    "            path.append(new_SSL)\n",
    "            break\n",
    "        if k % (iterations / 20) == 0:\n",
    "            path.append(new_SSL)\n",
    "    unstandardized_betas = w[:-1] / originanal_stds\n",
    "    unstandardized_bias  = w[-1]-np.sum((original_means / originanal_stds) * w[:-1])\n",
    "    return np.insert(unstandardized_betas, 0, unstandardized_bias), path, k\n",
    "                                  \n",
    "alpha = 0.5\n",
    "w, path, iterations = optimize(X, y, alpha, eta = 10**-5, loss_type=logit_loss, iterations = 100000)\n",
    "print (\"These are our final standardized coefficients: %s\" % w)\n",
    "print (\"Reached after %i iterations\" % (iterations+1))"
   ]
  },
  {
   "cell_type": "markdown",
   "metadata": {},
   "source": [
    "## Scikit-Learn implementations"
   ]
  },
  {
   "cell_type": "code",
   "execution_count": 38,
   "metadata": {
    "collapsed": false
   },
   "outputs": [
    {
     "data": {
      "text/plain": [
       "LogisticRegression(C=10000.0, class_weight=None, dual=False,\n",
       "          fit_intercept=True, intercept_scaling=1, max_iter=100,\n",
       "          multi_class='ovr', n_jobs=1, penalty='l2', random_state=101,\n",
       "          solver='liblinear', tol=1e-25, verbose=0, warm_start=False)"
      ]
     },
     "execution_count": 38,
     "metadata": {},
     "output_type": "execute_result"
    }
   ],
   "source": [
    "from sklearn.linear_model import LogisticRegression\n",
    "\n",
    "# C: Inverse of regularization strength; must be a positive float.\n",
    "# tol: Tolerance for stopping criteria.\n",
    "\n",
    "clf = LogisticRegression(C=1E4, tol=1E-25, random_state=101)\n",
    "clf.fit(X,y)"
   ]
  },
  {
   "cell_type": "code",
   "execution_count": 39,
   "metadata": {
    "collapsed": false
   },
   "outputs": [
    {
     "data": {
      "text/plain": [
       "[0.42991394845314135,\n",
       " 0.067077096874709585,\n",
       " -0.78279576614886781,\n",
       " 0.12208730826867414,\n",
       " 0.28410283693190336,\n",
       " 0.14689340914475546,\n",
       " -0.34143434245188614,\n",
       " 0.050310756492560456,\n",
       " -0.1393205915231476,\n",
       " 0.1126740217378131,\n",
       " -0.47916904027905632]"
      ]
     },
     "execution_count": 39,
     "metadata": {},
     "output_type": "execute_result"
    }
   ],
   "source": [
    "coeffs = [clf.intercept_[0]]\n",
    "coeffs.extend(clf.coef_[0])\n",
    "coeffs"
   ]
  },
  {
   "cell_type": "code",
   "execution_count": 40,
   "metadata": {
    "collapsed": false
   },
   "outputs": [
    {
     "data": {
      "text/plain": [
       "SGDClassifier(alpha=0.0001, average=False, class_weight=None, epsilon=0.1,\n",
       "       eta0=0.0, fit_intercept=True, l1_ratio=0.15,\n",
       "       learning_rate='optimal', loss='log', n_iter=100.0, n_jobs=1,\n",
       "       penalty='l2', power_t=0.5, random_state=101, shuffle=True,\n",
       "       verbose=0, warm_start=False)"
      ]
     },
     "execution_count": 40,
     "metadata": {},
     "output_type": "execute_result"
    }
   ],
   "source": [
    "from sklearn.linear_model import SGDClassifier\n",
    "\n",
    "# alpha: Constant that multiplies the regularization term.\n",
    "# n_iter: The number of passes over the training data (aka epochs).\n",
    "\n",
    "\n",
    "clf = SGDClassifier(loss='log', alpha=1E-4, n_iter=1E2, random_state=101)\n",
    "clf.fit(X,y)"
   ]
  },
  {
   "cell_type": "code",
   "execution_count": 41,
   "metadata": {
    "collapsed": false
   },
   "outputs": [
    {
     "data": {
      "text/plain": [
       "[0.42571117875899561,\n",
       " 0.092754663986175351,\n",
       " -0.78381378869544127,\n",
       " 0.093708745822509473,\n",
       " 0.1675646650527122,\n",
       " 0.10596527209458738,\n",
       " -0.41091578158018643,\n",
       " 0.062219832489940362,\n",
       " -0.19435965629236054,\n",
       " 0.2353120824478212,\n",
       " -0.48793778455042086]"
      ]
     },
     "execution_count": 41,
     "metadata": {},
     "output_type": "execute_result"
    }
   ],
   "source": [
    "coeffs = [clf.intercept_[0]]\n",
    "coeffs.extend(clf.coef_[0])\n",
    "coeffs"
   ]
  },
  {
   "cell_type": "code",
   "execution_count": null,
   "metadata": {
    "collapsed": true
   },
   "outputs": [],
   "source": []
  }
 ],
 "metadata": {
  "kernelspec": {
   "display_name": "Python 3",
   "language": "python",
   "name": "python3"
  },
  "language_info": {
   "codemirror_mode": {
    "name": "ipython",
    "version": 3
   },
   "file_extension": ".py",
   "mimetype": "text/x-python",
   "name": "python",
   "nbconvert_exporter": "python",
   "pygments_lexer": "ipython3",
   "version": "3.5.1"
  }
 },
 "nbformat": 4,
 "nbformat_minor": 0
}
