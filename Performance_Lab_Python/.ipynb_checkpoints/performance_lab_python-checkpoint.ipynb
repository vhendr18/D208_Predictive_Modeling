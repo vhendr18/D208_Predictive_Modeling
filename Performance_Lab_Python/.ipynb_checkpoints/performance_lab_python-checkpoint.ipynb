{
 "cells": [
  {
   "cell_type": "markdown",
   "metadata": {},
   "source": [
    "### Developing the Estimated Multiple Linear Regression Equation\n",
    "Develop the estimated regression equation that could be used to predict the percentage of games won, given the average number of passing yards per attempt and the number of interceptions thrown per attempt. What percentage of variation in the sample values of the percentage of games won does this model explain?"
   ]
  },
  {
   "cell_type": "markdown",
   "metadata": {},
   "source": [
    "### Scenario: \n",
    "The National Football League (NFL) records a variety of performance data for individuals and\n",
    "teams. To investigate the importance of passing on the percentage of games won by a team,\n",
    "the following data show the conference (Conf), an average number of passing yards per\n",
    "attempt (Yds/Att), the number of interceptions thrown per attempt (Int/Att), and the percentage\n",
    "of games won (Win%) for a random sample of 16 NFL teams for the 2011 season (NFL web\n",
    "site)."
   ]
  },
  {
   "cell_type": "code",
   "execution_count": 6,
   "metadata": {},
   "outputs": [],
   "source": [
    "# Import standard libraries\n",
    "import numpy as np\n",
    "import pandas as pd\n",
    "import statsmodels as sm\n",
    "import statsmodels.api as sm"
   ]
  },
  {
   "cell_type": "code",
   "execution_count": 8,
   "metadata": {},
   "outputs": [
    {
     "name": "stdout",
     "output_type": "stream",
     "text": [
      "                            OLS Regression Results                            \n",
      "==============================================================================\n",
      "Dep. Variable:                Win_Pct   R-squared:                       0.752\n",
      "Model:                            OLS   Adj. R-squared:                  0.714\n",
      "Method:                 Least Squares   F-statistic:                     19.76\n",
      "Date:                Mon, 07 Jun 2021   Prob (F-statistic):           0.000114\n",
      "Time:                        10:54:28   Log-Likelihood:                -61.584\n",
      "No. Observations:                  16   AIC:                             129.2\n",
      "Df Residuals:                      13   BIC:                             131.5\n",
      "Df Model:                           2                                         \n",
      "Covariance Type:            nonrobust                                         \n",
      "==============================================================================\n",
      "                 coef    std err          t      P>|t|      [0.025      0.975]\n",
      "------------------------------------------------------------------------------\n",
      "Yds_Att       12.9494      3.186      4.065      0.001       6.067      19.832\n",
      "Int_Att    -1083.7880    357.117     -3.035      0.010   -1855.291    -312.285\n",
      "intercept     -5.7633     27.147     -0.212      0.835     -64.410      52.884\n",
      "==============================================================================\n",
      "Omnibus:                        1.902   Durbin-Watson:                   2.177\n",
      "Prob(Omnibus):                  0.386   Jarque-Bera (JB):                1.098\n",
      "Skew:                          -0.638   Prob(JB):                        0.578\n",
      "Kurtosis:                       2.857   Cond. No.                         800.\n",
      "==============================================================================\n",
      "\n",
      "Warnings:\n",
      "[1] Standard Errors assume that the covariance matrix of the errors is correctly specified.\n"
     ]
    },
    {
     "name": "stderr",
     "output_type": "stream",
     "text": [
      "C:\\Users\\vreed\\anaconda3\\lib\\site-packages\\scipy\\stats\\stats.py:1535: UserWarning: kurtosistest only valid for n>=20 ... continuing anyway, n=16\n",
      "  \"anyway, n=%i\" % int(n))\n"
     ]
    }
   ],
   "source": [
    "NFLPassing = pd.read_csv('data/NFLPassing.csv', index_col=0)\n",
    "NFLPassing['intercept'] = 1\n",
    "lm_passing3 = sm.OLS(NFLPassing['Win_Pct'], NFLPassing[['Yds_Att', 'Int_Att', 'intercept']]).fit()\n",
    "print(lm_passing3.summary())"
   ]
  },
  {
   "cell_type": "code",
   "execution_count": null,
   "metadata": {},
   "outputs": [],
   "source": []
  }
 ],
 "metadata": {
  "kernelspec": {
   "display_name": "Python 3",
   "language": "python",
   "name": "python3"
  },
  "language_info": {
   "codemirror_mode": {
    "name": "ipython",
    "version": 3
   },
   "file_extension": ".py",
   "mimetype": "text/x-python",
   "name": "python",
   "nbconvert_exporter": "python",
   "pygments_lexer": "ipython3",
   "version": "3.7.6"
  },
  "varInspector": {
   "cols": {
    "lenName": 16,
    "lenType": 16,
    "lenVar": 40
   },
   "kernels_config": {
    "python": {
     "delete_cmd_postfix": "",
     "delete_cmd_prefix": "del ",
     "library": "var_list.py",
     "varRefreshCmd": "print(var_dic_list())"
    },
    "r": {
     "delete_cmd_postfix": ") ",
     "delete_cmd_prefix": "rm(",
     "library": "var_list.r",
     "varRefreshCmd": "cat(var_dic_list()) "
    }
   },
   "types_to_exclude": [
    "module",
    "function",
    "builtin_function_or_method",
    "instance",
    "_Feature"
   ],
   "window_display": false
  }
 },
 "nbformat": 4,
 "nbformat_minor": 4
}
