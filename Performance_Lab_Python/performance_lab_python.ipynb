{
 "cells": [
  {
   "cell_type": "markdown",
   "metadata": {},
   "source": [
    "### Scenario 1: \n",
    "The National Football League (NFL) records a variety of performance data for individuals and\n",
    "teams. To investigate the importance of passing on the percentage of games won by a team,\n",
    "the following data show the conference (Conf), an average number of passing yards per\n",
    "attempt (Yds/Att), the number of interceptions thrown per attempt (Int/Att), and the percentage\n",
    "of games won (Win%) for a random sample of 16 NFL teams for the 2011 season (NFL web\n",
    "site)."
   ]
  },
  {
   "cell_type": "markdown",
   "metadata": {},
   "source": [
    "### 1.3.1 Developing the Estimated Multiple Linear Regression Equation\n",
    "Develop the estimated regression equation that could be used to predict the percentage of games won, given the average number of passing yards per attempt and the number of interceptions thrown per attempt. What percentage of variation in the sample values of the percentage of games won does this model explain?"
   ]
  },
  {
   "cell_type": "code",
   "execution_count": 11,
   "metadata": {},
   "outputs": [
    {
     "data": {
      "text/html": [
       "<style>.container { width:75% !important; }</style>"
      ],
      "text/plain": [
       "<IPython.core.display.HTML object>"
      ]
     },
     "metadata": {},
     "output_type": "display_data"
    }
   ],
   "source": [
    "# Increase Jupyter display cell-width\n",
    "from IPython.core.display import display, HTML\n",
    "display(HTML(\"<style>.container { width:75% !important; }</style>\"))"
   ]
  },
  {
   "cell_type": "code",
   "execution_count": 1,
   "metadata": {},
   "outputs": [],
   "source": [
    "# Import standard libraries\n",
    "import numpy as np\n",
    "import pandas as pd\n",
    "import statsmodels as sm\n",
    "import statsmodels.api as sm"
   ]
  },
  {
   "cell_type": "code",
   "execution_count": 8,
   "metadata": {},
   "outputs": [
    {
     "name": "stdout",
     "output_type": "stream",
     "text": [
      "                            OLS Regression Results                            \n",
      "==============================================================================\n",
      "Dep. Variable:                Win_Pct   R-squared:                       0.752\n",
      "Model:                            OLS   Adj. R-squared:                  0.714\n",
      "Method:                 Least Squares   F-statistic:                     19.76\n",
      "Date:                Wed, 09 Jun 2021   Prob (F-statistic):           0.000114\n",
      "Time:                        09:21:44   Log-Likelihood:                -61.584\n",
      "No. Observations:                  16   AIC:                             129.2\n",
      "Df Residuals:                      13   BIC:                             131.5\n",
      "Df Model:                           2                                         \n",
      "Covariance Type:            nonrobust                                         \n",
      "==============================================================================\n",
      "                 coef    std err          t      P>|t|      [0.025      0.975]\n",
      "------------------------------------------------------------------------------\n",
      "Yds_Att       12.9494      3.186      4.065      0.001       6.067      19.832\n",
      "Int_Att    -1083.7880    357.117     -3.035      0.010   -1855.291    -312.285\n",
      "intercept     -5.7633     27.147     -0.212      0.835     -64.410      52.884\n",
      "==============================================================================\n",
      "Omnibus:                        1.902   Durbin-Watson:                   2.177\n",
      "Prob(Omnibus):                  0.386   Jarque-Bera (JB):                1.098\n",
      "Skew:                          -0.638   Prob(JB):                        0.578\n",
      "Kurtosis:                       2.857   Cond. No.                         800.\n",
      "==============================================================================\n",
      "\n",
      "Warnings:\n",
      "[1] Standard Errors assume that the covariance matrix of the errors is correctly specified.\n"
     ]
    },
    {
     "name": "stderr",
     "output_type": "stream",
     "text": [
      "C:\\Users\\vreed\\anaconda3\\lib\\site-packages\\scipy\\stats\\stats.py:1535: UserWarning: kurtosistest only valid for n>=20 ... continuing anyway, n=16\n",
      "  \"anyway, n=%i\" % int(n))\n"
     ]
    }
   ],
   "source": [
    "NFLPassing = pd.read_csv('data/NFLPassing.csv', index_col=0)\n",
    "NFLPassing['intercept'] = 1\n",
    "lm_passing3 = sm.OLS(NFLPassing['Win_Pct'], NFLPassing[['Yds_Att', 'Int_Att', 'intercept']]).fit()\n",
    "print(lm_passing3.summary())"
   ]
  },
  {
   "cell_type": "markdown",
   "metadata": {},
   "source": [
    "### 1.3.2 Developing the Estimated Simple Linear Regression Equation\n",
    "\n",
    "Develop the estimated regression equation that could be used to predict the percentage of\n",
    "games won, given the number of interceptions thrown per attempt. What percentage of\n",
    "variation in the sample values of the percentage of games won does this model explain?"
   ]
  },
  {
   "cell_type": "code",
   "execution_count": 9,
   "metadata": {},
   "outputs": [
    {
     "name": "stdout",
     "output_type": "stream",
     "text": [
      "                            OLS Regression Results                            \n",
      "==============================================================================\n",
      "Dep. Variable:                Win_Pct   R-squared:                       0.438\n",
      "Model:                            OLS   Adj. R-squared:                  0.398\n",
      "Method:                 Least Squares   F-statistic:                     10.91\n",
      "Date:                Wed, 09 Jun 2021   Prob (F-statistic):            0.00524\n",
      "Time:                        09:21:45   Log-Likelihood:                -68.146\n",
      "No. Observations:                  16   AIC:                             140.3\n",
      "Df Residuals:                      14   BIC:                             141.8\n",
      "Df Model:                           1                                         \n",
      "Covariance Type:            nonrobust                                         \n",
      "==============================================================================\n",
      "                 coef    std err          t      P>|t|      [0.025      0.975]\n",
      "------------------------------------------------------------------------------\n",
      "Int_Att    -1600.4909    484.630     -3.303      0.005   -2639.919    -561.063\n",
      "intercept     97.5383     13.862      7.036      0.000      67.808     127.269\n",
      "==============================================================================\n",
      "Omnibus:                        4.086   Durbin-Watson:                   1.272\n",
      "Prob(Omnibus):                  0.130   Jarque-Bera (JB):                2.051\n",
      "Skew:                          -0.846   Prob(JB):                        0.359\n",
      "Kurtosis:                       3.465   Cond. No.                         106.\n",
      "==============================================================================\n",
      "\n",
      "Warnings:\n",
      "[1] Standard Errors assume that the covariance matrix of the errors is correctly specified.\n"
     ]
    },
    {
     "name": "stderr",
     "output_type": "stream",
     "text": [
      "C:\\Users\\vreed\\anaconda3\\lib\\site-packages\\scipy\\stats\\stats.py:1535: UserWarning: kurtosistest only valid for n>=20 ... continuing anyway, n=16\n",
      "  \"anyway, n=%i\" % int(n))\n"
     ]
    }
   ],
   "source": [
    "# Predictor variable -> Interceptions\n",
    "lm_passing2 = sm.OLS(NFLPassing['Win_Pct'], NFLPassing[['Int_Att', 'intercept']]).fit()\n",
    "print(lm_passing2.summary())"
   ]
  },
  {
   "cell_type": "markdown",
   "metadata": {},
   "source": [
    "### 1.3.3 Developing the Estimated Simple Linear Regression Equation\n",
    "Develop the estimated regression equation that could be used to predict the percentage of\n",
    "games won, given the average number of passing yards per attempt. What proportion of\n",
    "variation in the sample values of the percentage of games won does this model explain?"
   ]
  },
  {
   "cell_type": "code",
   "execution_count": 10,
   "metadata": {},
   "outputs": [
    {
     "name": "stdout",
     "output_type": "stream",
     "text": [
      "                            OLS Regression Results                            \n",
      "==============================================================================\n",
      "Dep. Variable:                Win_Pct   R-squared:                       0.577\n",
      "Model:                            OLS   Adj. R-squared:                  0.547\n",
      "Method:                 Least Squares   F-statistic:                     19.11\n",
      "Date:                Wed, 09 Jun 2021   Prob (F-statistic):           0.000639\n",
      "Time:                        09:21:47   Log-Likelihood:                -65.869\n",
      "No. Observations:                  16   AIC:                             135.7\n",
      "Df Residuals:                      14   BIC:                             137.3\n",
      "Df Model:                           1                                         \n",
      "Covariance Type:            nonrobust                                         \n",
      "==============================================================================\n",
      "                 coef    std err          t      P>|t|      [0.025      0.975]\n",
      "------------------------------------------------------------------------------\n",
      "Yds_Att       16.3906      3.750      4.371      0.001       8.348      24.433\n",
      "intercept    -58.7703     26.175     -2.245      0.041    -114.911      -2.630\n",
      "==============================================================================\n",
      "Omnibus:                        0.205   Durbin-Watson:                   2.790\n",
      "Prob(Omnibus):                  0.903   Jarque-Bera (JB):                0.103\n",
      "Skew:                           0.143   Prob(JB):                        0.950\n",
      "Kurtosis:                       2.730   Cond. No.                         47.0\n",
      "==============================================================================\n",
      "\n",
      "Warnings:\n",
      "[1] Standard Errors assume that the covariance matrix of the errors is correctly specified.\n"
     ]
    },
    {
     "name": "stderr",
     "output_type": "stream",
     "text": [
      "C:\\Users\\vreed\\anaconda3\\lib\\site-packages\\scipy\\stats\\stats.py:1535: UserWarning: kurtosistest only valid for n>=20 ... continuing anyway, n=16\n",
      "  \"anyway, n=%i\" % int(n))\n"
     ]
    }
   ],
   "source": [
    "# Predictor variable -> Yards attempted\n",
    "lm_passing = sm.OLS(NFLPassing['Win_Pct'], NFLPassing[['Yds_Att', 'intercept']]).fit()\n",
    "print(lm_passing.summary())"
   ]
  },
  {
   "cell_type": "markdown",
   "metadata": {},
   "source": [
    "### 1.3.4 Using the Estimated Regression\n",
    "\n",
    "The average number of passing yards per attempt for the Kansas City Chiefs during the 2011\n",
    "season was 6.2, and the team's number of interceptions thrown per attempt was 0.036. Use the\n",
    "estimated regression equation developed in the previous part to predict the percentage of\n",
    "games won by the Kansas City Chiefs during the 2011 season. Compare your prediction to the\n",
    "actual percentage of games won by the Kansas City Chiefs. (Note: for the 2011 season the\n",
    "Kansas City Chiefs record was seven wins and nine losses.) Did the estimated regression\n",
    "equation that uses only the average number of passing yards per attempt as the independent\n",
    "variable to predict the percentage of games won provide a good fit?"
   ]
  },
  {
   "cell_type": "code",
   "execution_count": 7,
   "metadata": {},
   "outputs": [
    {
     "name": "stdout",
     "output_type": "stream",
     "text": [
      "35.504431999999994\n"
     ]
    }
   ],
   "source": [
    "# Using the estimated regression equation developed in 1.3, the predicted percentage of games\n",
    "# won by the Kansas City Chiefs for the 2011 season (during which the Kansas City Chiefs\n",
    "# average number of passing yards per attempt was 6.2 and the number of interceptions thrown\n",
    "# per attempt was 0.036) is\n",
    "# Y' = -5.763 + 12.949(6.2) - 1083.788(0.036) = 35.5064 or 35.51%.\n",
    "# During the 2011 season, the Kansas City Chiefs won 43.75% of its games (recall the team's\n",
    "# record for the 2011 season was 7 wins and 9 loses, and so the team performed better than\n",
    "# what we would predict for a team with an average number of passing yards per attempt of 6.2\n",
    "# and number of interceptions thrown per attempt of 0.036).\n",
    "\n",
    "# The estimated simple linear regression equation that uses only the average number of passing\n",
    "# yards per attempt as the independent variable to predict the percentage of games won has a\n",
    "# coefficient of determination of R2 = 0.5771, and the estimated multiple linear regression\n",
    "# equation that uses both the average number of passing yards per attempt and the number of\n",
    "# interceptions thrown per attempt as the independent variable to predict the percentage of\n",
    "# games won has a coefficient of determination of R2 = 0.7525. The multiple linear regression\n",
    "# model fits the data better, as it explains over 17% more variation in the percentage of games\n",
    "# won than did the simple linear regression.\n",
    "\n",
    "\"\"\"Y = B0 + B1X1 - B2X2)\n",
    "where: Y or Win_Pct = ?\n",
    "       B0 = -5.763\n",
    "       X1 or Yds_Att = 6.2 \n",
    "       X2 or Int_Att = 0.036\n",
    "       \"\"\"\n",
    "print(-5.763 + 12.949 * 6.2 - 1083.788 * 0.036)"
   ]
  },
  {
   "cell_type": "markdown",
   "metadata": {},
   "source": [
    "### Scenario 2\n",
    "\n",
    "Johnson Filtration, Inc. provides maintenance service for water filtration systems throughout\n",
    "southern Florida. Customers contact Johnson with requests for maintenance service on their\n",
    "water filtration systems period to estimate the service time and the service calls. Johnson's\n",
    "managers want to predict the repair time necessary for each maintenance request. Hence,\n",
    "repair time in hours is the dependent variable. Repair time is believed to be related to three\n",
    "factors: the number of months since the last maintenance service, the type of repair problem\n",
    "(mechanical or electrical), and the repair person who performs the repair (Donna Newton or\n",
    "Bob Jones). Data for a sample of 10 service calls are reported in the following data file."
   ]
  },
  {
   "cell_type": "markdown",
   "metadata": {},
   "source": [
    "### Testing the Hypotheses of No Relationship Between Repair Time and the Number of Months\n",
    "\n",
    "Before testing the hypotheses of no relationship between repair time and the number of months\n",
    "since the last maintenance service, check the conditions necessary for valid inference in\n",
    "regression. If valid, what is the interpretation of this relationship? What does the coefficient of\n",
    "determination tell you about this model?\n",
    "<br> (Hint: you can use seaborn.scatterplot to graph the comparison of the predictor to the residuals.\n",
    "The residuals should be calculated first from the previous regression model.)"
   ]
  },
  {
   "cell_type": "code",
   "execution_count": null,
   "metadata": {},
   "outputs": [],
   "source": [
    "\"\"\"\n",
    "Y = B0 + B1X1 + B2X2 + B3X3\n",
    "where:  Y or repair time in hours = ?\n",
    "        B0 or y-intercept = 1\n",
    "        X1 = # of months since last maintenance service\n",
    "        X2 = type of repair problem (mechanical or electrical)\n",
    "        X3 = person who performs repair (Donna Newton or Bob Jones)\n",
    "\"\"\"\n",
    "\n",
    "# Because we are working with only 10 observations, assessing the conditions necessary for\n",
    "# inference to be valid in regression is extremely difficult. However, this scatter chart does not\n",
    "# provide strong evidence of a violation of the conditions, so we will proceed with our inference.\n",
    "# Since the level of significance for use in hypothesis testing has not been given, we will use the\n",
    "# standard 0.05 level throughout this problem.\n",
    "# The p-value associated with the estimated regression parameter b1 is 0.0163. Because this pvalue is less than the 0.05 level of significance, we reject the hypothesis that b1 = 0. We\n",
    "# conclude that there is a relationship between repair time and the number of months since the\n",
    "# last maintenance service at the 0.05 level of significance, and our best estimate is that a onemonth increase in the number of months since the last maintenance service corresponds to an\n",
    "# increase of 0.3041 hours in repair time.\n",
    "# The coefficient of determination R2 is 0.5342, so the regression model explains approximately\n",
    "# 53% of the variation in the values of repair time in the sample\n",
    "\n",
    "Repair = pd.read_csv('data/Repair.csv')\n",
    "Repair['intercept'] = 1\n",
    "lm_Repair = sm.OLS(Repair['Repair_time'], Repair[['Months_Last', 'intercept']]).fit()"
   ]
  }
 ],
 "metadata": {
  "kernelspec": {
   "display_name": "Python 3",
   "language": "python",
   "name": "python3"
  },
  "language_info": {
   "codemirror_mode": {
    "name": "ipython",
    "version": 3
   },
   "file_extension": ".py",
   "mimetype": "text/x-python",
   "name": "python",
   "nbconvert_exporter": "python",
   "pygments_lexer": "ipython3",
   "version": "3.7.6"
  },
  "varInspector": {
   "cols": {
    "lenName": 16,
    "lenType": 16,
    "lenVar": 40
   },
   "kernels_config": {
    "python": {
     "delete_cmd_postfix": "",
     "delete_cmd_prefix": "del ",
     "library": "var_list.py",
     "varRefreshCmd": "print(var_dic_list())"
    },
    "r": {
     "delete_cmd_postfix": ") ",
     "delete_cmd_prefix": "rm(",
     "library": "var_list.r",
     "varRefreshCmd": "cat(var_dic_list()) "
    }
   },
   "types_to_exclude": [
    "module",
    "function",
    "builtin_function_or_method",
    "instance",
    "_Feature"
   ],
   "window_display": false
  }
 },
 "nbformat": 4,
 "nbformat_minor": 4
}
