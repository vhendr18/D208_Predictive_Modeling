{
 "cells": [
  {
   "cell_type": "markdown",
   "metadata": {},
   "source": [
    "### Scenario 1: \n",
    "The National Football League (NFL) records a variety of performance data for individuals and\n",
    "teams. To investigate the importance of passing on the percentage of games won by a team,\n",
    "the following data show the conference (Conf), an average number of passing yards per\n",
    "attempt (Yds/Att), the number of interceptions thrown per attempt (Int/Att), and the percentage\n",
    "of games won (Win%) for a random sample of 16 NFL teams for the 2011 season (NFL web\n",
    "site)."
   ]
  },
  {
   "cell_type": "markdown",
   "metadata": {},
   "source": [
    "### 1.3.1 Developing the Estimated Multiple Linear Regression Equation\n",
    "Develop the estimated regression equation that could be used to predict the percentage of games won, given the average number of passing yards per attempt and the number of interceptions thrown per attempt. What percentage of variation in the sample values of the percentage of games won does this model explain?"
   ]
  },
  {
   "cell_type": "code",
   "execution_count": 1,
   "metadata": {},
   "outputs": [
    {
     "data": {
      "text/html": [
       "<style>.container { width:75% !important; }</style>"
      ],
      "text/plain": [
       "<IPython.core.display.HTML object>"
      ]
     },
     "metadata": {},
     "output_type": "display_data"
    }
   ],
   "source": [
    "# Increase Jupyter display cell-width\n",
    "from IPython.core.display import display, HTML\n",
    "display(HTML(\"<style>.container { width:75% !important; }</style>\"))"
   ]
  },
  {
   "cell_type": "code",
   "execution_count": 2,
   "metadata": {},
   "outputs": [],
   "source": [
    "# Import standard libraries\n",
    "import numpy as np\n",
    "import pandas as pd\n",
    "import statsmodels as sm\n",
    "import statsmodels.api as sm\n",
    "import seaborn as sns\n",
    "import matplotlib.pyplot as plt\n",
    "%matplotlib inline"
   ]
  },
  {
   "cell_type": "code",
   "execution_count": 3,
   "metadata": {},
   "outputs": [
    {
     "name": "stdout",
     "output_type": "stream",
     "text": [
      "                            OLS Regression Results                            \n",
      "==============================================================================\n",
      "Dep. Variable:                Win_Pct   R-squared:                       0.762\n",
      "Model:                            OLS   Adj. R-squared:                  0.728\n",
      "Method:                 Least Squares   F-statistic:                     22.41\n",
      "Date:                Sat, 12 Jun 2021   Prob (F-statistic):           4.32e-05\n",
      "Time:                        11:46:25   Log-Likelihood:                -64.918\n",
      "No. Observations:                  17   AIC:                             135.8\n",
      "Df Residuals:                      14   BIC:                             138.3\n",
      "Df Model:                           2                                         \n",
      "Covariance Type:            nonrobust                                         \n",
      "==============================================================================\n",
      "                 coef    std err          t      P>|t|      [0.025      0.975]\n",
      "------------------------------------------------------------------------------\n",
      "Yds_Att       12.9495      3.060      4.232      0.001       6.387      19.512\n",
      "Int_Att    -1083.8187    338.447     -3.202      0.006   -1809.715    -357.923\n",
      "intercept     -5.7637     26.148     -0.220      0.829     -61.847      50.319\n",
      "==============================================================================\n",
      "Omnibus:                        2.294   Durbin-Watson:                   2.003\n",
      "Prob(Omnibus):                  0.318   Jarque-Bera (JB):                1.224\n",
      "Skew:                          -0.657   Prob(JB):                        0.542\n",
      "Kurtosis:                       3.035   Cond. No.                         806.\n",
      "==============================================================================\n",
      "\n",
      "Warnings:\n",
      "[1] Standard Errors assume that the covariance matrix of the errors is correctly specified.\n"
     ]
    },
    {
     "name": "stderr",
     "output_type": "stream",
     "text": [
      "C:\\Users\\vreed\\anaconda3\\lib\\site-packages\\scipy\\stats\\stats.py:1535: UserWarning: kurtosistest only valid for n>=20 ... continuing anyway, n=17\n",
      "  \"anyway, n=%i\" % int(n))\n"
     ]
    }
   ],
   "source": [
    "NFLPassing = pd.read_csv('data/NFLPassing.csv', index_col=0)\n",
    "NFLPassing['intercept'] = 1\n",
    "lm_passing3 = sm.OLS(NFLPassing['Win_Pct'], NFLPassing[['Yds_Att', 'Int_Att', 'intercept']]).fit()\n",
    "print(lm_passing3.summary())"
   ]
  },
  {
   "cell_type": "markdown",
   "metadata": {},
   "source": [
    "### 1.3.2 Developing the Estimated Simple Linear Regression Equation\n",
    "\n",
    "Develop the estimated regression equation that could be used to predict the percentage of\n",
    "games won, given the number of interceptions thrown per attempt. What percentage of\n",
    "variation in the sample values of the percentage of games won does this model explain?"
   ]
  },
  {
   "cell_type": "code",
   "execution_count": 4,
   "metadata": {},
   "outputs": [
    {
     "name": "stdout",
     "output_type": "stream",
     "text": [
      "                            OLS Regression Results                            \n",
      "==============================================================================\n",
      "Dep. Variable:                Win_Pct   R-squared:                       0.457\n",
      "Model:                            OLS   Adj. R-squared:                  0.421\n",
      "Method:                 Least Squares   F-statistic:                     12.65\n",
      "Date:                Sat, 12 Jun 2021   Prob (F-statistic):            0.00287\n",
      "Time:                        11:46:25   Log-Likelihood:                -71.921\n",
      "No. Observations:                  17   AIC:                             147.8\n",
      "Df Residuals:                      15   BIC:                             149.5\n",
      "Df Model:                           1                                         \n",
      "Covariance Type:            nonrobust                                         \n",
      "==============================================================================\n",
      "                 coef    std err          t      P>|t|      [0.025      0.975]\n",
      "------------------------------------------------------------------------------\n",
      "Int_Att    -1625.4170    457.011     -3.557      0.003   -2599.513    -651.321\n",
      "intercept     97.9644     13.295      7.369      0.000      69.628     126.301\n",
      "==============================================================================\n",
      "Omnibus:                        4.280   Durbin-Watson:                   1.368\n",
      "Prob(Omnibus):                  0.118   Jarque-Bera (JB):                2.143\n",
      "Skew:                          -0.813   Prob(JB):                        0.342\n",
      "Kurtosis:                       3.616   Cond. No.                         106.\n",
      "==============================================================================\n",
      "\n",
      "Warnings:\n",
      "[1] Standard Errors assume that the covariance matrix of the errors is correctly specified.\n"
     ]
    }
   ],
   "source": [
    "# Predictor variable -> Interceptions\n",
    "lm_passing2 = sm.OLS(NFLPassing['Win_Pct'], NFLPassing[['Int_Att', 'intercept']]).fit()\n",
    "print(lm_passing2.summary())"
   ]
  },
  {
   "cell_type": "markdown",
   "metadata": {},
   "source": [
    "### 1.3.3 Developing the Estimated Simple Linear Regression Equation\n",
    "Develop the estimated regression equation that could be used to predict the percentage of\n",
    "games won, given the average number of passing yards per attempt. What proportion of\n",
    "variation in the sample values of the percentage of games won does this model explain?"
   ]
  },
  {
   "cell_type": "code",
   "execution_count": 5,
   "metadata": {},
   "outputs": [
    {
     "name": "stdout",
     "output_type": "stream",
     "text": [
      "                            OLS Regression Results                            \n",
      "==============================================================================\n",
      "Dep. Variable:                Win_Pct   R-squared:                       0.588\n",
      "Model:                            OLS   Adj. R-squared:                  0.560\n",
      "Method:                 Least Squares   F-statistic:                     21.38\n",
      "Date:                Sat, 12 Jun 2021   Prob (F-statistic):           0.000331\n",
      "Time:                        11:46:25   Log-Likelihood:                -69.589\n",
      "No. Observations:                  17   AIC:                             143.2\n",
      "Df Residuals:                      15   BIC:                             144.8\n",
      "Df Model:                           1                                         \n",
      "Covariance Type:            nonrobust                                         \n",
      "==============================================================================\n",
      "                 coef    std err          t      P>|t|      [0.025      0.975]\n",
      "------------------------------------------------------------------------------\n",
      "Yds_Att       16.6541      3.602      4.624      0.000       8.977      24.331\n",
      "intercept    -61.0100     24.987     -2.442      0.027    -114.268      -7.752\n",
      "==============================================================================\n",
      "Omnibus:                        0.518   Durbin-Watson:                   2.636\n",
      "Prob(Omnibus):                  0.772   Jarque-Bera (JB):                0.183\n",
      "Skew:                           0.246   Prob(JB):                        0.912\n",
      "Kurtosis:                       2.870   Cond. No.                         47.2\n",
      "==============================================================================\n",
      "\n",
      "Warnings:\n",
      "[1] Standard Errors assume that the covariance matrix of the errors is correctly specified.\n"
     ]
    }
   ],
   "source": [
    "# Predictor variable -> Yards attempted\n",
    "lm_passing = sm.OLS(NFLPassing['Win_Pct'], NFLPassing[['Yds_Att', 'intercept']]).fit()\n",
    "print(lm_passing.summary())"
   ]
  },
  {
   "cell_type": "markdown",
   "metadata": {},
   "source": [
    "### 1.3.4 Using the Estimated Regression\n",
    "\n",
    "The average number of passing yards per attempt for the Kansas City Chiefs during the 2011\n",
    "season was 6.2, and the team's number of interceptions thrown per attempt was 0.036. Use the\n",
    "estimated regression equation developed in the previous part to predict the percentage of\n",
    "games won by the Kansas City Chiefs during the 2011 season. Compare your prediction to the\n",
    "actual percentage of games won by the Kansas City Chiefs. (Note: for the 2011 season the\n",
    "Kansas City Chiefs record was seven wins and nine losses.) Did the estimated regression\n",
    "equation that uses only the average number of passing yards per attempt as the independent\n",
    "variable to predict the percentage of games won provide a good fit?"
   ]
  },
  {
   "cell_type": "code",
   "execution_count": 6,
   "metadata": {},
   "outputs": [
    {
     "name": "stdout",
     "output_type": "stream",
     "text": [
      "35.504431999999994\n"
     ]
    }
   ],
   "source": [
    "# Using the estimated regression equation developed in 1.3, the predicted percentage of games\n",
    "# won by the Kansas City Chiefs for the 2011 season (during which the Kansas City Chiefs\n",
    "# average number of passing yards per attempt was 6.2 and the number of interceptions thrown\n",
    "# per attempt was 0.036) is\n",
    "# Y' = -5.763 + 12.949(6.2) - 1083.788(0.036) = 35.5064 or 35.51%.\n",
    "# During the 2011 season, the Kansas City Chiefs won 43.75% of its games (recall the team's\n",
    "# record for the 2011 season was 7 wins and 9 loses, and so the team performed better than\n",
    "# what we would predict for a team with an average number of passing yards per attempt of 6.2\n",
    "# and number of interceptions thrown per attempt of 0.036).\n",
    "\n",
    "# The estimated simple linear regression equation that uses only the average number of passing\n",
    "# yards per attempt as the independent variable to predict the percentage of games won has a\n",
    "# coefficient of determination of R2 = 0.5771, and the estimated multiple linear regression\n",
    "# equation that uses both the average number of passing yards per attempt and the number of\n",
    "# interceptions thrown per attempt as the independent variable to predict the percentage of\n",
    "# games won has a coefficient of determination of R2 = 0.7525. The multiple linear regression\n",
    "# model fits the data better, as it explains over 17% more variation in the percentage of games\n",
    "# won than did the simple linear regression.\n",
    "\n",
    "\"\"\"Y = B0 + B1X1 - B2X2)\n",
    "where: Y or Win_Pct = ?\n",
    "       B0 = -5.763\n",
    "       X1 or Yds_Att = 6.2 \n",
    "       X2 or Int_Att = 0.036\n",
    "       \"\"\"\n",
    "print(-5.763 + 12.949 * 6.2 - 1083.788 * 0.036)"
   ]
  },
  {
   "cell_type": "markdown",
   "metadata": {},
   "source": [
    "### Scenario 2\n",
    "\n",
    "Johnson Filtration, Inc. provides maintenance service for water filtration systems throughout\n",
    "southern Florida. Customers contact Johnson with requests for maintenance service on their\n",
    "water filtration systems period to estimate the service time and the service calls. Johnson's\n",
    "managers want to predict the repair time necessary for each maintenance request. Hence,\n",
    "repair time in hours is the dependent variable. Repair time is believed to be related to three\n",
    "factors: the number of months since the last maintenance service, the type of repair problem\n",
    "(mechanical or electrical), and the repair person who performs the repair (Donna Newton or\n",
    "Bob Jones). Data for a sample of 10 service calls are reported in the following data file."
   ]
  },
  {
   "cell_type": "markdown",
   "metadata": {},
   "source": [
    "### 2.3.1 Testing the Hypotheses of No Relationship Between Repair Time and the Number of Months\n",
    "\n",
    "Before testing the hypotheses of no relationship between repair time and the number of months\n",
    "since the last maintenance service, check the conditions necessary for valid inference in\n",
    "regression. If valid, what is the interpretation of this relationship? What does the coefficient of\n",
    "determination tell you about this model?\n",
    "<br> (Hint: you can use seaborn.scatterplot to graph the comparison of the predictor to the residuals.\n",
    "The residuals should be calculated first from the previous regression model.)"
   ]
  },
  {
   "cell_type": "code",
   "execution_count": 7,
   "metadata": {},
   "outputs": [
    {
     "name": "stderr",
     "output_type": "stream",
     "text": [
      "findfont: Font family ['sans-serif'] not found. Falling back to DejaVu Sans.\n"
     ]
    },
    {
     "data": {
      "image/png": "[encoded data removed]",
      "text/plain": [
       "<Figure size 840x480 with 1 Axes>"
      ]
     },
     "metadata": {
      "image/png": {
       "height": 438,
       "width": 729
      },
      "needs_background": "dark"
     },
     "output_type": "display_data"
    }
   ],
   "source": [
    "\"\"\"\n",
    "Y = B0 + B1X1 + B2X2 + B3X3\n",
    "where:  Y or repair time in hours = ?\n",
    "        B0 or y-intercept = 1\n",
    "        X1 = # of months since last maintenance service\n",
    "        X2 = type of repair problem (mechanical or electrical)\n",
    "        X3 = person who performs repair (Donna Newton or Bob Jones)\n",
    "\"\"\"\n",
    "\n",
    "# Because we are working with only 10 observations, assessing the conditions necessary for\n",
    "# inference to be valid in regression is extremely difficult. However, this scatter chart does not\n",
    "# provide strong evidence of a violation of the conditions, so we will proceed with our inference.\n",
    "# Since the level of significance for use in hypothesis testing has not been given, we will use the\n",
    "# standard 0.05 level throughout this problem.\n",
    "# The p-value associated with the estimated regression parameter b1 is 0.0163. Because this pvalue is less than the 0.05 level of significance, we reject the hypothesis that b1 = 0. We\n",
    "# conclude that there is a relationship between repair time and the number of months since the\n",
    "# last maintenance service at the 0.05 level of significance, and our best estimate is that a onemonth increase in the number of months since the last maintenance service corresponds to an\n",
    "# increase of 0.3041 hours in repair time.\n",
    "# The coefficient of determination R2 is 0.5342, so the regression model explains approximately\n",
    "# 53% of the variation in the values of repair time in the sample\n",
    "\n",
    "Repair = pd.read_csv('data/Repair.csv')\n",
    "Repair['intercept'] = 1\n",
    "lm_Repair = sm.OLS(Repair['Repair_time'], Repair[['Months_Last', 'intercept']]).fit()\n",
    "residuals = Repair['Repair_time'] - lm_Repair.predict(Repair[['Months_Last', 'intercept']])\n",
    "sns.scatterplot(x=Repair['Repair_time'], y=residuals, color='red')\n",
    "plt.show();"
   ]
  },
  {
   "cell_type": "markdown",
   "metadata": {},
   "source": [
    "### 2.3.2 Developing the Simple Linear Regression Equation\n",
    "Develop the simple linear regression equation to predict repair time given the number of\n",
    "months since the last maintenance service, and use the results to test the hypothesis that no\n",
    "relationship exists between repair time and the number of months since the last maintenance\n",
    "service at the 0.05 level of significance. What is the interpretation of this relationship? What\n",
    "does the coefficient of determination tell you about this model?"
   ]
  },
  {
   "cell_type": "code",
   "execution_count": 8,
   "metadata": {},
   "outputs": [
    {
     "name": "stdout",
     "output_type": "stream",
     "text": [
      "                            OLS Regression Results                            \n",
      "==============================================================================\n",
      "Dep. Variable:            Repair_time   R-squared:                       0.534\n",
      "Model:                            OLS   Adj. R-squared:                  0.476\n",
      "Method:                 Least Squares   F-statistic:                     9.174\n",
      "Date:                Sat, 12 Jun 2021   Prob (F-statistic):             0.0163\n",
      "Time:                        11:49:11   Log-Likelihood:                -10.602\n",
      "No. Observations:                  10   AIC:                             25.20\n",
      "Df Residuals:                       8   BIC:                             25.81\n",
      "Df Model:                           1                                         \n",
      "Covariance Type:            nonrobust                                         \n",
      "===============================================================================\n",
      "                  coef    std err          t      P>|t|      [0.025      0.975]\n",
      "-------------------------------------------------------------------------------\n",
      "Months_Last     0.3041      0.100      3.029      0.016       0.073       0.536\n",
      "intercept       2.1473      0.605      3.549      0.008       0.752       3.542\n",
      "==============================================================================\n",
      "Omnibus:                        0.907   Durbin-Watson:                   2.154\n",
      "Prob(Omnibus):                  0.635   Jarque-Bera (JB):                0.751\n",
      "Skew:                          -0.501   Prob(JB):                        0.687\n",
      "Kurtosis:                       2.107   Cond. No.                         15.1\n",
      "==============================================================================\n",
      "\n",
      "Warnings:\n",
      "[1] Standard Errors assume that the covariance matrix of the errors is correctly specified.\n"
     ]
    },
    {
     "name": "stderr",
     "output_type": "stream",
     "text": [
      "C:\\Users\\vreed\\anaconda3\\lib\\site-packages\\scipy\\stats\\stats.py:1535: UserWarning: kurtosistest only valid for n>=20 ... continuing anyway, n=10\n",
      "  \"anyway, n=%i\" % int(n))\n"
     ]
    }
   ],
   "source": [
    "Repair = pd.read_csv('data/Repair.csv')\n",
    "Repair['intercept'] = 1\n",
    "lm_Repair = sm.OLS(Repair['Repair_time'], Repair[['Months_Last', 'intercept']]).fit()\n",
    "print(lm_Repair.summary())"
   ]
  },
  {
   "cell_type": "markdown",
   "metadata": {},
   "source": [
    "### The estimated simple linear regression equation is Y' = 2.1473 + 0.3041(Months_Last)"
   ]
  },
  {
   "cell_type": "markdown",
   "metadata": {},
   "source": [
    "### 2.3.3 Calculating the Predicted Repair Time & Residual\n",
    "Using the simple linear regression model developed in the previous part, calculate the predicted\n",
    "repair time and residual for each of the 10 repairs in the data. Sort the data in ascending order\n",
    "by the value of the residual. Do you see any pattern in the residuals for the two types of\n",
    "repairs? Do you see any pattern in the residuals for the two repairpersons? Do these results\n",
    "suggest any potential modifications to your simple linear regression model? Now create a\n",
    "scatter chart with months since the last service on the X-axis and repair time and hours on the\n",
    "Y-axis for which the points representing electrical and mechanical repairs are shown in different\n",
    "shapes and or colors. Create a similar scatterplot of months since last service and repair time in\n",
    "hours for which the points representing repairs by Bob Jones or Donna Newton are shown in\n",
    "different shapes and colors. Do these charts and the results of your residual analysis suggest\n",
    "the same potential modification to your simple linear regression model?"
   ]
  },
  {
   "cell_type": "code",
   "execution_count": null,
   "metadata": {},
   "outputs": [],
   "source": [
    "Repair = pd.read_csv('data/Repair.csv')\n",
    "Repair['intercept'] = 1\n",
    "lm_Repair = sm.OLS(Repair['Repair_time'], Repair[['Months_Last', 'intercept']]).fit()\n",
    "residuals = Repair['Repair_time'] - lm_Repair.predict(Repair['Months_Last', 'intercept'])"
   ]
  }
 ],
 "metadata": {
  "kernelspec": {
   "display_name": "Python 3",
   "language": "python",
   "name": "python3"
  },
  "language_info": {
   "codemirror_mode": {
    "name": "ipython",
    "version": 3
   },
   "file_extension": ".py",
   "mimetype": "text/x-python",
   "name": "python",
   "nbconvert_exporter": "python",
   "pygments_lexer": "ipython3",
   "version": "3.7.6"
  },
  "varInspector": {
   "cols": {
    "lenName": 16,
    "lenType": 16,
    "lenVar": 40
   },
   "kernels_config": {
    "python": {
     "delete_cmd_postfix": "",
     "delete_cmd_prefix": "del ",
     "library": "var_list.py",
     "varRefreshCmd": "print(var_dic_list())"
    },
    "r": {
     "delete_cmd_postfix": ") ",
     "delete_cmd_prefix": "rm(",
     "library": "var_list.r",
     "varRefreshCmd": "cat(var_dic_list()) "
    }
   },
   "types_to_exclude": [
    "module",
    "function",
    "builtin_function_or_method",
    "instance",
    "_Feature"
   ],
   "window_display": false
  }
 },
 "nbformat": 4,
 "nbformat_minor": 4
}
