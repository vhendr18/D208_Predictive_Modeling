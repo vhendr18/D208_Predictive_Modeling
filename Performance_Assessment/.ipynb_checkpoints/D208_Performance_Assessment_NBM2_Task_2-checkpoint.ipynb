{
 "cells": [
  {
   "cell_type": "markdown",
   "metadata": {},
   "source": [
    "# <span style=\"color:turquoise\">D208 Performance Assessment NBM2 Task 2</span>\n",
    "## <span style=\"color:turquoise\">Logistic Regression for Predictive Modeling</span>\n",
    "&emsp;Ryan L. Buchanan\n",
    "<br>&emsp;Student ID:  001826691\n",
    "<br>&emsp;Masters Data Analytics (12/01/2020)\n",
    "<br>&emsp;Program Mentor:  Dan Estes\n",
    "<br>&emsp;(385) 432-9281 (MST)\n",
    "<br>&emsp;rbuch49@wgu.edu\n"
   ]
  },
  {
   "cell_type": "markdown",
   "metadata": {},
   "source": [
    "### <span style=\"color:Gold\"><b>Part I: Research Question</b></span>\n",
    "\n",
    "A.  Describe the purpose of this data analysis by doing the following:\n",
    "\n",
    "1.  Summarize one research question that is relevant to a real-world organizational situation captured in the data set you have selected and that you will answer using multiple regression.\n",
    "\n",
    "2.  Define the objectives or goals of the data analysis. Ensure that your objectives or goals are reasonable within the scope of the data dictionary and are represented in the available data."
   ]
  },
  {
   "cell_type": "markdown",
   "metadata": {},
   "source": [
    "### <span style=\"color:green\"><b>A1. Research Question</b>:</span>\n",
    "Which customers are at high risk of churn?  And, which customer features/variables are most significant to churn?"
   ]
  },
  {
   "cell_type": "markdown",
   "metadata": {},
   "source": [
    "### <span style=\"color:green\"><b>A2. Objectives & Goals</b>:</span>\n",
    "Stakeholders in the company will benefit by knowing, with some measure of confidence, which customers are at highest risk of churn because this will provide weight for decisions in marketing improved services to customers with these characteristics and past user experiences."
   ]
  },
  {
   "cell_type": "markdown",
   "metadata": {},
   "source": [
    "### <span style=\"color:Gold\"><b>Part II: Method Justification</b></span>\n",
    "\n",
    "B.  Describe logistic regression methods by doing the following:\n",
    "\n",
    "1.  Summarize the assumptions of a logistic regression model.\n",
    "\n",
    "2.  Describe the benefits of using the tool(s) you have chosen (i.e., Python, R, or both) in support of various phases of the analysis.\n",
    "\n",
    "3.  Explain why logistic regression is an appropriate technique to analyze the research question summarized in Part I."
   ]
  },
  {
   "cell_type": "markdown",
   "metadata": {},
   "source": [
    "### <span style=\"color:green\"><b>B1. Summary of Assumptions</b>:</span>\n",
    "Summarize the assumptions of a logistic regression model.\n",
    "\n",
    "<span style='color:red'>Quoted (so paraphrase) from Fasstrack Webinar Episode 4</span>\n",
    "\n",
    "\"\n",
    "* It is based on the Bernoulli distribution rather than Gaussian because the dependent variable is binary.\n",
    "* The predicted values are restricted to a range of nomial values like 'Yes' 'No', S, M, L.\n",
    "* It predicts the <i>probability</i> of particular outcomes rather than the outcome itself.\n",
    "* It is a logarithm of the odds of achieving 1.\n",
    "\n",
    "\""
   ]
  },
  {
   "cell_type": "markdown",
   "metadata": {},
   "source": [
    "### <span style=\"color:green\"><b>B2. Tool Benefits</b>:</span>\n",
    "Describe the benefits of using the tool(s) you have chosen (i.e., Python, R, or both) in support of various phases of the analysis."
   ]
  },
  {
   "cell_type": "markdown",
   "metadata": {},
   "source": [
    "### <span style=\"color:green\"><b>B3. Appropriate Technique</b>:</span>\n",
    "Explain why logistic regression is an appropriate technique to analyze the research question summarized in Part I."
   ]
  },
  {
   "cell_type": "markdown",
   "metadata": {},
   "source": [
    "### Standard imports"
   ]
  },
  {
   "cell_type": "code",
   "execution_count": null,
   "metadata": {},
   "outputs": [],
   "source": [
    "# Standard data science imports\n",
    "import numpy as np\n",
    "import pandas as pd\n",
    "from pandas import DataFrame\n",
    "\n",
    "# Visualization libraries\n",
    "import seaborn as sns\n",
    "import matplotlib.pyplot as plt\n",
    "%matplotlib inline\n",
    "\n",
    "# Statistics packages\n",
    "import pylab\n",
    "import statsmodels.api as sm\n",
    "import statistics\n",
    "from scipy import stats\n",
    "\n",
    "# Import chisquare from SciPy.stats\n",
    "from scipy.stats import chisquare\n",
    "from scipy.stats import chi2_contingency"
   ]
  },
  {
   "cell_type": "markdown",
   "metadata": {},
   "source": [
    "### <span style=\"color:red\">Ignore Warning Code</span>"
   ]
  },
  {
   "cell_type": "code",
   "execution_count": 1,
   "metadata": {},
   "outputs": [],
   "source": [
    "import warnings\n",
    "warnings.filterwarnings('ignore')"
   ]
  },
  {
   "cell_type": "code",
   "execution_count": null,
   "metadata": {},
   "outputs": [],
   "source": [
    "# Load data set into Pandas dataframe\n",
    "df = pd.read_csv('Data/churn_clean.csv')"
   ]
  },
  {
   "cell_type": "code",
   "execution_count": null,
   "metadata": {},
   "outputs": [],
   "source": [
    "# Rename last 8 survey columns for better description of variables\n",
    "df.rename(columns = {'Item1':'TimelyResponse', \n",
    "                    'Item2':'Fixes', \n",
    "                     'Item3':'Replacements', \n",
    "                     'Item4':'Reliability', \n",
    "                     'Item5':'Options', \n",
    "                     'Item6':'Respectfulness', \n",
    "                     'Item7':'Courteous', \n",
    "                     'Item8':'Listening'}, \n",
    "          inplace=True)"
   ]
  },
  {
   "cell_type": "markdown",
   "metadata": {},
   "source": [
    "### <span style=\"color:Gold\"><b>Part III: Data Preparation</b></span>\n",
    "\n",
    "C.  Summarize the data preparation process for logistic regression analysis by doing the following:\n",
    "\n",
    "1.  Describe your data preparation goals and the data manipulations that will be used to achieve the goals.\n",
    "\n",
    "2.  Discuss the summary statistics, including the target variable and all predictor variables that you will need to gather from the data set to answer the research question.\n",
    "\n",
    "3.  Explain the steps used to prepare the data for the analysis, including the annotated code.\n",
    "\n",
    "4.  Generate univariate and bivariate visualizations of the distributions of variables in the cleaned data set. Include the target variable in your bivariate visualizations.\n",
    "\n",
    "5.  Provide a copy of the prepared data set."
   ]
  },
  {
   "cell_type": "markdown",
   "metadata": {},
   "source": [
    "### <span style=\"color:green\"><b>C1. Data Goals</b>:</span>\n",
    "Describe your data preparation goals and the data manipulations that will be used to achieve the goals."
   ]
  },
  {
   "cell_type": "markdown",
   "metadata": {},
   "source": [
    "### <span style=\"color:green\"><b>C2. Summary Statistics</b>:</span>\n",
    "Discuss the summary statistics, including the target variable and all predictor variables that you will need to gather from the data set to answer the research question."
   ]
  },
  {
   "cell_type": "markdown",
   "metadata": {},
   "source": [
    "### <span style=\"color:green\"><b>C3. Steps to Prepare Data</b>:</span>\n",
    "Explain the steps used to prepare the data for the analysis, including the annotated code."
   ]
  },
  {
   "cell_type": "markdown",
   "metadata": {},
   "source": [
    "### <span style=\"color:green\"><b>C4. Visualizations</b>:</span>\n",
    "Generate univariate and bivariate visualizations of the distributions of variables in the cleaned data set. Include the target variable in your bivariate visualizations."
   ]
  },
  {
   "cell_type": "markdown",
   "metadata": {},
   "source": [
    "### <span style=\"color:green\"><b>C5. Prepared Dataset</b>:</span>\n",
    "Provide a copy of the prepared data set."
   ]
  },
  {
   "cell_type": "code",
   "execution_count": null,
   "metadata": {
    "scrolled": true
   },
   "outputs": [],
   "source": [
    "# Create histograms of contiuous & categorical variables\n",
    "df[['MonthlyCharge', 'Bandwidth_GB_Year', 'TimelyResponse', 'Courteous']].hist()\n",
    "plt.savefig('churn_pyplot.jpg')\n",
    "plt.tight_layout()"
   ]
  },
  {
   "cell_type": "code",
   "execution_count": null,
   "metadata": {},
   "outputs": [],
   "source": [
    "# Create Seaborn boxplots for continuous & categorical variables\n",
    "sns.boxplot('MonthlyCharge', data = df)\n",
    "plt.show()"
   ]
  },
  {
   "cell_type": "code",
   "execution_count": null,
   "metadata": {},
   "outputs": [],
   "source": [
    "sns.boxplot('Bandwidth_GB_Year', data = df)\n",
    "plt.show()"
   ]
  },
  {
   "cell_type": "code",
   "execution_count": null,
   "metadata": {},
   "outputs": [],
   "source": [
    "sns.boxplot('TimelyResponse', data = df)\n",
    "plt.show()"
   ]
  },
  {
   "cell_type": "code",
   "execution_count": null,
   "metadata": {},
   "outputs": [],
   "source": [
    "sns.boxplot('Courteous', data = df)\n",
    "plt.show()"
   ]
  },
  {
   "cell_type": "markdown",
   "metadata": {},
   "source": [
    "### <span style='color:Gold'><b>Part IV: Model Comparison and Analysis</b></span>\n",
    "\n",
    "D.  Compare an initial and a reduced multiple regression model by doing the following:\n",
    "\n",
    "1.  Construct an initial multiple regression model from all predictors that were identified in Part C2.\n",
    "\n",
    "2.  Justify a statistically based variable selection procedure and a model evaluation metric to reduce the initial model in a way that aligns with the research question.\n",
    "\n",
    "3.  Provide a reduced multiple regression model that includes both categorical and continuous variables.\n",
    "\n",
    "\n",
    "\n",
    "<span style='color:red'>Note: The output should include a screenshot of each model.</span>"
   ]
  },
  {
   "cell_type": "markdown",
   "metadata": {},
   "source": [
    "### <span style=\"color:green\"><b>D1. Initial Model</b></span>\n",
    "Construct an initial multiple regression model from all predictors that were identified in Part C2.\n",
    "\n",
    "<span style='color:red'>Note: Clearly state regression equation, for example:</span>\n",
    "\n",
    "<span style='color:red'><b>   \"four indpendent vars: y = -0.878 + 0.01 * Age + 0.31 * Female + 0.22 * Education + 0.09 * Income\"</b></span>\n"
   ]
  },
  {
   "cell_type": "markdown",
   "metadata": {},
   "source": [
    "### <span style=\"color:green\"><b>D2. Justification of Model Reduction</b></span>\n",
    "Justify a statistically based variable selection procedure and a model evaluation metric to reduce the initial model in a way that aligns with the research question."
   ]
  },
  {
   "cell_type": "markdown",
   "metadata": {},
   "source": [
    "### <span style=\"color:green\"><b>D3. Reduced Multiple Regression Model</b></span>\n",
    "Provide a reduced multiple regression model that includes both categorical and continuous variables."
   ]
  },
  {
   "cell_type": "markdown",
   "metadata": {},
   "source": [
    "### <span style='color:Gold'><b>Part IV: E</b></span>\n",
    "E.  Analyze the data set using your reduced multiple regression model by doing the following:\n",
    "\n",
    "1.  Explain your data analysis process by comparing the initial and reduced multiple regression models, including the following elements:\n",
    "<ul>\n",
    "    <li>\n",
    "    the logic of the variable selection technique\n",
    "    </li>\n",
    "    <li>\n",
    "    the model evaluation metric\n",
    "    </li>\n",
    "    <li>\n",
    "    a residual plot\n",
    "    </li>\n",
    "</ul>\n",
    "2.  Provide the output and any calculations of the analysis you performed, including the model’s residual error.\n",
    "\n",
    "\n",
    "\n",
    "<span style='color:red'>Note: The output should include the predictions from the refined model you used to perform the analysis. </span>\n",
    "\n",
    "\n",
    "\n",
    "3.  Provide the code used to support the implementation of the multiple regression models.\n",
    "\n"
   ]
  },
  {
   "cell_type": "markdown",
   "metadata": {},
   "source": [
    "### <span style=\"color:green\"><b>E1. Model Comparison</b></span>\n",
    "Explain your data analysis process by comparing the initial and reduced multiple regression models, including the following elements:\n",
    "<ul>\n",
    "    <li>\n",
    "    the logic of the variable selection technique\n",
    "    </li>\n",
    "    <li>\n",
    "    the model evaluation metric\n",
    "    </li>\n",
    "    <li>\n",
    "    a residual plot\n",
    "    </li>\n",
    "</ul>"
   ]
  },
  {
   "cell_type": "markdown",
   "metadata": {},
   "source": [
    "### <span style=\"color:green\"><b>E2. Output & Calculations</b></span>\n",
    "Provide the output and any calculations of the analysis you performed, including the model’s residual error.\n",
    "\n",
    "\n",
    "\n",
    "<span style='color:red'>Note: The output should include the predictions from the refined model you used to perform the analysis. </span>"
   ]
  },
  {
   "cell_type": "markdown",
   "metadata": {},
   "source": [
    "### <span style=\"color:green\"><b>E3. Code</b></span>\n",
    "Provide the code used to support the implementation of the multiple regression models."
   ]
  },
  {
   "cell_type": "markdown",
   "metadata": {},
   "source": [
    "### <span style='color:Gold'><b>Part V: Data Summary and Implications</b></span>\n",
    "\n",
    "F.  Summarize your findings and assumptions by doing the following:\n",
    "\n",
    "1.  Discuss the results of your data analysis, including the following elements:\n",
    "<ul>\n",
    "    <li>\n",
    "    a regression equation for the reduced model\n",
    "    </li>\n",
    "    <li>\n",
    "    an interpretation of coefficients of the statistically significant variables of the model\n",
    "    </li>\n",
    "    <li>\n",
    "    the statistical and practical significance of the model\n",
    "    </li>\n",
    "    <li>\n",
    "    the limitations of the data analysis\n",
    "    </li>\n",
    "</ul>\n",
    "2.  Recommend a course of action based on your results."
   ]
  },
  {
   "cell_type": "markdown",
   "metadata": {},
   "source": [
    "### <span style=\"color:green\"><b>F1. Results</b></span>\n",
    " Discuss the results of your data analysis, including the following elements:\n",
    "<ul>\n",
    "    <li>\n",
    "    a regression equation for the reduced model\n",
    "    </li>\n",
    "    <li>\n",
    "    an interpretation of coefficients of the statistically significant variables of the model\n",
    "    </li>\n",
    "    <li>\n",
    "    the statistical and practical significance of the model\n",
    "    </li>\n",
    "    <li>\n",
    "    the limitations of the data analysis\n",
    "    </li>\n",
    "</ul>"
   ]
  },
  {
   "cell_type": "markdown",
   "metadata": {},
   "source": [
    "### <span style=\"color:green\"><b>F2. Recommendations</b></span>\n",
    "Recommend a course of action based on your results."
   ]
  },
  {
   "cell_type": "markdown",
   "metadata": {},
   "source": [
    "### <span style='color:Gold'><b>Part VI: Demonstration</b></span>\n",
    "\n",
    "G.  Provide a Panopto video recording that includes all of the following elements:\n",
    "\n",
    "•  a demonstration of the functionality of the code used for the analysis\n",
    "\n",
    "•  an identification of the version of the programming environment\n",
    "\n",
    "•  a comparison of the two multiple regression models you used in your analysis\n",
    "\n",
    "•  an interpretation of the coefficients.\n",
    "\n"
   ]
  },
  {
   "cell_type": "markdown",
   "metadata": {},
   "source": [
    "### <span style=\"color:green\"><b>G. Video</b></span>\n",
    "<span style=\"color:red\">link</span>"
   ]
  },
  {
   "cell_type": "markdown",
   "metadata": {},
   "source": [
    "### <span style=\"color:green\">H. Sources for Third-Party Code</span>\n",
    "\n",
    "Kaggle. (2018, May 01). Bivariate plotting with pandas. Kaggle. https://www.kaggle.com/residentmario/bivariate-plotting-with-pandas#\n",
    "\n",
    "<br> Sree. &ensp; (2020, October 26). &ensp; <i>Predict Customer Churn in Python.</i> &ensp; Towards Data Science. https://towardsdatascience.com/predict-customer-churn-in-python-e8cd6d3aaa7\n",
    "\n",
    "<br> Wikipedia. (2021, May 31). Bivariate Analysis. https://en.wikipedia.org/wiki/Bivariate_analysis#:~:text=Bivariate%20analysis%20is%20one%20of,the%20empirical%20relationship%20between%20them.&text=Like%20univariate%20analysis%2C%20bivariate%20analysis%20can%20be%20descriptive%20or%20inferential."
   ]
  },
  {
   "cell_type": "markdown",
   "metadata": {},
   "source": [
    "### <span style=\"color:green\">I. Sources</span>\n",
    "\n",
    "Ahmad, A. K., Jafar, A & Aljoumaa, K. &ensp; (2019, March 20). &ensp; <i>Customer churn prediction in telecom using machine learning in big data platform</i>. &ensp; Journal of Big Data. https://journalofbigdata.springeropen.com/articles/10.1186/s40537-019-0191-6\n",
    "\n",
    "<br> Altexsoft. &ensp; (2019, March 27). &ensp; <i>Customer Churn Prediction Using Machine Learning: Main Approaches and Models</i>. Altexsoft. https://www.altexsoft.com/blog/business/customer-churn-prediction-for-subscription-businesses-using-machine-learning-main-approaches-and-models/\n",
    "\n",
    "<br> Bruce, P., Bruce A. & Gedeck P. (2020). Practical Statistics for Data Scientists. O'Reilly.\n",
    "\n",
    "<br> Freedman, D. Pisani, R. & Purves, R. (2018). Statistics. W. W. Norton & Company, Inc. \n",
    "\n",
    "<br> Frohbose, F. &ensp; (2020, November 24). &ensp; <i>Machine Learning Case Study: Telco Customer Churn Prediction</i>.  Towards Data Science. https://towardsdatascience.com/machine-learning-case-study-telco-customer-churn-prediction-bc4be03c9e1d\n",
    "\n",
    "<br> Griffiths, D. (2009). A Brain-Friendly Guide: Head First Statistics. O'Reilly.\n",
    "\n",
    "<br> NIH. (2020). National Library of Medicine. https://www.nlm.nih.gov/nichsr/stats_tutorial/section2/mod11_significance.html#:~:text=In%20statistical%20tests%2C%20statistical%20significance,set%20to%200.05%20(5%25).\n",
    "\n",
    "<br> P-Values. (2020). StatsDirect Limited. https://www.statsdirect.com/help/basics/p_values.htm"
   ]
  },
  {
   "cell_type": "code",
   "execution_count": null,
   "metadata": {},
   "outputs": [],
   "source": [
    "!wget -nc https://raw.githubusercontent.com/brpy/colab-pdf/master/colab_pdf.py\n",
    "from colab_pdf import colab_pdf\n",
    "colab_pdf('D208_Performance_Assessment_NBM2_Task_1.ipynb')"
   ]
  }
 ],
 "metadata": {
  "kernelspec": {
   "display_name": "Python 3",
   "language": "python",
   "name": "python3"
  },
  "language_info": {
   "codemirror_mode": {
    "name": "ipython",
    "version": 3
   },
   "file_extension": ".py",
   "mimetype": "text/x-python",
   "name": "python",
   "nbconvert_exporter": "python",
   "pygments_lexer": "ipython3",
   "version": "3.7.6"
  },
  "varInspector": {
   "cols": {
    "lenName": 16,
    "lenType": 16,
    "lenVar": 40
   },
   "kernels_config": {
    "python": {
     "delete_cmd_postfix": "",
     "delete_cmd_prefix": "del ",
     "library": "var_list.py",
     "varRefreshCmd": "print(var_dic_list())"
    },
    "r": {
     "delete_cmd_postfix": ") ",
     "delete_cmd_prefix": "rm(",
     "library": "var_list.r",
     "varRefreshCmd": "cat(var_dic_list()) "
    }
   },
   "types_to_exclude": [
    "module",
    "function",
    "builtin_function_or_method",
    "instance",
    "_Feature"
   ],
   "window_display": false
  }
 },
 "nbformat": 4,
 "nbformat_minor": 4
}
