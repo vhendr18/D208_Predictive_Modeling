{
 "cells": [
  {
   "cell_type": "markdown",
   "metadata": {},
   "source": [
    "# <span style=\"color:turquoise\">Performance Assessment NBM2 Task 1| D208 Predictive Modeling\n",
    "&emsp;Ryan L. Buchanan\n",
    "<br>&emsp;Student ID:  001826691\n",
    "<br>&emsp;Masters Data Analytics (12/01/2020)\n",
    "<br>&emsp;Program Mentor:  Dan Estes\n",
    "<br>&emsp;(385) 432-9281 (MST)\n",
    "<br>&emsp;rbuch49@wgu.edu\n",
    "</span>"
   ]
  },
  {
   "cell_type": "markdown",
   "metadata": {},
   "source": [
    "### <span style=\"color:Gold\"><b>Part I: Research Question</b></span>\n",
    "\n",
    "A.  Describe the purpose of this data analysis by doing the following:\n",
    "\n",
    "1.  Summarize one research question that is relevant to a real-world organizational situation captured in the data set you have selected and that you will answer using multiple regression.\n",
    "\n",
    "2.  Define the objectives or goals of the data analysis. Ensure that your objectives or goals are reasonable within the scope of the data dictionary and are represented in the available data."
   ]
  },
  {
   "cell_type": "markdown",
   "metadata": {},
   "source": [
    "### <span style=\"color:green\"><b>A1. Question for Analysis</b>:</span>\n",
    "Which customers are at high risk of churn?  And, which customer features/variables are most significant to churn?"
   ]
  },
  {
   "cell_type": "markdown",
   "metadata": {},
   "source": [
    "### <span style=\"color:green\"><b>A2. Benefit from Analysis</b>:</span>\n",
    "Stakeholders in the company will benefit by knowing, with some measure of confidence, which customers are at highest risk of churn because this will provide weight for decisions in marketing improved services to customers with these characteristics and past user experiences."
   ]
  },
  {
   "cell_type": "markdown",
   "metadata": {},
   "source": [
    "### <span style=\"color:green\"><b>A3. Data Identification</b>:</span>\n",
    "Most relevant to our decision making process is the dependent variable of \"Churn\" which is binary categorical with only two values, \"Yes\" or \"No\".  In cleaning the data, we discovered relevance of the continuous numerical data columns \"Tenure\" (the number of months the customer has stayed with the provider), \"MonthlyCharge\" (the average monthly charge to the customer) & \"Bandwidth_GB_Year\" (the average yearly amount of data used, in GB, per customer).  Finally, the discrete numerical data from the survey responses from customers regarding various customer service features is relevant in the decision-making process.  In the surveys, customers provided ordinal numerical data by rating 8 customer service factors (\"timely response\", \"timely fixes\", \"timely replacements\", \"reliability\", \"options\", \"respectful response\", \"courteous exchange\" & \"evidence of active listening\") on a scale of 1 to 8 (1 = most important, 8 = least important)."
   ]
  },
  {
   "cell_type": "markdown",
   "metadata": {},
   "source": [
    "### <span style=\"color:green\"><b>B1. Code</b>:</span>\n",
    "Chi-square testing will be used."
   ]
  },
  {
   "cell_type": "markdown",
   "metadata": {},
   "source": [
    "### Standard imports"
   ]
  },
  {
   "cell_type": "code",
   "execution_count": null,
   "metadata": {},
   "outputs": [],
   "source": [
    "# Standard data science imports\n",
    "import numpy as np\n",
    "import pandas as pd\n",
    "from pandas import DataFrame\n",
    "\n",
    "# Visualization libraries\n",
    "import seaborn as sns\n",
    "import matplotlib.pyplot as plt\n",
    "%matplotlib inline\n",
    "\n",
    "# Statistics packages\n",
    "import pylab\n",
    "import statsmodels.api as sm\n",
    "import statistics\n",
    "from scipy import stats\n",
    "\n",
    "# Import chisquare from SciPy.stats\n",
    "from scipy.stats import chisquare\n",
    "from scipy.stats import chi2_contingency"
   ]
  },
  {
   "cell_type": "code",
   "execution_count": null,
   "metadata": {},
   "outputs": [],
   "source": [
    "# Load data set into Pandas dataframe\n",
    "df = pd.read_csv('Data/churn_clean.csv')"
   ]
  },
  {
   "cell_type": "code",
   "execution_count": null,
   "metadata": {},
   "outputs": [],
   "source": [
    "# Rename last 8 survey columns for better description of variables\n",
    "df.rename(columns = {'Item1':'TimelyResponse', \n",
    "                    'Item2':'Fixes', \n",
    "                     'Item3':'Replacements', \n",
    "                     'Item4':'Reliability', \n",
    "                     'Item5':'Options', \n",
    "                     'Item6':'Respectfulness', \n",
    "                     'Item7':'Courteous', \n",
    "                     'Item8':'Listening'}, \n",
    "          inplace=True)"
   ]
  },
  {
   "cell_type": "code",
   "execution_count": null,
   "metadata": {
    "scrolled": true
   },
   "outputs": [],
   "source": [
    "contingency = pd.crosstab(df['Churn'], df['TimelyResponse'])\n",
    "contingency"
   ]
  },
  {
   "cell_type": "code",
   "execution_count": null,
   "metadata": {},
   "outputs": [],
   "source": [
    "contingency_pct = pd.crosstab(df['Churn'], df['TimelyResponse'], normalize='index')\n",
    "contingency_pct"
   ]
  },
  {
   "cell_type": "code",
   "execution_count": null,
   "metadata": {
    "scrolled": true
   },
   "outputs": [],
   "source": [
    "plt.figure(figsize=(12,8))\n",
    "sns.heatmap(contingency, annot=True, cmap=\"YlGnBu\")"
   ]
  },
  {
   "cell_type": "markdown",
   "metadata": {},
   "source": [
    "### <span style=\"color:green\"><b>B2. Output</b>:</span>"
   ]
  },
  {
   "cell_type": "code",
   "execution_count": null,
   "metadata": {},
   "outputs": [],
   "source": [
    "# Chi-square test of independence\n",
    "c, p, dof, expected = chi2_contingency(contingency)\n",
    "print('p-value = ' + str(p))"
   ]
  },
  {
   "cell_type": "markdown",
   "metadata": {},
   "source": [
    "### <span style=\"color:green\"><b>B3. Justification</b>:</span>\n",
    "In this analysis, we are looking at churn from a telecom company (\"Did customers stay with or leave the company?\").  \"Churn\" is a binomial, categorical dependent variable.  Therefore, we will use chi-square testing as it is a non-parametric test for this \"yes/no\" target variable.  Our other categorical variable, \"TimelyResponse\", is at the ordinal level."
   ]
  },
  {
   "cell_type": "markdown",
   "metadata": {},
   "source": [
    "### <span style=\"color:green\"><b>C. Univariate Statistics</b>:</span>\n"
   ]
  },
  {
   "cell_type": "markdown",
   "metadata": {},
   "source": [
    "Two continuous variables:  \n",
    "    1. MonthlyCharge\n",
    "    2. Bandwidth_GB_Year\n",
    "Two categorical (ordinal) variables:\n",
    "    1. Item1 (Timely response) - relabeled \"TimelyResponse\"\n",
    "    2. Item7 (Courteous exchange) - relabeled \"Courteous\" "
   ]
  },
  {
   "cell_type": "code",
   "execution_count": null,
   "metadata": {},
   "outputs": [],
   "source": [
    "df.describe()"
   ]
  },
  {
   "cell_type": "markdown",
   "metadata": {},
   "source": [
    "### <span style=\"color:green\"><b>C1. Visual of Findings</b>:</span>\n"
   ]
  },
  {
   "cell_type": "code",
   "execution_count": null,
   "metadata": {
    "scrolled": true
   },
   "outputs": [],
   "source": [
    "# Create histograms of contiuous & categorical variables\n",
    "df[['MonthlyCharge', 'Bandwidth_GB_Year', 'TimelyResponse', 'Courteous']].hist()\n",
    "plt.savefig('churn_pyplot.jpg')\n",
    "plt.tight_layout()"
   ]
  },
  {
   "cell_type": "code",
   "execution_count": null,
   "metadata": {},
   "outputs": [],
   "source": [
    "# Create Seaborn boxplots for continuous & categorical variables\n",
    "sns.boxplot('MonthlyCharge', data = df)\n",
    "plt.show()"
   ]
  },
  {
   "cell_type": "code",
   "execution_count": null,
   "metadata": {},
   "outputs": [],
   "source": [
    "sns.boxplot('Bandwidth_GB_Year', data = df)\n",
    "plt.show()"
   ]
  },
  {
   "cell_type": "code",
   "execution_count": null,
   "metadata": {},
   "outputs": [],
   "source": [
    "sns.boxplot('TimelyResponse', data = df)\n",
    "plt.show()"
   ]
  },
  {
   "cell_type": "code",
   "execution_count": null,
   "metadata": {},
   "outputs": [],
   "source": [
    "sns.boxplot('Courteous', data = df)\n",
    "plt.show()"
   ]
  },
  {
   "cell_type": "markdown",
   "metadata": {},
   "source": [
    "### <span style=\"color:green\"><b>D. Bivariate Statistics</b></span>\n"
   ]
  },
  {
   "cell_type": "markdown",
   "metadata": {},
   "source": [
    "Two continuous variables:  \n",
    "    1. MonthlyCharge\n",
    "    2. Bandwidth_GB_Year\n",
    "Two categorical (binomial & ordinal, respectively) variables:\n",
    "    1. Churn\n",
    "    2. Item7 (Courteous exchange) - relabeled \"Courteous\" "
   ]
  },
  {
   "cell_type": "markdown",
   "metadata": {},
   "source": [
    "### <span style=\"color:green\"><b>D1. Visual of Findings</b>:</span>\n"
   ]
  },
  {
   "cell_type": "code",
   "execution_count": null,
   "metadata": {},
   "outputs": [],
   "source": [
    "# Create dataframe for heatmap bivariate analysis of correlation\n",
    "churn_bivariate = df[['MonthlyCharge', 'Bandwidth_GB_Year', 'TimelyResponse', 'Courteous']]"
   ]
  },
  {
   "cell_type": "code",
   "execution_count": null,
   "metadata": {
    "scrolled": true
   },
   "outputs": [],
   "source": [
    "sns.heatmap(churn_bivariate.corr(), annot=True)\n",
    "plt.show()"
   ]
  },
  {
   "cell_type": "code",
   "execution_count": null,
   "metadata": {},
   "outputs": [],
   "source": [
    "# Create a scatter plot of continuous variables MonthlyCharge & Bandwidth_GB_Year\n",
    "churn_bivariate[churn_bivariate['MonthlyCharge'] < 300].sample(100).plot.scatter(x='MonthlyCharge', \n",
    "                                                                                 y='Bandwidth_GB_Year')\n",
    "\n",
    "# Create a scatter plot of categorical variables TimelyResponse & Courteous\n",
    "churn_bivariate[churn_bivariate['TimelyResponse'] < 7].sample(100).plot.scatter(x='TimelyResponse', \n",
    "                                                                                 y='Courteous')"
   ]
  },
  {
   "cell_type": "code",
   "execution_count": null,
   "metadata": {},
   "outputs": [],
   "source": [
    "churn_bivariate[churn_bivariate['MonthlyCharge'] < 300].plot.hexbin(x='MonthlyCharge', y='Bandwidth_GB_Year', gridsize=15)"
   ]
  },
  {
   "cell_type": "markdown",
   "metadata": {},
   "source": [
    "### <span style=\"color:green\"><b>E1. Results of Analysis</b></span>\n",
    "With a p-value as large as our output from our chi-square significance testing, p-value = 0.6318335816054494, we cannot reject the null hypothesis at a standard significance level of alpha = 0.05. It is unclear given the cleaned data available whether there is a statistically significant relationship between the survey responses (essentially, \"How well did we the telecom company take care of you as a customer?\") & whether or not this caused customers to leave the company."
   ]
  },
  {
   "cell_type": "markdown",
   "metadata": {},
   "source": [
    "### <span style=\"color:green\"><b>E2. Limitations of Analysis</b>:</span>\n",
    "Clearly, with a p-value that is so high, p-value = 0.6318335816054494, we need to investigate further & perhaps gather more & better data.  It is troubling that this dataset has been so limited in our ability to gather meaningful & actionable information."
   ]
  },
  {
   "cell_type": "markdown",
   "metadata": {},
   "source": [
    "### <span style=\"color:green\"><b>E3. Recommended Course of Action</b>:</span>\n",
    "While tests show very little correlation & perhaps no linear relations between the variables involved in timely action with regard to customer satisfaction (TimelyResponses, Fixes, Replacements & Respectfulness), we believe that these elements should be given greater emphasis and hopefully help reduce the churn rate from the large number of 27% & \"increase the retention period of customers\" by targeting more resources in the direction prompt customer service (Ahmad, 2019, p. 1). Again, this seems an intuitive result but now decision-makers in the company of reasonable verification of what might have been a \"hunch\"."
   ]
  },
  {
   "cell_type": "markdown",
   "metadata": {},
   "source": [
    "### <span style=\"color:green\"><b>F. Video</b></span>\n",
    "<span style=\"color:red\">https://wgu.hosted.panopto.com/Panopto/Pages/Sessions/List.aspx#folderID=%2237a1d719-eece-4cea-949f-ac7201896b42%22</span>"
   ]
  },
  {
   "cell_type": "markdown",
   "metadata": {},
   "source": [
    "### <span style=\"color:green\">G. Sources for Third-Party Code</span>\n",
    "\n",
    "Kaggle. (2018, May 01). Bivariate plotting with pandas. Kaggle. https://www.kaggle.com/residentmario/bivariate-plotting-with-pandas#\n",
    "\n",
    "<br> Sree. &ensp; (2020, October 26). &ensp; <i>Predict Customer Churn in Python.</i> &ensp; Towards Data Science. https://towardsdatascience.com/predict-customer-churn-in-python-e8cd6d3aaa7\n",
    "\n",
    "<br> Wikipedia. (2021, May 31). Bivariate Analysis. https://en.wikipedia.org/wiki/Bivariate_analysis#:~:text=Bivariate%20analysis%20is%20one%20of,the%20empirical%20relationship%20between%20them.&text=Like%20univariate%20analysis%2C%20bivariate%20analysis%20can%20be%20descriptive%20or%20inferential."
   ]
  },
  {
   "cell_type": "markdown",
   "metadata": {},
   "source": [
    "### <span style=\"color:green\">H. Sources</span>\n",
    "\n",
    "Ahmad, A. K., Jafar, A & Aljoumaa, K. &ensp; (2019, March 20). &ensp; <i>Customer churn prediction in telecom using machine learning in big data platform</i>. &ensp; Journal of Big Data. https://journalofbigdata.springeropen.com/articles/10.1186/s40537-019-0191-6\n",
    "\n",
    "<br> Altexsoft. &ensp; (2019, March 27). &ensp; <i>Customer Churn Prediction Using Machine Learning: Main Approaches and Models</i>. Altexsoft. https://www.altexsoft.com/blog/business/customer-churn-prediction-for-subscription-businesses-using-machine-learning-main-approaches-and-models/\n",
    "\n",
    "<br> Bruce, P., Bruce A. & Gedeck P. (2020). Practical Statistics for Data Scientists. O'Reilly.\n",
    "\n",
    "<br> Freedman, D. Pisani, R. & Purves, R. (2018). Statistics. W. W. Norton & Company, Inc. \n",
    "\n",
    "<br> Frohbose, F. &ensp; (2020, November 24). &ensp; <i>Machine Learning Case Study: Telco Customer Churn Prediction</i>.  Towards Data Science. https://towardsdatascience.com/machine-learning-case-study-telco-customer-churn-prediction-bc4be03c9e1d\n",
    "\n",
    "<br> Griffiths, D. (2009). A Brain-Friendly Guide: Head First Statistics. O'Reilly.\n",
    "\n",
    "<br> NIH. (2020). National Library of Medicine. https://www.nlm.nih.gov/nichsr/stats_tutorial/section2/mod11_significance.html#:~:text=In%20statistical%20tests%2C%20statistical%20significance,set%20to%200.05%20(5%25).\n",
    "\n",
    "<br> P-Values. (2020). StatsDirect Limited. https://www.statsdirect.com/help/basics/p_values.htm"
   ]
  },
  {
   "cell_type": "code",
   "execution_count": null,
   "metadata": {},
   "outputs": [],
   "source": [
    "!wget -nc https://raw.githubusercontent.com/brpy/colab-pdf/master/colab_pdf.py\n",
    "from colab_pdf import colab_pdf\n",
    "colab_pdf('D207_Performance_Assessment.ipynb')"
   ]
  }
 ],
 "metadata": {
  "kernelspec": {
   "display_name": "Python 3",
   "language": "python",
   "name": "python3"
  },
  "language_info": {
   "codemirror_mode": {
    "name": "ipython",
    "version": 3
   },
   "file_extension": ".py",
   "mimetype": "text/x-python",
   "name": "python",
   "nbconvert_exporter": "python",
   "pygments_lexer": "ipython3",
   "version": "3.7.6"
  },
  "varInspector": {
   "cols": {
    "lenName": 16,
    "lenType": 16,
    "lenVar": 40
   },
   "kernels_config": {
    "python": {
     "delete_cmd_postfix": "",
     "delete_cmd_prefix": "del ",
     "library": "var_list.py",
     "varRefreshCmd": "print(var_dic_list())"
    },
    "r": {
     "delete_cmd_postfix": ") ",
     "delete_cmd_prefix": "rm(",
     "library": "var_list.r",
     "varRefreshCmd": "cat(var_dic_list()) "
    }
   },
   "types_to_exclude": [
    "module",
    "function",
    "builtin_function_or_method",
    "instance",
    "_Feature"
   ],
   "window_display": false
  }
 },
 "nbformat": 4,
 "nbformat_minor": 4
}
