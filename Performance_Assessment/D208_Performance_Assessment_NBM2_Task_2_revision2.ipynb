{
  "nbformat": 4,
  "nbformat_minor": 0,
  "metadata": {
    "kernelspec": {
      "display_name": "Python 3",
      "language": "python",
      "name": "python3"
    },
    "language_info": {
      "codemirror_mode": {
        "name": "ipython",
        "version": 3
      },
      "file_extension": ".py",
      "mimetype": "text/x-python",
      "name": "python",
      "nbconvert_exporter": "python",
      "pygments_lexer": "ipython3",
      "version": "3.7.6"
    },
    "varInspector": {
      "cols": {
        "lenName": 16,
        "lenType": 16,
        "lenVar": 40
      },
      "kernels_config": {
        "python": {
          "delete_cmd_postfix": "",
          "delete_cmd_prefix": "del ",
          "library": "var_list.py",
          "varRefreshCmd": "print(var_dic_list())"
        },
        "r": {
          "delete_cmd_postfix": ") ",
          "delete_cmd_prefix": "rm(",
          "library": "var_list.r",
          "varRefreshCmd": "cat(var_dic_list()) "
        }
      },
      "types_to_exclude": [
        "module",
        "function",
        "builtin_function_or_method",
        "instance",
        "_Feature"
      ],
      "window_display": false
    },
    "colab": {
      "name": "D208_Performance_Assessment_NBM2_Task_2_revision2.ipynb",
      "provenance": [],
      "collapsed_sections": [
        "P6SkIoP6vv2P",
        "kdQySbqPvv2T",
        "sS7m0Hskvv2T"
      ]
    }
  },
  "cells": [
    {
      "cell_type": "markdown",
      "metadata": {
        "id": "VAlIxlCovv1-"
      },
      "source": [
        "#### <span style=\"color:turquoise\"><b>Logistic Regression for Predictive Modeling</b></span>\n",
        "<br>\n",
        "<ul>\n",
        "<li>Ryan L. Buchanan</li>\n",
        "<li>Student ID:  001826691</li>\n",
        "<li>Masters Data Analytics (12/01/2020)</li>\n",
        "<li>Program Mentor:  Dan Estes</li>\n",
        "<li>385-432-9281 (MST)</li>\n",
        "<li>rbuch49@wgu.edu</li>\n",
        "</ul>"
      ]
    },
    {
      "cell_type": "markdown",
      "metadata": {
        "id": "kFEmnRMHvv2B"
      },
      "source": [
        "#### <span style=\"color:green\"><b>A1. Research Question</b>:</span>\n",
        "Can we determine which individual customers are at high risk of churn? &nbsp; And, can we determine which features are most significant to churn?"
      ]
    },
    {
      "cell_type": "markdown",
      "metadata": {
        "id": "I_LdtRqfvv2C"
      },
      "source": [
        "#### <span style=\"color:green\"><b>A2. Objectives & Goals</b>:</span>\n",
        "&emsp; Stakeholders in the company will benefit by knowing, with some measure of confidence, which customers are likely to churn soon. &nbsp; This knowledge will provide weight for decisions in marketing improved services to customers with these characteristics & past user experiences."
      ]
    },
    {
      "cell_type": "markdown",
      "metadata": {
        "id": "BeRqzSlKvv2C"
      },
      "source": [
        "#### <span style=\"color:green\"><b>B1. Summary of Assumptions</b>:</span>\n",
        "Assumptions of a logistic regression model include:\n",
        "\n",
        "* It is based on Bernoulli (also, Binomial or Boolean) Distribution rather than Gaussian because the dependent variable is binary (in our dataset, to churn or not to churn).\n",
        "* The predicted values are restricted to a range of nomial values: Yes or No.\n",
        "* It predicts the probability of a particular outcome rather than the outcome itself.\n",
        "* There are no high correlations (multicollinearity) among predictors.\n",
        "* It is the logarithm of the odds of achieving 1. &nbsp; In other words, a regression model, where the output is natural logarithm of the odds, also known as logit."
      ]
    },
    {
      "cell_type": "markdown",
      "metadata": {
        "id": "kYZPSPTNvv2D"
      },
      "source": [
        "#### <span style=\"color:green\"><b>B2. Tool Benefits</b>:</span>\n",
        "&emsp; Python & IPython Jupyter notebooks will be used to support this analysis. &nbsp; Python offers an intuitive, simple & versatile programming style & syntax, as well as a large system of mature packages for data science & machine learning. &nbsp; Since, Python is cross-platform, it will work well whether consumers of the analysis are using Windows PCs or a MacBook laptop. &nbsp; It is fast when compared with other possible programming languages like R or MATLAB <span style=\"color:red\">(Massaron, p. 8)</span>.\n",
        "<br> &emsp; Also, there is strong support for Python as the most popular data science programming language in popular literature & media <span style=\"color:red\">(CBTNuggets, p. 1)</span>."
      ]
    },
    {
      "cell_type": "markdown",
      "metadata": {
        "id": "UhdbzMK8vv2D"
      },
      "source": [
        "#### <span style=\"color:green\"><b>B3. Appropriate Technique</b>:</span>\n",
        "&emsp; Logistic regression is an appropriate technique to analyze the research question because or dependent variable is binomial, Yes or No. &nbsp; We want to find out what the likelihood of customer churn is for individual customers, based on a list of independent variables (area type, job, children, age, income, etc.). &nbsp; It will improve our understanding of increased probability of churn as we include or remove different independent variables & find out whether or not they have a positive or negative relationship to our target variable."
      ]
    },
    {
      "cell_type": "markdown",
      "metadata": {
        "id": "wgyu1E0Avv2E"
      },
      "source": [
        "#### <span style=\"color:green\"><b>C1. Data Goals</b>:</span>\n",
        "\n",
        "My approach will include:\n",
        "<br>&ensp; 1. Back up my data and the process I am following as a copy to my machine and, since this is a manageable dataset, to GitHub using command line and gitbash.\n",
        "<br>&ensp; 2. Read the data set into Python using Pandas' read_csv command.\n",
        "<br>&ensp; 3. Evaluate the data struture to better understand input data.\n",
        "<br>&ensp; 4. Naming the dataset as a the variable \"churn_df\" and subsequent useful slices of the dataframe as \"df\".\n",
        "<br>&ensp; 5. Examine potential misspellings, awkward variable naming & missing data.\n",
        "<br>&ensp; 6. Find outliers that may create or hide statistical significance using histograms.\n",
        "<br>&ensp; 7. Imputing records missing data with meaningful measures of central tendency (mean, median or mode) or simply remove outliers that are several standard deviations above the mean.\n",
        "\n",
        "&emsp; Most relevant to our decision making process is the <b>dependent variable</b> of \"Churn\" which is binary categorical with only two values, Yes or No.  Churn will be our <b>categorical target variable</b>. \n",
        "\n",
        "<br>In cleaning the data, we may discover relevance of the <b>continuous predictor variables</b>: \n",
        "\n",
        "* Children\n",
        "* Income\n",
        "* Outage_sec_perweek\n",
        "* Email\n",
        "* Contacts    \n",
        "* Yearly_equip_failure\n",
        "* Tenure (the number of months the customer has stayed with the provider)\n",
        "* MonthlyCharge\n",
        "* Bandwidth_GB_Year    \n",
        "    \n",
        "<br>&emsp; Likewise, we may discover relevance of the <b>categorical predictor variables</b> (all binary categorical with only two values, Yes or No, except where noted): \n",
        "\n",
        "* Techie: Whether the customer considers themselves technically inclined (based on customer questionnaire when they signed up for services) (yes, no)\n",
        "* Contract: The contract term of the customer (month-to-month, one year, two year)\n",
        "* Port_modem: Whether the customer has a portable modem (yes, no)\n",
        "* Tablet: Whether the customer owns a tablet such as iPad, Surface, etc. (yes, no)\n",
        "* InternetService: Customer’s internet service provider (DSL, fiber optic, None)\n",
        "* Phone: Whether the customer has a phone service (yes, no)\n",
        "* Multiple: Whether the customer has multiple lines (yes, no)\n",
        "* OnlineSecurity: Whether the customer has an online security add-on (yes, no)\n",
        "* OnlineBackup: Whether the customer has an online backup add-on (yes, no)\n",
        "* DeviceProtection: Whether the customer has device protection add-on (yes, no)\n",
        "* TechSupport: Whether the customer has a technical support add-on (yes, no)\n",
        "* StreamingTV: Whether the customer has streaming TV (yes, no)\n",
        "* StreamingMovies: Whether the customer has streaming movies (yes, no)\n",
        "    \n",
        "<br>&emsp; Finally, <b>discrete ordinal predictor variables</b> from the survey responses from customers regarding various customer service features may be relevant in the decision-making process. &nbsp; In the surveys, customers provided ordinal numerical data by rating 8 customer service factors on a scale of 1 to 8 (1 = most important, 8 = least important): \n",
        "    \n",
        "* Item1: Timely response\n",
        "* Item2: Timely fixes\n",
        "* Item3: Timely replacements\n",
        "* Item4: Reliability\n",
        "* Item5: Options\n",
        "* Item6: Respectful response\n",
        "* Item7: Courteous exchange\n",
        "* Item8: Evidence of active listening\n"
      ]
    },
    {
      "cell_type": "markdown",
      "metadata": {
        "id": "xc0M2lrXvv2F"
      },
      "source": [
        "#### <span style=\"color:green\"><b>C2. Summary Statistics</b>:</span>\n",
        "&emsp; As output by Python pandas dataframe methods below, the dataset consists of 50 original columns & 10,000 records. &nbsp; For purposes of this analysis certain user ID & demographic categorical variables (CaseOrder, Customer_id, Interaction, UID, City, State, County, Zip, Lat, Lng, Population, Area, TimeZone, Job, Marital, PaymentMethod) were removed from the dataframe. &nbsp; Also, binomial Yes/No or Male/Female, variables were encoded to 1/0, respectively. &nbsp; This resulted in 34 remaining numerical variables, including the target variable. &nbsp; The dataset appeared to be sufficiently cleaned leaving no null, NAs or missing data points.\n",
        "\n",
        "<br> &emsp; Measures of central tendency through histograms & boxplots revealed normal distributions for Monthly_Charge, Outage_sec_perweek & Email. &nbsp; The cleaned dataset no longer retained any outliers. &nbsp; Histograms for Bandwidth_GB_Year & Tenure displayed bimodal distributions, which demonstrated a direct linear relationship with each other in a scatterplot. &nbsp; The average customer was 53 years-old (with a standard deviation of 20 years), had 2 children  (with a standard deviation of 2 kids), an income of 39,806 (with a standard deviation of about 30,000), experienced 10 outage-seconds/week, was marketed to by email 12 times, contacted technical support less than one time, had less than 1 yearly equipment failure, has been with the company for 34.5 months, has a monthly charge of approximately 173 & uses 3,392 GBs/year."
      ]
    },
    {
      "cell_type": "markdown",
      "metadata": {
        "id": "Sp3pVTGAvv2G"
      },
      "source": [
        "#### <span style=\"color:green\"><b>C3. Steps to Prepare Data</b>:</span>\n",
        "\n",
        "* Import dataset to Python dataframe.\n",
        "* Rename columns/variables of survey to easily recognizable features (ex: Item1 to TimelyResponse).\n",
        "* Get a description of dataframe, structure (columns & rows) & data types.\n",
        "* View summary statistics.\n",
        "* Drop less meaningful identifying (ex: Customer_id) & demographic columns (ex: zip code) from dataframe.\n",
        "* Check for records with missing data & impute missing data with meaningful measures of central tendency (mean, median or mode) or simply remove outliers that are several standard deviations above the mean.\n",
        "* Create dummy variables in order to encode categorical, yes/no data points into 1/0 numerical values.\n",
        "* View univariate & bivariate visualizations.\n",
        "* Place target variable (the intercept) Churn at end of dataframe\n",
        "* Finally, the prepared dataset will be extracted & provided as churn_prepared_log.csv."
      ]
    },
    {
      "cell_type": "code",
      "metadata": {
        "colab": {
          "base_uri": "https://localhost:8080/",
          "height": 17
        },
        "id": "liiPXy2rvv2I",
        "outputId": "d1660aa5-dcd3-4155-e28e-750aa54e20cb"
      },
      "source": [
        "# Increase Jupyter display cell-width\n",
        "from IPython.core.display import display, HTML\n",
        "display(HTML(\"<style>.container { width:75% !important; }</style>\"))"
      ],
      "execution_count": 1,
      "outputs": [
        {
          "output_type": "display_data",
          "data": {
            "text/html": [
              "<style>.container { width:75% !important; }</style>"
            ],
            "text/plain": [
              "<IPython.core.display.HTML object>"
            ]
          },
          "metadata": {
            "tags": []
          }
        }
      ]
    },
    {
      "cell_type": "code",
      "metadata": {
        "colab": {
          "base_uri": "https://localhost:8080/"
        },
        "id": "CIOCYY4gvv2J",
        "outputId": "0f87d23f-8f41-438c-b2fb-ea8100d266a8"
      },
      "source": [
        "# Standard data science imports\n",
        "import numpy as np\n",
        "import pandas as pd\n",
        "from pandas import Series, DataFrame\n",
        "\n",
        "# Visualization libraries\n",
        "import seaborn as sns\n",
        "import matplotlib.pyplot as plt\n",
        "%matplotlib inline\n",
        "\n",
        "# Statistics packages\n",
        "import pylab\n",
        "from pylab import rcParams\n",
        "import statsmodels.api as sm\n",
        "import statistics\n",
        "from scipy import stats\n",
        "\n",
        "# Scikit-learn\n",
        "import sklearn\n",
        "from sklearn import preprocessing\n",
        "from sklearn.linear_model import LinearRegression\n",
        "from sklearn.model_selection import train_test_split\n",
        "from sklearn import metrics\n",
        "from sklearn.metrics import classification_report\n",
        "\n",
        "\n",
        "# Import chisquare from SciPy.stats\n",
        "from scipy.stats import chisquare\n",
        "from scipy.stats import chi2_contingency\n",
        "\n",
        "# Ignore Warning Code\n",
        "import warnings\n",
        "warnings.filterwarnings('ignore')"
      ],
      "execution_count": 2,
      "outputs": [
        {
          "output_type": "stream",
          "text": [
            "/usr/local/lib/python3.7/dist-packages/statsmodels/tools/_testing.py:19: FutureWarning: pandas.util.testing is deprecated. Use the functions in the public API at pandas.testing instead.\n",
            "  import pandas.util.testing as tm\n"
          ],
          "name": "stderr"
        }
      ]
    },
    {
      "cell_type": "code",
      "metadata": {
        "id": "rDXGToLdvv2J"
      },
      "source": [
        "# Change color of Matplotlib font\n",
        "import matplotlib as mpl\n",
        "\n",
        "COLOR = 'white'\n",
        "mpl.rcParams['text.color'] = COLOR\n",
        "mpl.rcParams['axes.labelcolor'] = COLOR\n",
        "mpl.rcParams['xtick.color'] = COLOR\n",
        "mpl.rcParams['ytick.color'] = COLOR"
      ],
      "execution_count": 3,
      "outputs": []
    },
    {
      "cell_type": "code",
      "metadata": {
        "id": "-JUI-7w3vv2K"
      },
      "source": [
        "# Load data set into Pandas dataframe\n",
        "churn_df = pd.read_csv('churn_clean.csv')\n",
        "\n",
        "# Rename last 8 survey columns for better description of variables\n",
        "churn_df.rename(columns = {'Item1':'TimelyResponse', \n",
        "                    'Item2':'Fixes', \n",
        "                     'Item3':'Replacements', \n",
        "                     'Item4':'Reliability', \n",
        "                     'Item5':'Options', \n",
        "                     'Item6':'Respectfulness', \n",
        "                     'Item7':'Courteous', \n",
        "                     'Item8':'Listening'}, \n",
        "          inplace=True)"
      ],
      "execution_count": 4,
      "outputs": []
    },
    {
      "cell_type": "code",
      "metadata": {
        "colab": {
          "base_uri": "https://localhost:8080/",
          "height": 949
        },
        "id": "3kEs2qRqvv2K",
        "outputId": "39c14090-9830-4987-e483-3a570d7df421"
      },
      "source": [
        "# Display Churn dataframe\n",
        "churn_df"
      ],
      "execution_count": 5,
      "outputs": [
        {
          "output_type": "execute_result",
          "data": {
            "text/html": [
              "<div>\n",
              "<style scoped>\n",
              "    .dataframe tbody tr th:only-of-type {\n",
              "        vertical-align: middle;\n",
              "    }\n",
              "\n",
              "    .dataframe tbody tr th {\n",
              "        vertical-align: top;\n",
              "    }\n",
              "\n",
              "    .dataframe thead th {\n",
              "        text-align: right;\n",
              "    }\n",
              "</style>\n",
              "<table border=\"1\" class=\"dataframe\">\n",
              "  <thead>\n",
              "    <tr style=\"text-align: right;\">\n",
              "      <th></th>\n",
              "      <th>CaseOrder</th>\n",
              "      <th>Customer_id</th>\n",
              "      <th>Interaction</th>\n",
              "      <th>UID</th>\n",
              "      <th>City</th>\n",
              "      <th>State</th>\n",
              "      <th>County</th>\n",
              "      <th>Zip</th>\n",
              "      <th>Lat</th>\n",
              "      <th>Lng</th>\n",
              "      <th>Population</th>\n",
              "      <th>Area</th>\n",
              "      <th>TimeZone</th>\n",
              "      <th>Job</th>\n",
              "      <th>Children</th>\n",
              "      <th>Age</th>\n",
              "      <th>Income</th>\n",
              "      <th>Marital</th>\n",
              "      <th>Gender</th>\n",
              "      <th>Churn</th>\n",
              "      <th>Outage_sec_perweek</th>\n",
              "      <th>Email</th>\n",
              "      <th>Contacts</th>\n",
              "      <th>Yearly_equip_failure</th>\n",
              "      <th>Techie</th>\n",
              "      <th>Contract</th>\n",
              "      <th>Port_modem</th>\n",
              "      <th>Tablet</th>\n",
              "      <th>InternetService</th>\n",
              "      <th>Phone</th>\n",
              "      <th>Multiple</th>\n",
              "      <th>OnlineSecurity</th>\n",
              "      <th>OnlineBackup</th>\n",
              "      <th>DeviceProtection</th>\n",
              "      <th>TechSupport</th>\n",
              "      <th>StreamingTV</th>\n",
              "      <th>StreamingMovies</th>\n",
              "      <th>PaperlessBilling</th>\n",
              "      <th>PaymentMethod</th>\n",
              "      <th>Tenure</th>\n",
              "      <th>MonthlyCharge</th>\n",
              "      <th>Bandwidth_GB_Year</th>\n",
              "      <th>TimelyResponse</th>\n",
              "      <th>Fixes</th>\n",
              "      <th>Replacements</th>\n",
              "      <th>Reliability</th>\n",
              "      <th>Options</th>\n",
              "      <th>Respectfulness</th>\n",
              "      <th>Courteous</th>\n",
              "      <th>Listening</th>\n",
              "    </tr>\n",
              "  </thead>\n",
              "  <tbody>\n",
              "    <tr>\n",
              "      <th>0</th>\n",
              "      <td>1</td>\n",
              "      <td>K409198</td>\n",
              "      <td>aa90260b-4141-4a24-8e36-b04ce1f4f77b</td>\n",
              "      <td>e885b299883d4f9fb18e39c75155d990</td>\n",
              "      <td>Point Baker</td>\n",
              "      <td>AK</td>\n",
              "      <td>Prince of Wales-Hyder</td>\n",
              "      <td>99927</td>\n",
              "      <td>56.25100</td>\n",
              "      <td>-133.37571</td>\n",
              "      <td>38</td>\n",
              "      <td>Urban</td>\n",
              "      <td>America/Sitka</td>\n",
              "      <td>Environmental health practitioner</td>\n",
              "      <td>0</td>\n",
              "      <td>68</td>\n",
              "      <td>28561.99</td>\n",
              "      <td>Widowed</td>\n",
              "      <td>Male</td>\n",
              "      <td>No</td>\n",
              "      <td>7.978323</td>\n",
              "      <td>10</td>\n",
              "      <td>0</td>\n",
              "      <td>1</td>\n",
              "      <td>No</td>\n",
              "      <td>One year</td>\n",
              "      <td>Yes</td>\n",
              "      <td>Yes</td>\n",
              "      <td>Fiber Optic</td>\n",
              "      <td>Yes</td>\n",
              "      <td>No</td>\n",
              "      <td>Yes</td>\n",
              "      <td>Yes</td>\n",
              "      <td>No</td>\n",
              "      <td>No</td>\n",
              "      <td>No</td>\n",
              "      <td>Yes</td>\n",
              "      <td>Yes</td>\n",
              "      <td>Credit Card (automatic)</td>\n",
              "      <td>6.795513</td>\n",
              "      <td>172.455519</td>\n",
              "      <td>904.536110</td>\n",
              "      <td>5</td>\n",
              "      <td>5</td>\n",
              "      <td>5</td>\n",
              "      <td>3</td>\n",
              "      <td>4</td>\n",
              "      <td>4</td>\n",
              "      <td>3</td>\n",
              "      <td>4</td>\n",
              "    </tr>\n",
              "    <tr>\n",
              "      <th>1</th>\n",
              "      <td>2</td>\n",
              "      <td>S120509</td>\n",
              "      <td>fb76459f-c047-4a9d-8af9-e0f7d4ac2524</td>\n",
              "      <td>f2de8bef964785f41a2959829830fb8a</td>\n",
              "      <td>West Branch</td>\n",
              "      <td>MI</td>\n",
              "      <td>Ogemaw</td>\n",
              "      <td>48661</td>\n",
              "      <td>44.32893</td>\n",
              "      <td>-84.24080</td>\n",
              "      <td>10446</td>\n",
              "      <td>Urban</td>\n",
              "      <td>America/Detroit</td>\n",
              "      <td>Programmer, multimedia</td>\n",
              "      <td>1</td>\n",
              "      <td>27</td>\n",
              "      <td>21704.77</td>\n",
              "      <td>Married</td>\n",
              "      <td>Female</td>\n",
              "      <td>Yes</td>\n",
              "      <td>11.699080</td>\n",
              "      <td>12</td>\n",
              "      <td>0</td>\n",
              "      <td>1</td>\n",
              "      <td>Yes</td>\n",
              "      <td>Month-to-month</td>\n",
              "      <td>No</td>\n",
              "      <td>Yes</td>\n",
              "      <td>Fiber Optic</td>\n",
              "      <td>Yes</td>\n",
              "      <td>Yes</td>\n",
              "      <td>Yes</td>\n",
              "      <td>No</td>\n",
              "      <td>No</td>\n",
              "      <td>No</td>\n",
              "      <td>Yes</td>\n",
              "      <td>Yes</td>\n",
              "      <td>Yes</td>\n",
              "      <td>Bank Transfer(automatic)</td>\n",
              "      <td>1.156681</td>\n",
              "      <td>242.632554</td>\n",
              "      <td>800.982766</td>\n",
              "      <td>3</td>\n",
              "      <td>4</td>\n",
              "      <td>3</td>\n",
              "      <td>3</td>\n",
              "      <td>4</td>\n",
              "      <td>3</td>\n",
              "      <td>4</td>\n",
              "      <td>4</td>\n",
              "    </tr>\n",
              "    <tr>\n",
              "      <th>2</th>\n",
              "      <td>3</td>\n",
              "      <td>K191035</td>\n",
              "      <td>344d114c-3736-4be5-98f7-c72c281e2d35</td>\n",
              "      <td>f1784cfa9f6d92ae816197eb175d3c71</td>\n",
              "      <td>Yamhill</td>\n",
              "      <td>OR</td>\n",
              "      <td>Yamhill</td>\n",
              "      <td>97148</td>\n",
              "      <td>45.35589</td>\n",
              "      <td>-123.24657</td>\n",
              "      <td>3735</td>\n",
              "      <td>Urban</td>\n",
              "      <td>America/Los_Angeles</td>\n",
              "      <td>Chief Financial Officer</td>\n",
              "      <td>4</td>\n",
              "      <td>50</td>\n",
              "      <td>9609.57</td>\n",
              "      <td>Widowed</td>\n",
              "      <td>Female</td>\n",
              "      <td>No</td>\n",
              "      <td>10.752800</td>\n",
              "      <td>9</td>\n",
              "      <td>0</td>\n",
              "      <td>1</td>\n",
              "      <td>Yes</td>\n",
              "      <td>Two Year</td>\n",
              "      <td>Yes</td>\n",
              "      <td>No</td>\n",
              "      <td>DSL</td>\n",
              "      <td>Yes</td>\n",
              "      <td>Yes</td>\n",
              "      <td>No</td>\n",
              "      <td>No</td>\n",
              "      <td>No</td>\n",
              "      <td>No</td>\n",
              "      <td>No</td>\n",
              "      <td>Yes</td>\n",
              "      <td>Yes</td>\n",
              "      <td>Credit Card (automatic)</td>\n",
              "      <td>15.754144</td>\n",
              "      <td>159.947583</td>\n",
              "      <td>2054.706961</td>\n",
              "      <td>4</td>\n",
              "      <td>4</td>\n",
              "      <td>2</td>\n",
              "      <td>4</td>\n",
              "      <td>4</td>\n",
              "      <td>3</td>\n",
              "      <td>3</td>\n",
              "      <td>3</td>\n",
              "    </tr>\n",
              "    <tr>\n",
              "      <th>3</th>\n",
              "      <td>4</td>\n",
              "      <td>D90850</td>\n",
              "      <td>abfa2b40-2d43-4994-b15a-989b8c79e311</td>\n",
              "      <td>dc8a365077241bb5cd5ccd305136b05e</td>\n",
              "      <td>Del Mar</td>\n",
              "      <td>CA</td>\n",
              "      <td>San Diego</td>\n",
              "      <td>92014</td>\n",
              "      <td>32.96687</td>\n",
              "      <td>-117.24798</td>\n",
              "      <td>13863</td>\n",
              "      <td>Suburban</td>\n",
              "      <td>America/Los_Angeles</td>\n",
              "      <td>Solicitor</td>\n",
              "      <td>1</td>\n",
              "      <td>48</td>\n",
              "      <td>18925.23</td>\n",
              "      <td>Married</td>\n",
              "      <td>Male</td>\n",
              "      <td>No</td>\n",
              "      <td>14.913540</td>\n",
              "      <td>15</td>\n",
              "      <td>2</td>\n",
              "      <td>0</td>\n",
              "      <td>Yes</td>\n",
              "      <td>Two Year</td>\n",
              "      <td>No</td>\n",
              "      <td>No</td>\n",
              "      <td>DSL</td>\n",
              "      <td>Yes</td>\n",
              "      <td>No</td>\n",
              "      <td>Yes</td>\n",
              "      <td>No</td>\n",
              "      <td>No</td>\n",
              "      <td>No</td>\n",
              "      <td>Yes</td>\n",
              "      <td>No</td>\n",
              "      <td>Yes</td>\n",
              "      <td>Mailed Check</td>\n",
              "      <td>17.087227</td>\n",
              "      <td>119.956840</td>\n",
              "      <td>2164.579412</td>\n",
              "      <td>4</td>\n",
              "      <td>4</td>\n",
              "      <td>4</td>\n",
              "      <td>2</td>\n",
              "      <td>5</td>\n",
              "      <td>4</td>\n",
              "      <td>3</td>\n",
              "      <td>3</td>\n",
              "    </tr>\n",
              "    <tr>\n",
              "      <th>4</th>\n",
              "      <td>5</td>\n",
              "      <td>K662701</td>\n",
              "      <td>68a861fd-0d20-4e51-a587-8a90407ee574</td>\n",
              "      <td>aabb64a116e83fdc4befc1fbab1663f9</td>\n",
              "      <td>Needville</td>\n",
              "      <td>TX</td>\n",
              "      <td>Fort Bend</td>\n",
              "      <td>77461</td>\n",
              "      <td>29.38012</td>\n",
              "      <td>-95.80673</td>\n",
              "      <td>11352</td>\n",
              "      <td>Suburban</td>\n",
              "      <td>America/Chicago</td>\n",
              "      <td>Medical illustrator</td>\n",
              "      <td>0</td>\n",
              "      <td>83</td>\n",
              "      <td>40074.19</td>\n",
              "      <td>Separated</td>\n",
              "      <td>Male</td>\n",
              "      <td>Yes</td>\n",
              "      <td>8.147417</td>\n",
              "      <td>16</td>\n",
              "      <td>2</td>\n",
              "      <td>1</td>\n",
              "      <td>No</td>\n",
              "      <td>Month-to-month</td>\n",
              "      <td>Yes</td>\n",
              "      <td>No</td>\n",
              "      <td>Fiber Optic</td>\n",
              "      <td>No</td>\n",
              "      <td>No</td>\n",
              "      <td>No</td>\n",
              "      <td>No</td>\n",
              "      <td>No</td>\n",
              "      <td>Yes</td>\n",
              "      <td>Yes</td>\n",
              "      <td>No</td>\n",
              "      <td>No</td>\n",
              "      <td>Mailed Check</td>\n",
              "      <td>1.670972</td>\n",
              "      <td>149.948316</td>\n",
              "      <td>271.493436</td>\n",
              "      <td>4</td>\n",
              "      <td>4</td>\n",
              "      <td>4</td>\n",
              "      <td>3</td>\n",
              "      <td>4</td>\n",
              "      <td>4</td>\n",
              "      <td>4</td>\n",
              "      <td>5</td>\n",
              "    </tr>\n",
              "    <tr>\n",
              "      <th>...</th>\n",
              "      <td>...</td>\n",
              "      <td>...</td>\n",
              "      <td>...</td>\n",
              "      <td>...</td>\n",
              "      <td>...</td>\n",
              "      <td>...</td>\n",
              "      <td>...</td>\n",
              "      <td>...</td>\n",
              "      <td>...</td>\n",
              "      <td>...</td>\n",
              "      <td>...</td>\n",
              "      <td>...</td>\n",
              "      <td>...</td>\n",
              "      <td>...</td>\n",
              "      <td>...</td>\n",
              "      <td>...</td>\n",
              "      <td>...</td>\n",
              "      <td>...</td>\n",
              "      <td>...</td>\n",
              "      <td>...</td>\n",
              "      <td>...</td>\n",
              "      <td>...</td>\n",
              "      <td>...</td>\n",
              "      <td>...</td>\n",
              "      <td>...</td>\n",
              "      <td>...</td>\n",
              "      <td>...</td>\n",
              "      <td>...</td>\n",
              "      <td>...</td>\n",
              "      <td>...</td>\n",
              "      <td>...</td>\n",
              "      <td>...</td>\n",
              "      <td>...</td>\n",
              "      <td>...</td>\n",
              "      <td>...</td>\n",
              "      <td>...</td>\n",
              "      <td>...</td>\n",
              "      <td>...</td>\n",
              "      <td>...</td>\n",
              "      <td>...</td>\n",
              "      <td>...</td>\n",
              "      <td>...</td>\n",
              "      <td>...</td>\n",
              "      <td>...</td>\n",
              "      <td>...</td>\n",
              "      <td>...</td>\n",
              "      <td>...</td>\n",
              "      <td>...</td>\n",
              "      <td>...</td>\n",
              "      <td>...</td>\n",
              "    </tr>\n",
              "    <tr>\n",
              "      <th>9995</th>\n",
              "      <td>9996</td>\n",
              "      <td>M324793</td>\n",
              "      <td>45deb5a2-ae04-4518-bf0b-c82db8dbe4a4</td>\n",
              "      <td>9499fb4de537af195d16d046b79fd20a</td>\n",
              "      <td>Mount Holly</td>\n",
              "      <td>VT</td>\n",
              "      <td>Rutland</td>\n",
              "      <td>5758</td>\n",
              "      <td>43.43391</td>\n",
              "      <td>-72.78734</td>\n",
              "      <td>640</td>\n",
              "      <td>Rural</td>\n",
              "      <td>America/New_York</td>\n",
              "      <td>Sport and exercise psychologist</td>\n",
              "      <td>3</td>\n",
              "      <td>23</td>\n",
              "      <td>55723.74</td>\n",
              "      <td>Married</td>\n",
              "      <td>Male</td>\n",
              "      <td>No</td>\n",
              "      <td>9.415935</td>\n",
              "      <td>12</td>\n",
              "      <td>2</td>\n",
              "      <td>0</td>\n",
              "      <td>No</td>\n",
              "      <td>Month-to-month</td>\n",
              "      <td>Yes</td>\n",
              "      <td>Yes</td>\n",
              "      <td>DSL</td>\n",
              "      <td>Yes</td>\n",
              "      <td>Yes</td>\n",
              "      <td>No</td>\n",
              "      <td>Yes</td>\n",
              "      <td>Yes</td>\n",
              "      <td>No</td>\n",
              "      <td>No</td>\n",
              "      <td>No</td>\n",
              "      <td>No</td>\n",
              "      <td>Electronic Check</td>\n",
              "      <td>68.197130</td>\n",
              "      <td>159.979400</td>\n",
              "      <td>6511.252601</td>\n",
              "      <td>3</td>\n",
              "      <td>2</td>\n",
              "      <td>3</td>\n",
              "      <td>3</td>\n",
              "      <td>4</td>\n",
              "      <td>3</td>\n",
              "      <td>2</td>\n",
              "      <td>3</td>\n",
              "    </tr>\n",
              "    <tr>\n",
              "      <th>9996</th>\n",
              "      <td>9997</td>\n",
              "      <td>D861732</td>\n",
              "      <td>6e96b921-0c09-4993-bbda-a1ac6411061a</td>\n",
              "      <td>c09a841117fa81b5c8e19afec2760104</td>\n",
              "      <td>Clarksville</td>\n",
              "      <td>TN</td>\n",
              "      <td>Montgomery</td>\n",
              "      <td>37042</td>\n",
              "      <td>36.56907</td>\n",
              "      <td>-87.41694</td>\n",
              "      <td>77168</td>\n",
              "      <td>Rural</td>\n",
              "      <td>America/Chicago</td>\n",
              "      <td>Consulting civil engineer</td>\n",
              "      <td>4</td>\n",
              "      <td>48</td>\n",
              "      <td>34129.34</td>\n",
              "      <td>Divorced</td>\n",
              "      <td>Male</td>\n",
              "      <td>No</td>\n",
              "      <td>6.740547</td>\n",
              "      <td>15</td>\n",
              "      <td>2</td>\n",
              "      <td>0</td>\n",
              "      <td>No</td>\n",
              "      <td>Two Year</td>\n",
              "      <td>No</td>\n",
              "      <td>No</td>\n",
              "      <td>Fiber Optic</td>\n",
              "      <td>Yes</td>\n",
              "      <td>Yes</td>\n",
              "      <td>Yes</td>\n",
              "      <td>Yes</td>\n",
              "      <td>Yes</td>\n",
              "      <td>No</td>\n",
              "      <td>Yes</td>\n",
              "      <td>No</td>\n",
              "      <td>No</td>\n",
              "      <td>Electronic Check</td>\n",
              "      <td>61.040370</td>\n",
              "      <td>207.481100</td>\n",
              "      <td>5695.951810</td>\n",
              "      <td>4</td>\n",
              "      <td>5</td>\n",
              "      <td>5</td>\n",
              "      <td>4</td>\n",
              "      <td>4</td>\n",
              "      <td>5</td>\n",
              "      <td>2</td>\n",
              "      <td>5</td>\n",
              "    </tr>\n",
              "    <tr>\n",
              "      <th>9997</th>\n",
              "      <td>9998</td>\n",
              "      <td>I243405</td>\n",
              "      <td>e8307ddf-9a01-4fff-bc59-4742e03fd24f</td>\n",
              "      <td>9c41f212d1e04dca84445019bbc9b41c</td>\n",
              "      <td>Mobeetie</td>\n",
              "      <td>TX</td>\n",
              "      <td>Wheeler</td>\n",
              "      <td>79061</td>\n",
              "      <td>35.52039</td>\n",
              "      <td>-100.44180</td>\n",
              "      <td>406</td>\n",
              "      <td>Rural</td>\n",
              "      <td>America/Chicago</td>\n",
              "      <td>IT technical support officer</td>\n",
              "      <td>1</td>\n",
              "      <td>48</td>\n",
              "      <td>45983.43</td>\n",
              "      <td>Never Married</td>\n",
              "      <td>Female</td>\n",
              "      <td>No</td>\n",
              "      <td>6.590911</td>\n",
              "      <td>10</td>\n",
              "      <td>0</td>\n",
              "      <td>0</td>\n",
              "      <td>No</td>\n",
              "      <td>Month-to-month</td>\n",
              "      <td>No</td>\n",
              "      <td>No</td>\n",
              "      <td>Fiber Optic</td>\n",
              "      <td>Yes</td>\n",
              "      <td>Yes</td>\n",
              "      <td>Yes</td>\n",
              "      <td>Yes</td>\n",
              "      <td>No</td>\n",
              "      <td>No</td>\n",
              "      <td>No</td>\n",
              "      <td>No</td>\n",
              "      <td>Yes</td>\n",
              "      <td>Bank Transfer(automatic)</td>\n",
              "      <td>47.416890</td>\n",
              "      <td>169.974100</td>\n",
              "      <td>4159.305799</td>\n",
              "      <td>4</td>\n",
              "      <td>4</td>\n",
              "      <td>4</td>\n",
              "      <td>4</td>\n",
              "      <td>4</td>\n",
              "      <td>4</td>\n",
              "      <td>4</td>\n",
              "      <td>5</td>\n",
              "    </tr>\n",
              "    <tr>\n",
              "      <th>9998</th>\n",
              "      <td>9999</td>\n",
              "      <td>I641617</td>\n",
              "      <td>3775ccfc-0052-4107-81ae-9657f81ecdf3</td>\n",
              "      <td>3e1f269b40c235a1038863ecf6b7a0df</td>\n",
              "      <td>Carrollton</td>\n",
              "      <td>GA</td>\n",
              "      <td>Carroll</td>\n",
              "      <td>30117</td>\n",
              "      <td>33.58016</td>\n",
              "      <td>-85.13241</td>\n",
              "      <td>35575</td>\n",
              "      <td>Urban</td>\n",
              "      <td>America/New_York</td>\n",
              "      <td>Water engineer</td>\n",
              "      <td>1</td>\n",
              "      <td>39</td>\n",
              "      <td>16667.58</td>\n",
              "      <td>Separated</td>\n",
              "      <td>Male</td>\n",
              "      <td>No</td>\n",
              "      <td>12.071910</td>\n",
              "      <td>14</td>\n",
              "      <td>1</td>\n",
              "      <td>0</td>\n",
              "      <td>No</td>\n",
              "      <td>Two Year</td>\n",
              "      <td>No</td>\n",
              "      <td>Yes</td>\n",
              "      <td>Fiber Optic</td>\n",
              "      <td>No</td>\n",
              "      <td>Yes</td>\n",
              "      <td>No</td>\n",
              "      <td>No</td>\n",
              "      <td>No</td>\n",
              "      <td>Yes</td>\n",
              "      <td>Yes</td>\n",
              "      <td>Yes</td>\n",
              "      <td>Yes</td>\n",
              "      <td>Credit Card (automatic)</td>\n",
              "      <td>71.095600</td>\n",
              "      <td>252.624000</td>\n",
              "      <td>6468.456752</td>\n",
              "      <td>4</td>\n",
              "      <td>4</td>\n",
              "      <td>6</td>\n",
              "      <td>4</td>\n",
              "      <td>3</td>\n",
              "      <td>3</td>\n",
              "      <td>5</td>\n",
              "      <td>4</td>\n",
              "    </tr>\n",
              "    <tr>\n",
              "      <th>9999</th>\n",
              "      <td>10000</td>\n",
              "      <td>T38070</td>\n",
              "      <td>9de5fb6e-bd33-4995-aec8-f01d0172a499</td>\n",
              "      <td>0ea683a03a3cd544aefe8388aab16176</td>\n",
              "      <td>Clarkesville</td>\n",
              "      <td>GA</td>\n",
              "      <td>Habersham</td>\n",
              "      <td>30523</td>\n",
              "      <td>34.70783</td>\n",
              "      <td>-83.53648</td>\n",
              "      <td>12230</td>\n",
              "      <td>Urban</td>\n",
              "      <td>America/New_York</td>\n",
              "      <td>Personal assistant</td>\n",
              "      <td>1</td>\n",
              "      <td>28</td>\n",
              "      <td>9020.92</td>\n",
              "      <td>Never Married</td>\n",
              "      <td>Male</td>\n",
              "      <td>No</td>\n",
              "      <td>11.754720</td>\n",
              "      <td>17</td>\n",
              "      <td>1</td>\n",
              "      <td>0</td>\n",
              "      <td>No</td>\n",
              "      <td>Month-to-month</td>\n",
              "      <td>Yes</td>\n",
              "      <td>No</td>\n",
              "      <td>Fiber Optic</td>\n",
              "      <td>Yes</td>\n",
              "      <td>Yes</td>\n",
              "      <td>Yes</td>\n",
              "      <td>Yes</td>\n",
              "      <td>Yes</td>\n",
              "      <td>No</td>\n",
              "      <td>No</td>\n",
              "      <td>Yes</td>\n",
              "      <td>Yes</td>\n",
              "      <td>Electronic Check</td>\n",
              "      <td>63.350860</td>\n",
              "      <td>217.484000</td>\n",
              "      <td>5857.586167</td>\n",
              "      <td>2</td>\n",
              "      <td>2</td>\n",
              "      <td>3</td>\n",
              "      <td>3</td>\n",
              "      <td>3</td>\n",
              "      <td>3</td>\n",
              "      <td>4</td>\n",
              "      <td>1</td>\n",
              "    </tr>\n",
              "  </tbody>\n",
              "</table>\n",
              "<p>10000 rows × 50 columns</p>\n",
              "</div>"
            ],
            "text/plain": [
              "      CaseOrder Customer_id  ... Courteous Listening\n",
              "0             1     K409198  ...         3         4\n",
              "1             2     S120509  ...         4         4\n",
              "2             3     K191035  ...         3         3\n",
              "3             4      D90850  ...         3         3\n",
              "4             5     K662701  ...         4         5\n",
              "...         ...         ...  ...       ...       ...\n",
              "9995       9996     M324793  ...         2         3\n",
              "9996       9997     D861732  ...         2         5\n",
              "9997       9998     I243405  ...         4         5\n",
              "9998       9999     I641617  ...         5         4\n",
              "9999      10000      T38070  ...         4         1\n",
              "\n",
              "[10000 rows x 50 columns]"
            ]
          },
          "metadata": {
            "tags": []
          },
          "execution_count": 5
        }
      ]
    },
    {
      "cell_type": "code",
      "metadata": {
        "colab": {
          "base_uri": "https://localhost:8080/"
        },
        "id": "V5piV9Vavv2K",
        "outputId": "83b8d776-2f9f-449a-f941-7a493b7a3f93"
      },
      "source": [
        "# List of Dataframe Columns\n",
        "df = churn_df.columns\n",
        "print(df)"
      ],
      "execution_count": 6,
      "outputs": [
        {
          "output_type": "stream",
          "text": [
            "Index(['CaseOrder', 'Customer_id', 'Interaction', 'UID', 'City', 'State',\n",
            "       'County', 'Zip', 'Lat', 'Lng', 'Population', 'Area', 'TimeZone', 'Job',\n",
            "       'Children', 'Age', 'Income', 'Marital', 'Gender', 'Churn',\n",
            "       'Outage_sec_perweek', 'Email', 'Contacts', 'Yearly_equip_failure',\n",
            "       'Techie', 'Contract', 'Port_modem', 'Tablet', 'InternetService',\n",
            "       'Phone', 'Multiple', 'OnlineSecurity', 'OnlineBackup',\n",
            "       'DeviceProtection', 'TechSupport', 'StreamingTV', 'StreamingMovies',\n",
            "       'PaperlessBilling', 'PaymentMethod', 'Tenure', 'MonthlyCharge',\n",
            "       'Bandwidth_GB_Year', 'TimelyResponse', 'Fixes', 'Replacements',\n",
            "       'Reliability', 'Options', 'Respectfulness', 'Courteous', 'Listening'],\n",
            "      dtype='object')\n"
          ],
          "name": "stdout"
        }
      ]
    },
    {
      "cell_type": "code",
      "metadata": {
        "colab": {
          "base_uri": "https://localhost:8080/"
        },
        "id": "Me4_2Gclvv2L",
        "outputId": "6172969f-b934-43de-be79-3c576fe8303d"
      },
      "source": [
        "# Find number of records and columns of dataset\n",
        "churn_df.shape"
      ],
      "execution_count": 7,
      "outputs": [
        {
          "output_type": "execute_result",
          "data": {
            "text/plain": [
              "(10000, 50)"
            ]
          },
          "metadata": {
            "tags": []
          },
          "execution_count": 7
        }
      ]
    },
    {
      "cell_type": "code",
      "metadata": {
        "colab": {
          "base_uri": "https://localhost:8080/",
          "height": 317
        },
        "id": "6OJKbpgnvv2L",
        "outputId": "5cbc4c7f-69e8-470f-8812-7aed26a4c3a1"
      },
      "source": [
        "# Describe Churn dataset statistics\n",
        "churn_df.describe()"
      ],
      "execution_count": 8,
      "outputs": [
        {
          "output_type": "execute_result",
          "data": {
            "text/html": [
              "<div>\n",
              "<style scoped>\n",
              "    .dataframe tbody tr th:only-of-type {\n",
              "        vertical-align: middle;\n",
              "    }\n",
              "\n",
              "    .dataframe tbody tr th {\n",
              "        vertical-align: top;\n",
              "    }\n",
              "\n",
              "    .dataframe thead th {\n",
              "        text-align: right;\n",
              "    }\n",
              "</style>\n",
              "<table border=\"1\" class=\"dataframe\">\n",
              "  <thead>\n",
              "    <tr style=\"text-align: right;\">\n",
              "      <th></th>\n",
              "      <th>CaseOrder</th>\n",
              "      <th>Zip</th>\n",
              "      <th>Lat</th>\n",
              "      <th>Lng</th>\n",
              "      <th>Population</th>\n",
              "      <th>Children</th>\n",
              "      <th>Age</th>\n",
              "      <th>Income</th>\n",
              "      <th>Outage_sec_perweek</th>\n",
              "      <th>Email</th>\n",
              "      <th>Contacts</th>\n",
              "      <th>Yearly_equip_failure</th>\n",
              "      <th>Tenure</th>\n",
              "      <th>MonthlyCharge</th>\n",
              "      <th>Bandwidth_GB_Year</th>\n",
              "      <th>TimelyResponse</th>\n",
              "      <th>Fixes</th>\n",
              "      <th>Replacements</th>\n",
              "      <th>Reliability</th>\n",
              "      <th>Options</th>\n",
              "      <th>Respectfulness</th>\n",
              "      <th>Courteous</th>\n",
              "      <th>Listening</th>\n",
              "    </tr>\n",
              "  </thead>\n",
              "  <tbody>\n",
              "    <tr>\n",
              "      <th>count</th>\n",
              "      <td>10000.00000</td>\n",
              "      <td>10000.000000</td>\n",
              "      <td>10000.000000</td>\n",
              "      <td>10000.000000</td>\n",
              "      <td>10000.000000</td>\n",
              "      <td>10000.0000</td>\n",
              "      <td>10000.000000</td>\n",
              "      <td>10000.000000</td>\n",
              "      <td>10000.000000</td>\n",
              "      <td>10000.000000</td>\n",
              "      <td>10000.000000</td>\n",
              "      <td>10000.000000</td>\n",
              "      <td>10000.000000</td>\n",
              "      <td>10000.000000</td>\n",
              "      <td>10000.000000</td>\n",
              "      <td>10000.000000</td>\n",
              "      <td>10000.000000</td>\n",
              "      <td>10000.000000</td>\n",
              "      <td>10000.000000</td>\n",
              "      <td>10000.000000</td>\n",
              "      <td>10000.000000</td>\n",
              "      <td>10000.000000</td>\n",
              "      <td>10000.000000</td>\n",
              "    </tr>\n",
              "    <tr>\n",
              "      <th>mean</th>\n",
              "      <td>5000.50000</td>\n",
              "      <td>49153.319600</td>\n",
              "      <td>38.757567</td>\n",
              "      <td>-90.782536</td>\n",
              "      <td>9756.562400</td>\n",
              "      <td>2.0877</td>\n",
              "      <td>53.078400</td>\n",
              "      <td>39806.926771</td>\n",
              "      <td>10.001848</td>\n",
              "      <td>12.016000</td>\n",
              "      <td>0.994200</td>\n",
              "      <td>0.398000</td>\n",
              "      <td>34.526188</td>\n",
              "      <td>172.624816</td>\n",
              "      <td>3392.341550</td>\n",
              "      <td>3.490800</td>\n",
              "      <td>3.505100</td>\n",
              "      <td>3.487000</td>\n",
              "      <td>3.497500</td>\n",
              "      <td>3.492900</td>\n",
              "      <td>3.497300</td>\n",
              "      <td>3.509500</td>\n",
              "      <td>3.495600</td>\n",
              "    </tr>\n",
              "    <tr>\n",
              "      <th>std</th>\n",
              "      <td>2886.89568</td>\n",
              "      <td>27532.196108</td>\n",
              "      <td>5.437389</td>\n",
              "      <td>15.156142</td>\n",
              "      <td>14432.698671</td>\n",
              "      <td>2.1472</td>\n",
              "      <td>20.698882</td>\n",
              "      <td>28199.916702</td>\n",
              "      <td>2.976019</td>\n",
              "      <td>3.025898</td>\n",
              "      <td>0.988466</td>\n",
              "      <td>0.635953</td>\n",
              "      <td>26.443063</td>\n",
              "      <td>42.943094</td>\n",
              "      <td>2185.294852</td>\n",
              "      <td>1.037797</td>\n",
              "      <td>1.034641</td>\n",
              "      <td>1.027977</td>\n",
              "      <td>1.025816</td>\n",
              "      <td>1.024819</td>\n",
              "      <td>1.033586</td>\n",
              "      <td>1.028502</td>\n",
              "      <td>1.028633</td>\n",
              "    </tr>\n",
              "    <tr>\n",
              "      <th>min</th>\n",
              "      <td>1.00000</td>\n",
              "      <td>601.000000</td>\n",
              "      <td>17.966120</td>\n",
              "      <td>-171.688150</td>\n",
              "      <td>0.000000</td>\n",
              "      <td>0.0000</td>\n",
              "      <td>18.000000</td>\n",
              "      <td>348.670000</td>\n",
              "      <td>0.099747</td>\n",
              "      <td>1.000000</td>\n",
              "      <td>0.000000</td>\n",
              "      <td>0.000000</td>\n",
              "      <td>1.000259</td>\n",
              "      <td>79.978860</td>\n",
              "      <td>155.506715</td>\n",
              "      <td>1.000000</td>\n",
              "      <td>1.000000</td>\n",
              "      <td>1.000000</td>\n",
              "      <td>1.000000</td>\n",
              "      <td>1.000000</td>\n",
              "      <td>1.000000</td>\n",
              "      <td>1.000000</td>\n",
              "      <td>1.000000</td>\n",
              "    </tr>\n",
              "    <tr>\n",
              "      <th>25%</th>\n",
              "      <td>2500.75000</td>\n",
              "      <td>26292.500000</td>\n",
              "      <td>35.341828</td>\n",
              "      <td>-97.082813</td>\n",
              "      <td>738.000000</td>\n",
              "      <td>0.0000</td>\n",
              "      <td>35.000000</td>\n",
              "      <td>19224.717500</td>\n",
              "      <td>8.018214</td>\n",
              "      <td>10.000000</td>\n",
              "      <td>0.000000</td>\n",
              "      <td>0.000000</td>\n",
              "      <td>7.917694</td>\n",
              "      <td>139.979239</td>\n",
              "      <td>1236.470827</td>\n",
              "      <td>3.000000</td>\n",
              "      <td>3.000000</td>\n",
              "      <td>3.000000</td>\n",
              "      <td>3.000000</td>\n",
              "      <td>3.000000</td>\n",
              "      <td>3.000000</td>\n",
              "      <td>3.000000</td>\n",
              "      <td>3.000000</td>\n",
              "    </tr>\n",
              "    <tr>\n",
              "      <th>50%</th>\n",
              "      <td>5000.50000</td>\n",
              "      <td>48869.500000</td>\n",
              "      <td>39.395800</td>\n",
              "      <td>-87.918800</td>\n",
              "      <td>2910.500000</td>\n",
              "      <td>1.0000</td>\n",
              "      <td>53.000000</td>\n",
              "      <td>33170.605000</td>\n",
              "      <td>10.018560</td>\n",
              "      <td>12.000000</td>\n",
              "      <td>1.000000</td>\n",
              "      <td>0.000000</td>\n",
              "      <td>35.430507</td>\n",
              "      <td>167.484700</td>\n",
              "      <td>3279.536903</td>\n",
              "      <td>3.000000</td>\n",
              "      <td>4.000000</td>\n",
              "      <td>3.000000</td>\n",
              "      <td>3.000000</td>\n",
              "      <td>3.000000</td>\n",
              "      <td>3.000000</td>\n",
              "      <td>4.000000</td>\n",
              "      <td>3.000000</td>\n",
              "    </tr>\n",
              "    <tr>\n",
              "      <th>75%</th>\n",
              "      <td>7500.25000</td>\n",
              "      <td>71866.500000</td>\n",
              "      <td>42.106908</td>\n",
              "      <td>-80.088745</td>\n",
              "      <td>13168.000000</td>\n",
              "      <td>3.0000</td>\n",
              "      <td>71.000000</td>\n",
              "      <td>53246.170000</td>\n",
              "      <td>11.969485</td>\n",
              "      <td>14.000000</td>\n",
              "      <td>2.000000</td>\n",
              "      <td>1.000000</td>\n",
              "      <td>61.479795</td>\n",
              "      <td>200.734725</td>\n",
              "      <td>5586.141369</td>\n",
              "      <td>4.000000</td>\n",
              "      <td>4.000000</td>\n",
              "      <td>4.000000</td>\n",
              "      <td>4.000000</td>\n",
              "      <td>4.000000</td>\n",
              "      <td>4.000000</td>\n",
              "      <td>4.000000</td>\n",
              "      <td>4.000000</td>\n",
              "    </tr>\n",
              "    <tr>\n",
              "      <th>max</th>\n",
              "      <td>10000.00000</td>\n",
              "      <td>99929.000000</td>\n",
              "      <td>70.640660</td>\n",
              "      <td>-65.667850</td>\n",
              "      <td>111850.000000</td>\n",
              "      <td>10.0000</td>\n",
              "      <td>89.000000</td>\n",
              "      <td>258900.700000</td>\n",
              "      <td>21.207230</td>\n",
              "      <td>23.000000</td>\n",
              "      <td>7.000000</td>\n",
              "      <td>6.000000</td>\n",
              "      <td>71.999280</td>\n",
              "      <td>290.160419</td>\n",
              "      <td>7158.981530</td>\n",
              "      <td>7.000000</td>\n",
              "      <td>7.000000</td>\n",
              "      <td>8.000000</td>\n",
              "      <td>7.000000</td>\n",
              "      <td>7.000000</td>\n",
              "      <td>8.000000</td>\n",
              "      <td>7.000000</td>\n",
              "      <td>8.000000</td>\n",
              "    </tr>\n",
              "  </tbody>\n",
              "</table>\n",
              "</div>"
            ],
            "text/plain": [
              "         CaseOrder           Zip  ...     Courteous     Listening\n",
              "count  10000.00000  10000.000000  ...  10000.000000  10000.000000\n",
              "mean    5000.50000  49153.319600  ...      3.509500      3.495600\n",
              "std     2886.89568  27532.196108  ...      1.028502      1.028633\n",
              "min        1.00000    601.000000  ...      1.000000      1.000000\n",
              "25%     2500.75000  26292.500000  ...      3.000000      3.000000\n",
              "50%     5000.50000  48869.500000  ...      4.000000      3.000000\n",
              "75%     7500.25000  71866.500000  ...      4.000000      4.000000\n",
              "max    10000.00000  99929.000000  ...      7.000000      8.000000\n",
              "\n",
              "[8 rows x 23 columns]"
            ]
          },
          "metadata": {
            "tags": []
          },
          "execution_count": 8
        }
      ]
    },
    {
      "cell_type": "code",
      "metadata": {
        "colab": {
          "base_uri": "https://localhost:8080/",
          "height": 317
        },
        "id": "pP-QgrM8vv2L",
        "outputId": "95ff0c07-3805-40f5-bbc4-321b44f6500f"
      },
      "source": [
        "# Remove less meaningful demographic variables from statistics description\n",
        "churn_df = churn_df.drop(columns=['CaseOrder', 'Customer_id', 'Interaction', 'UID', 'City', \n",
        "                            'State', 'County', 'Zip', 'Lat', 'Lng', 'Population', \n",
        "                            'Area', 'TimeZone', 'Job', 'Marital', 'PaymentMethod'])\n",
        "churn_df.describe()"
      ],
      "execution_count": 9,
      "outputs": [
        {
          "output_type": "execute_result",
          "data": {
            "text/html": [
              "<div>\n",
              "<style scoped>\n",
              "    .dataframe tbody tr th:only-of-type {\n",
              "        vertical-align: middle;\n",
              "    }\n",
              "\n",
              "    .dataframe tbody tr th {\n",
              "        vertical-align: top;\n",
              "    }\n",
              "\n",
              "    .dataframe thead th {\n",
              "        text-align: right;\n",
              "    }\n",
              "</style>\n",
              "<table border=\"1\" class=\"dataframe\">\n",
              "  <thead>\n",
              "    <tr style=\"text-align: right;\">\n",
              "      <th></th>\n",
              "      <th>Children</th>\n",
              "      <th>Age</th>\n",
              "      <th>Income</th>\n",
              "      <th>Outage_sec_perweek</th>\n",
              "      <th>Email</th>\n",
              "      <th>Contacts</th>\n",
              "      <th>Yearly_equip_failure</th>\n",
              "      <th>Tenure</th>\n",
              "      <th>MonthlyCharge</th>\n",
              "      <th>Bandwidth_GB_Year</th>\n",
              "      <th>TimelyResponse</th>\n",
              "      <th>Fixes</th>\n",
              "      <th>Replacements</th>\n",
              "      <th>Reliability</th>\n",
              "      <th>Options</th>\n",
              "      <th>Respectfulness</th>\n",
              "      <th>Courteous</th>\n",
              "      <th>Listening</th>\n",
              "    </tr>\n",
              "  </thead>\n",
              "  <tbody>\n",
              "    <tr>\n",
              "      <th>count</th>\n",
              "      <td>10000.0000</td>\n",
              "      <td>10000.000000</td>\n",
              "      <td>10000.000000</td>\n",
              "      <td>10000.000000</td>\n",
              "      <td>10000.000000</td>\n",
              "      <td>10000.000000</td>\n",
              "      <td>10000.000000</td>\n",
              "      <td>10000.000000</td>\n",
              "      <td>10000.000000</td>\n",
              "      <td>10000.000000</td>\n",
              "      <td>10000.000000</td>\n",
              "      <td>10000.000000</td>\n",
              "      <td>10000.000000</td>\n",
              "      <td>10000.000000</td>\n",
              "      <td>10000.000000</td>\n",
              "      <td>10000.000000</td>\n",
              "      <td>10000.000000</td>\n",
              "      <td>10000.000000</td>\n",
              "    </tr>\n",
              "    <tr>\n",
              "      <th>mean</th>\n",
              "      <td>2.0877</td>\n",
              "      <td>53.078400</td>\n",
              "      <td>39806.926771</td>\n",
              "      <td>10.001848</td>\n",
              "      <td>12.016000</td>\n",
              "      <td>0.994200</td>\n",
              "      <td>0.398000</td>\n",
              "      <td>34.526188</td>\n",
              "      <td>172.624816</td>\n",
              "      <td>3392.341550</td>\n",
              "      <td>3.490800</td>\n",
              "      <td>3.505100</td>\n",
              "      <td>3.487000</td>\n",
              "      <td>3.497500</td>\n",
              "      <td>3.492900</td>\n",
              "      <td>3.497300</td>\n",
              "      <td>3.509500</td>\n",
              "      <td>3.495600</td>\n",
              "    </tr>\n",
              "    <tr>\n",
              "      <th>std</th>\n",
              "      <td>2.1472</td>\n",
              "      <td>20.698882</td>\n",
              "      <td>28199.916702</td>\n",
              "      <td>2.976019</td>\n",
              "      <td>3.025898</td>\n",
              "      <td>0.988466</td>\n",
              "      <td>0.635953</td>\n",
              "      <td>26.443063</td>\n",
              "      <td>42.943094</td>\n",
              "      <td>2185.294852</td>\n",
              "      <td>1.037797</td>\n",
              "      <td>1.034641</td>\n",
              "      <td>1.027977</td>\n",
              "      <td>1.025816</td>\n",
              "      <td>1.024819</td>\n",
              "      <td>1.033586</td>\n",
              "      <td>1.028502</td>\n",
              "      <td>1.028633</td>\n",
              "    </tr>\n",
              "    <tr>\n",
              "      <th>min</th>\n",
              "      <td>0.0000</td>\n",
              "      <td>18.000000</td>\n",
              "      <td>348.670000</td>\n",
              "      <td>0.099747</td>\n",
              "      <td>1.000000</td>\n",
              "      <td>0.000000</td>\n",
              "      <td>0.000000</td>\n",
              "      <td>1.000259</td>\n",
              "      <td>79.978860</td>\n",
              "      <td>155.506715</td>\n",
              "      <td>1.000000</td>\n",
              "      <td>1.000000</td>\n",
              "      <td>1.000000</td>\n",
              "      <td>1.000000</td>\n",
              "      <td>1.000000</td>\n",
              "      <td>1.000000</td>\n",
              "      <td>1.000000</td>\n",
              "      <td>1.000000</td>\n",
              "    </tr>\n",
              "    <tr>\n",
              "      <th>25%</th>\n",
              "      <td>0.0000</td>\n",
              "      <td>35.000000</td>\n",
              "      <td>19224.717500</td>\n",
              "      <td>8.018214</td>\n",
              "      <td>10.000000</td>\n",
              "      <td>0.000000</td>\n",
              "      <td>0.000000</td>\n",
              "      <td>7.917694</td>\n",
              "      <td>139.979239</td>\n",
              "      <td>1236.470827</td>\n",
              "      <td>3.000000</td>\n",
              "      <td>3.000000</td>\n",
              "      <td>3.000000</td>\n",
              "      <td>3.000000</td>\n",
              "      <td>3.000000</td>\n",
              "      <td>3.000000</td>\n",
              "      <td>3.000000</td>\n",
              "      <td>3.000000</td>\n",
              "    </tr>\n",
              "    <tr>\n",
              "      <th>50%</th>\n",
              "      <td>1.0000</td>\n",
              "      <td>53.000000</td>\n",
              "      <td>33170.605000</td>\n",
              "      <td>10.018560</td>\n",
              "      <td>12.000000</td>\n",
              "      <td>1.000000</td>\n",
              "      <td>0.000000</td>\n",
              "      <td>35.430507</td>\n",
              "      <td>167.484700</td>\n",
              "      <td>3279.536903</td>\n",
              "      <td>3.000000</td>\n",
              "      <td>4.000000</td>\n",
              "      <td>3.000000</td>\n",
              "      <td>3.000000</td>\n",
              "      <td>3.000000</td>\n",
              "      <td>3.000000</td>\n",
              "      <td>4.000000</td>\n",
              "      <td>3.000000</td>\n",
              "    </tr>\n",
              "    <tr>\n",
              "      <th>75%</th>\n",
              "      <td>3.0000</td>\n",
              "      <td>71.000000</td>\n",
              "      <td>53246.170000</td>\n",
              "      <td>11.969485</td>\n",
              "      <td>14.000000</td>\n",
              "      <td>2.000000</td>\n",
              "      <td>1.000000</td>\n",
              "      <td>61.479795</td>\n",
              "      <td>200.734725</td>\n",
              "      <td>5586.141369</td>\n",
              "      <td>4.000000</td>\n",
              "      <td>4.000000</td>\n",
              "      <td>4.000000</td>\n",
              "      <td>4.000000</td>\n",
              "      <td>4.000000</td>\n",
              "      <td>4.000000</td>\n",
              "      <td>4.000000</td>\n",
              "      <td>4.000000</td>\n",
              "    </tr>\n",
              "    <tr>\n",
              "      <th>max</th>\n",
              "      <td>10.0000</td>\n",
              "      <td>89.000000</td>\n",
              "      <td>258900.700000</td>\n",
              "      <td>21.207230</td>\n",
              "      <td>23.000000</td>\n",
              "      <td>7.000000</td>\n",
              "      <td>6.000000</td>\n",
              "      <td>71.999280</td>\n",
              "      <td>290.160419</td>\n",
              "      <td>7158.981530</td>\n",
              "      <td>7.000000</td>\n",
              "      <td>7.000000</td>\n",
              "      <td>8.000000</td>\n",
              "      <td>7.000000</td>\n",
              "      <td>7.000000</td>\n",
              "      <td>8.000000</td>\n",
              "      <td>7.000000</td>\n",
              "      <td>8.000000</td>\n",
              "    </tr>\n",
              "  </tbody>\n",
              "</table>\n",
              "</div>"
            ],
            "text/plain": [
              "         Children           Age  ...     Courteous     Listening\n",
              "count  10000.0000  10000.000000  ...  10000.000000  10000.000000\n",
              "mean       2.0877     53.078400  ...      3.509500      3.495600\n",
              "std        2.1472     20.698882  ...      1.028502      1.028633\n",
              "min        0.0000     18.000000  ...      1.000000      1.000000\n",
              "25%        0.0000     35.000000  ...      3.000000      3.000000\n",
              "50%        1.0000     53.000000  ...      4.000000      3.000000\n",
              "75%        3.0000     71.000000  ...      4.000000      4.000000\n",
              "max       10.0000     89.000000  ...      7.000000      8.000000\n",
              "\n",
              "[8 rows x 18 columns]"
            ]
          },
          "metadata": {
            "tags": []
          },
          "execution_count": 9
        }
      ]
    },
    {
      "cell_type": "code",
      "metadata": {
        "colab": {
          "base_uri": "https://localhost:8080/"
        },
        "id": "RnvwnCASvv2L",
        "outputId": "db8140b9-e919-4e52-a139-08fbdf7b81c2"
      },
      "source": [
        "# Discover missing data points within dataset\n",
        "data_nulls = churn_df.isnull().sum()\n",
        "print(data_nulls)"
      ],
      "execution_count": 10,
      "outputs": [
        {
          "output_type": "stream",
          "text": [
            "Children                0\n",
            "Age                     0\n",
            "Income                  0\n",
            "Gender                  0\n",
            "Churn                   0\n",
            "Outage_sec_perweek      0\n",
            "Email                   0\n",
            "Contacts                0\n",
            "Yearly_equip_failure    0\n",
            "Techie                  0\n",
            "Contract                0\n",
            "Port_modem              0\n",
            "Tablet                  0\n",
            "InternetService         0\n",
            "Phone                   0\n",
            "Multiple                0\n",
            "OnlineSecurity          0\n",
            "OnlineBackup            0\n",
            "DeviceProtection        0\n",
            "TechSupport             0\n",
            "StreamingTV             0\n",
            "StreamingMovies         0\n",
            "PaperlessBilling        0\n",
            "Tenure                  0\n",
            "MonthlyCharge           0\n",
            "Bandwidth_GB_Year       0\n",
            "TimelyResponse          0\n",
            "Fixes                   0\n",
            "Replacements            0\n",
            "Reliability             0\n",
            "Options                 0\n",
            "Respectfulness          0\n",
            "Courteous               0\n",
            "Listening               0\n",
            "dtype: int64\n"
          ],
          "name": "stdout"
        }
      ]
    },
    {
      "cell_type": "markdown",
      "metadata": {
        "id": "X18frVHlvv2M"
      },
      "source": [
        "#### Dummy variable data preparation"
      ]
    },
    {
      "cell_type": "code",
      "metadata": {
        "id": "FuAR9IDfvv2M"
      },
      "source": [
        "churn_df['DummyGender'] = [1 if v == 'Male' else 0 for v in churn_df['Gender']]\n",
        "churn_df['DummyChurn'] = [1 if v == 'Yes' else 0 for v in churn_df['Churn']] ### If the customer left (churned) they get a '1'\n",
        "churn_df['DummyTechie'] = [1 if v == 'Yes' else 0 for v in churn_df['Techie']]\n",
        "churn_df['DummyContract'] = [1 if v == 'Two Year' else 0 for v in churn_df['Contract']]\n",
        "churn_df['DummyPort_modem'] = [1 if v == 'Yes' else 0 for v in churn_df['Port_modem']]\n",
        "churn_df['DummyTablet'] = [1 if v == 'Yes' else 0 for v in churn_df['Tablet']]\n",
        "churn_df['DummyInternetService'] = [1 if v == 'Fiber Optic' else 0 for v in churn_df['InternetService']]\n",
        "churn_df['DummyPhone'] = [1 if v == 'Yes' else 0 for v in churn_df['Phone']]\n",
        "churn_df['DummyMultiple'] = [1 if v == 'Yes' else 0 for v in churn_df['Multiple']]\n",
        "churn_df['DummyOnlineSecurity'] = [1 if v == 'Yes' else 0 for v in churn_df['OnlineSecurity']]\n",
        "churn_df['DummyOnlineBackup'] = [1 if v == 'Yes' else 0 for v in churn_df['OnlineBackup']]\n",
        "churn_df['DummyDeviceProtection'] = [1 if v == 'Yes' else 0 for v in churn_df['DeviceProtection']]\n",
        "churn_df['DummyTechSupport'] = [1 if v == 'Yes' else 0 for v in churn_df['TechSupport']]\n",
        "churn_df['DummyStreamingTV'] = [1 if v == 'Yes' else 0 for v in churn_df['StreamingTV']]\n",
        "churn_df['StreamingMovies'] = [1 if v == 'Yes' else 0 for v in churn_df['StreamingMovies']]\n",
        "churn_df['DummyPaperlessBilling'] = [1 if v == 'Yes' else 0 for v in churn_df['PaperlessBilling']]"
      ],
      "execution_count": 11,
      "outputs": []
    },
    {
      "cell_type": "code",
      "metadata": {
        "scrolled": true,
        "colab": {
          "base_uri": "https://localhost:8080/",
          "height": 258
        },
        "id": "j3aiMEk8vv2M",
        "outputId": "9491247a-8b02-4193-d496-d3d7cda8aadc"
      },
      "source": [
        "churn_df.head()"
      ],
      "execution_count": 12,
      "outputs": [
        {
          "output_type": "execute_result",
          "data": {
            "text/html": [
              "<div>\n",
              "<style scoped>\n",
              "    .dataframe tbody tr th:only-of-type {\n",
              "        vertical-align: middle;\n",
              "    }\n",
              "\n",
              "    .dataframe tbody tr th {\n",
              "        vertical-align: top;\n",
              "    }\n",
              "\n",
              "    .dataframe thead th {\n",
              "        text-align: right;\n",
              "    }\n",
              "</style>\n",
              "<table border=\"1\" class=\"dataframe\">\n",
              "  <thead>\n",
              "    <tr style=\"text-align: right;\">\n",
              "      <th></th>\n",
              "      <th>Children</th>\n",
              "      <th>Age</th>\n",
              "      <th>Income</th>\n",
              "      <th>Gender</th>\n",
              "      <th>Churn</th>\n",
              "      <th>Outage_sec_perweek</th>\n",
              "      <th>Email</th>\n",
              "      <th>Contacts</th>\n",
              "      <th>Yearly_equip_failure</th>\n",
              "      <th>Techie</th>\n",
              "      <th>Contract</th>\n",
              "      <th>Port_modem</th>\n",
              "      <th>Tablet</th>\n",
              "      <th>InternetService</th>\n",
              "      <th>Phone</th>\n",
              "      <th>Multiple</th>\n",
              "      <th>OnlineSecurity</th>\n",
              "      <th>OnlineBackup</th>\n",
              "      <th>DeviceProtection</th>\n",
              "      <th>TechSupport</th>\n",
              "      <th>StreamingTV</th>\n",
              "      <th>StreamingMovies</th>\n",
              "      <th>PaperlessBilling</th>\n",
              "      <th>Tenure</th>\n",
              "      <th>MonthlyCharge</th>\n",
              "      <th>Bandwidth_GB_Year</th>\n",
              "      <th>TimelyResponse</th>\n",
              "      <th>Fixes</th>\n",
              "      <th>Replacements</th>\n",
              "      <th>Reliability</th>\n",
              "      <th>Options</th>\n",
              "      <th>Respectfulness</th>\n",
              "      <th>Courteous</th>\n",
              "      <th>Listening</th>\n",
              "      <th>DummyGender</th>\n",
              "      <th>DummyChurn</th>\n",
              "      <th>DummyTechie</th>\n",
              "      <th>DummyContract</th>\n",
              "      <th>DummyPort_modem</th>\n",
              "      <th>DummyTablet</th>\n",
              "      <th>DummyInternetService</th>\n",
              "      <th>DummyPhone</th>\n",
              "      <th>DummyMultiple</th>\n",
              "      <th>DummyOnlineSecurity</th>\n",
              "      <th>DummyOnlineBackup</th>\n",
              "      <th>DummyDeviceProtection</th>\n",
              "      <th>DummyTechSupport</th>\n",
              "      <th>DummyStreamingTV</th>\n",
              "      <th>DummyPaperlessBilling</th>\n",
              "    </tr>\n",
              "  </thead>\n",
              "  <tbody>\n",
              "    <tr>\n",
              "      <th>0</th>\n",
              "      <td>0</td>\n",
              "      <td>68</td>\n",
              "      <td>28561.99</td>\n",
              "      <td>Male</td>\n",
              "      <td>No</td>\n",
              "      <td>7.978323</td>\n",
              "      <td>10</td>\n",
              "      <td>0</td>\n",
              "      <td>1</td>\n",
              "      <td>No</td>\n",
              "      <td>One year</td>\n",
              "      <td>Yes</td>\n",
              "      <td>Yes</td>\n",
              "      <td>Fiber Optic</td>\n",
              "      <td>Yes</td>\n",
              "      <td>No</td>\n",
              "      <td>Yes</td>\n",
              "      <td>Yes</td>\n",
              "      <td>No</td>\n",
              "      <td>No</td>\n",
              "      <td>No</td>\n",
              "      <td>1</td>\n",
              "      <td>Yes</td>\n",
              "      <td>6.795513</td>\n",
              "      <td>172.455519</td>\n",
              "      <td>904.536110</td>\n",
              "      <td>5</td>\n",
              "      <td>5</td>\n",
              "      <td>5</td>\n",
              "      <td>3</td>\n",
              "      <td>4</td>\n",
              "      <td>4</td>\n",
              "      <td>3</td>\n",
              "      <td>4</td>\n",
              "      <td>1</td>\n",
              "      <td>0</td>\n",
              "      <td>0</td>\n",
              "      <td>0</td>\n",
              "      <td>1</td>\n",
              "      <td>1</td>\n",
              "      <td>1</td>\n",
              "      <td>1</td>\n",
              "      <td>0</td>\n",
              "      <td>1</td>\n",
              "      <td>1</td>\n",
              "      <td>0</td>\n",
              "      <td>0</td>\n",
              "      <td>0</td>\n",
              "      <td>1</td>\n",
              "    </tr>\n",
              "    <tr>\n",
              "      <th>1</th>\n",
              "      <td>1</td>\n",
              "      <td>27</td>\n",
              "      <td>21704.77</td>\n",
              "      <td>Female</td>\n",
              "      <td>Yes</td>\n",
              "      <td>11.699080</td>\n",
              "      <td>12</td>\n",
              "      <td>0</td>\n",
              "      <td>1</td>\n",
              "      <td>Yes</td>\n",
              "      <td>Month-to-month</td>\n",
              "      <td>No</td>\n",
              "      <td>Yes</td>\n",
              "      <td>Fiber Optic</td>\n",
              "      <td>Yes</td>\n",
              "      <td>Yes</td>\n",
              "      <td>Yes</td>\n",
              "      <td>No</td>\n",
              "      <td>No</td>\n",
              "      <td>No</td>\n",
              "      <td>Yes</td>\n",
              "      <td>1</td>\n",
              "      <td>Yes</td>\n",
              "      <td>1.156681</td>\n",
              "      <td>242.632554</td>\n",
              "      <td>800.982766</td>\n",
              "      <td>3</td>\n",
              "      <td>4</td>\n",
              "      <td>3</td>\n",
              "      <td>3</td>\n",
              "      <td>4</td>\n",
              "      <td>3</td>\n",
              "      <td>4</td>\n",
              "      <td>4</td>\n",
              "      <td>0</td>\n",
              "      <td>1</td>\n",
              "      <td>1</td>\n",
              "      <td>0</td>\n",
              "      <td>0</td>\n",
              "      <td>1</td>\n",
              "      <td>1</td>\n",
              "      <td>1</td>\n",
              "      <td>1</td>\n",
              "      <td>1</td>\n",
              "      <td>0</td>\n",
              "      <td>0</td>\n",
              "      <td>0</td>\n",
              "      <td>1</td>\n",
              "      <td>1</td>\n",
              "    </tr>\n",
              "    <tr>\n",
              "      <th>2</th>\n",
              "      <td>4</td>\n",
              "      <td>50</td>\n",
              "      <td>9609.57</td>\n",
              "      <td>Female</td>\n",
              "      <td>No</td>\n",
              "      <td>10.752800</td>\n",
              "      <td>9</td>\n",
              "      <td>0</td>\n",
              "      <td>1</td>\n",
              "      <td>Yes</td>\n",
              "      <td>Two Year</td>\n",
              "      <td>Yes</td>\n",
              "      <td>No</td>\n",
              "      <td>DSL</td>\n",
              "      <td>Yes</td>\n",
              "      <td>Yes</td>\n",
              "      <td>No</td>\n",
              "      <td>No</td>\n",
              "      <td>No</td>\n",
              "      <td>No</td>\n",
              "      <td>No</td>\n",
              "      <td>1</td>\n",
              "      <td>Yes</td>\n",
              "      <td>15.754144</td>\n",
              "      <td>159.947583</td>\n",
              "      <td>2054.706961</td>\n",
              "      <td>4</td>\n",
              "      <td>4</td>\n",
              "      <td>2</td>\n",
              "      <td>4</td>\n",
              "      <td>4</td>\n",
              "      <td>3</td>\n",
              "      <td>3</td>\n",
              "      <td>3</td>\n",
              "      <td>0</td>\n",
              "      <td>0</td>\n",
              "      <td>1</td>\n",
              "      <td>1</td>\n",
              "      <td>1</td>\n",
              "      <td>0</td>\n",
              "      <td>0</td>\n",
              "      <td>1</td>\n",
              "      <td>1</td>\n",
              "      <td>0</td>\n",
              "      <td>0</td>\n",
              "      <td>0</td>\n",
              "      <td>0</td>\n",
              "      <td>0</td>\n",
              "      <td>1</td>\n",
              "    </tr>\n",
              "    <tr>\n",
              "      <th>3</th>\n",
              "      <td>1</td>\n",
              "      <td>48</td>\n",
              "      <td>18925.23</td>\n",
              "      <td>Male</td>\n",
              "      <td>No</td>\n",
              "      <td>14.913540</td>\n",
              "      <td>15</td>\n",
              "      <td>2</td>\n",
              "      <td>0</td>\n",
              "      <td>Yes</td>\n",
              "      <td>Two Year</td>\n",
              "      <td>No</td>\n",
              "      <td>No</td>\n",
              "      <td>DSL</td>\n",
              "      <td>Yes</td>\n",
              "      <td>No</td>\n",
              "      <td>Yes</td>\n",
              "      <td>No</td>\n",
              "      <td>No</td>\n",
              "      <td>No</td>\n",
              "      <td>Yes</td>\n",
              "      <td>0</td>\n",
              "      <td>Yes</td>\n",
              "      <td>17.087227</td>\n",
              "      <td>119.956840</td>\n",
              "      <td>2164.579412</td>\n",
              "      <td>4</td>\n",
              "      <td>4</td>\n",
              "      <td>4</td>\n",
              "      <td>2</td>\n",
              "      <td>5</td>\n",
              "      <td>4</td>\n",
              "      <td>3</td>\n",
              "      <td>3</td>\n",
              "      <td>1</td>\n",
              "      <td>0</td>\n",
              "      <td>1</td>\n",
              "      <td>1</td>\n",
              "      <td>0</td>\n",
              "      <td>0</td>\n",
              "      <td>0</td>\n",
              "      <td>1</td>\n",
              "      <td>0</td>\n",
              "      <td>1</td>\n",
              "      <td>0</td>\n",
              "      <td>0</td>\n",
              "      <td>0</td>\n",
              "      <td>1</td>\n",
              "      <td>1</td>\n",
              "    </tr>\n",
              "    <tr>\n",
              "      <th>4</th>\n",
              "      <td>0</td>\n",
              "      <td>83</td>\n",
              "      <td>40074.19</td>\n",
              "      <td>Male</td>\n",
              "      <td>Yes</td>\n",
              "      <td>8.147417</td>\n",
              "      <td>16</td>\n",
              "      <td>2</td>\n",
              "      <td>1</td>\n",
              "      <td>No</td>\n",
              "      <td>Month-to-month</td>\n",
              "      <td>Yes</td>\n",
              "      <td>No</td>\n",
              "      <td>Fiber Optic</td>\n",
              "      <td>No</td>\n",
              "      <td>No</td>\n",
              "      <td>No</td>\n",
              "      <td>No</td>\n",
              "      <td>No</td>\n",
              "      <td>Yes</td>\n",
              "      <td>Yes</td>\n",
              "      <td>0</td>\n",
              "      <td>No</td>\n",
              "      <td>1.670972</td>\n",
              "      <td>149.948316</td>\n",
              "      <td>271.493436</td>\n",
              "      <td>4</td>\n",
              "      <td>4</td>\n",
              "      <td>4</td>\n",
              "      <td>3</td>\n",
              "      <td>4</td>\n",
              "      <td>4</td>\n",
              "      <td>4</td>\n",
              "      <td>5</td>\n",
              "      <td>1</td>\n",
              "      <td>1</td>\n",
              "      <td>0</td>\n",
              "      <td>0</td>\n",
              "      <td>1</td>\n",
              "      <td>0</td>\n",
              "      <td>1</td>\n",
              "      <td>0</td>\n",
              "      <td>0</td>\n",
              "      <td>0</td>\n",
              "      <td>0</td>\n",
              "      <td>0</td>\n",
              "      <td>1</td>\n",
              "      <td>1</td>\n",
              "      <td>0</td>\n",
              "    </tr>\n",
              "  </tbody>\n",
              "</table>\n",
              "</div>"
            ],
            "text/plain": [
              "   Children  Age  ...  DummyStreamingTV DummyPaperlessBilling\n",
              "0         0   68  ...                 0                     1\n",
              "1         1   27  ...                 1                     1\n",
              "2         4   50  ...                 0                     1\n",
              "3         1   48  ...                 1                     1\n",
              "4         0   83  ...                 1                     0\n",
              "\n",
              "[5 rows x 49 columns]"
            ]
          },
          "metadata": {
            "tags": []
          },
          "execution_count": 12
        }
      ]
    },
    {
      "cell_type": "code",
      "metadata": {
        "colab": {
          "base_uri": "https://localhost:8080/",
          "height": 317
        },
        "id": "64gTDUmSvv2M",
        "outputId": "e9ceee4c-e3d1-44c8-8519-963ea43d592b"
      },
      "source": [
        "# Drop original categorical features from dataframe\n",
        "churn_df = churn_df.drop(columns=['Gender', 'Churn', 'Techie', 'Contract', 'Port_modem', 'Tablet', \n",
        "                                  'InternetService', 'Phone', 'Multiple', 'OnlineSecurity', \n",
        "                                  'OnlineBackup', 'DeviceProtection', 'TechSupport', \n",
        "                                  'StreamingTV', 'StreamingMovies', 'PaperlessBilling'])\n",
        "churn_df.describe()"
      ],
      "execution_count": 13,
      "outputs": [
        {
          "output_type": "execute_result",
          "data": {
            "text/html": [
              "<div>\n",
              "<style scoped>\n",
              "    .dataframe tbody tr th:only-of-type {\n",
              "        vertical-align: middle;\n",
              "    }\n",
              "\n",
              "    .dataframe tbody tr th {\n",
              "        vertical-align: top;\n",
              "    }\n",
              "\n",
              "    .dataframe thead th {\n",
              "        text-align: right;\n",
              "    }\n",
              "</style>\n",
              "<table border=\"1\" class=\"dataframe\">\n",
              "  <thead>\n",
              "    <tr style=\"text-align: right;\">\n",
              "      <th></th>\n",
              "      <th>Children</th>\n",
              "      <th>Age</th>\n",
              "      <th>Income</th>\n",
              "      <th>Outage_sec_perweek</th>\n",
              "      <th>Email</th>\n",
              "      <th>Contacts</th>\n",
              "      <th>Yearly_equip_failure</th>\n",
              "      <th>Tenure</th>\n",
              "      <th>MonthlyCharge</th>\n",
              "      <th>Bandwidth_GB_Year</th>\n",
              "      <th>TimelyResponse</th>\n",
              "      <th>Fixes</th>\n",
              "      <th>Replacements</th>\n",
              "      <th>Reliability</th>\n",
              "      <th>Options</th>\n",
              "      <th>Respectfulness</th>\n",
              "      <th>Courteous</th>\n",
              "      <th>Listening</th>\n",
              "      <th>DummyGender</th>\n",
              "      <th>DummyChurn</th>\n",
              "      <th>DummyTechie</th>\n",
              "      <th>DummyContract</th>\n",
              "      <th>DummyPort_modem</th>\n",
              "      <th>DummyTablet</th>\n",
              "      <th>DummyInternetService</th>\n",
              "      <th>DummyPhone</th>\n",
              "      <th>DummyMultiple</th>\n",
              "      <th>DummyOnlineSecurity</th>\n",
              "      <th>DummyOnlineBackup</th>\n",
              "      <th>DummyDeviceProtection</th>\n",
              "      <th>DummyTechSupport</th>\n",
              "      <th>DummyStreamingTV</th>\n",
              "      <th>DummyPaperlessBilling</th>\n",
              "    </tr>\n",
              "  </thead>\n",
              "  <tbody>\n",
              "    <tr>\n",
              "      <th>count</th>\n",
              "      <td>10000.0000</td>\n",
              "      <td>10000.000000</td>\n",
              "      <td>10000.000000</td>\n",
              "      <td>10000.000000</td>\n",
              "      <td>10000.000000</td>\n",
              "      <td>10000.000000</td>\n",
              "      <td>10000.000000</td>\n",
              "      <td>10000.000000</td>\n",
              "      <td>10000.000000</td>\n",
              "      <td>10000.000000</td>\n",
              "      <td>10000.000000</td>\n",
              "      <td>10000.000000</td>\n",
              "      <td>10000.000000</td>\n",
              "      <td>10000.000000</td>\n",
              "      <td>10000.000000</td>\n",
              "      <td>10000.000000</td>\n",
              "      <td>10000.000000</td>\n",
              "      <td>10000.000000</td>\n",
              "      <td>10000.000000</td>\n",
              "      <td>10000.000000</td>\n",
              "      <td>10000.000000</td>\n",
              "      <td>10000.000000</td>\n",
              "      <td>10000.000000</td>\n",
              "      <td>10000.000000</td>\n",
              "      <td>10000.000000</td>\n",
              "      <td>10000.000000</td>\n",
              "      <td>10000.000000</td>\n",
              "      <td>10000.000000</td>\n",
              "      <td>10000.000000</td>\n",
              "      <td>10000.000000</td>\n",
              "      <td>10000.000000</td>\n",
              "      <td>10000.000000</td>\n",
              "      <td>10000.000000</td>\n",
              "    </tr>\n",
              "    <tr>\n",
              "      <th>mean</th>\n",
              "      <td>2.0877</td>\n",
              "      <td>53.078400</td>\n",
              "      <td>39806.926771</td>\n",
              "      <td>10.001848</td>\n",
              "      <td>12.016000</td>\n",
              "      <td>0.994200</td>\n",
              "      <td>0.398000</td>\n",
              "      <td>34.526188</td>\n",
              "      <td>172.624816</td>\n",
              "      <td>3392.341550</td>\n",
              "      <td>3.490800</td>\n",
              "      <td>3.505100</td>\n",
              "      <td>3.487000</td>\n",
              "      <td>3.497500</td>\n",
              "      <td>3.492900</td>\n",
              "      <td>3.497300</td>\n",
              "      <td>3.509500</td>\n",
              "      <td>3.495600</td>\n",
              "      <td>0.474400</td>\n",
              "      <td>0.265000</td>\n",
              "      <td>0.167900</td>\n",
              "      <td>0.244200</td>\n",
              "      <td>0.483400</td>\n",
              "      <td>0.299100</td>\n",
              "      <td>0.440800</td>\n",
              "      <td>0.906700</td>\n",
              "      <td>0.460800</td>\n",
              "      <td>0.357600</td>\n",
              "      <td>0.450600</td>\n",
              "      <td>0.438600</td>\n",
              "      <td>0.375000</td>\n",
              "      <td>0.492900</td>\n",
              "      <td>0.588200</td>\n",
              "    </tr>\n",
              "    <tr>\n",
              "      <th>std</th>\n",
              "      <td>2.1472</td>\n",
              "      <td>20.698882</td>\n",
              "      <td>28199.916702</td>\n",
              "      <td>2.976019</td>\n",
              "      <td>3.025898</td>\n",
              "      <td>0.988466</td>\n",
              "      <td>0.635953</td>\n",
              "      <td>26.443063</td>\n",
              "      <td>42.943094</td>\n",
              "      <td>2185.294852</td>\n",
              "      <td>1.037797</td>\n",
              "      <td>1.034641</td>\n",
              "      <td>1.027977</td>\n",
              "      <td>1.025816</td>\n",
              "      <td>1.024819</td>\n",
              "      <td>1.033586</td>\n",
              "      <td>1.028502</td>\n",
              "      <td>1.028633</td>\n",
              "      <td>0.499369</td>\n",
              "      <td>0.441355</td>\n",
              "      <td>0.373796</td>\n",
              "      <td>0.429633</td>\n",
              "      <td>0.499749</td>\n",
              "      <td>0.457887</td>\n",
              "      <td>0.496508</td>\n",
              "      <td>0.290867</td>\n",
              "      <td>0.498486</td>\n",
              "      <td>0.479317</td>\n",
              "      <td>0.497579</td>\n",
              "      <td>0.496241</td>\n",
              "      <td>0.484147</td>\n",
              "      <td>0.499975</td>\n",
              "      <td>0.492184</td>\n",
              "    </tr>\n",
              "    <tr>\n",
              "      <th>min</th>\n",
              "      <td>0.0000</td>\n",
              "      <td>18.000000</td>\n",
              "      <td>348.670000</td>\n",
              "      <td>0.099747</td>\n",
              "      <td>1.000000</td>\n",
              "      <td>0.000000</td>\n",
              "      <td>0.000000</td>\n",
              "      <td>1.000259</td>\n",
              "      <td>79.978860</td>\n",
              "      <td>155.506715</td>\n",
              "      <td>1.000000</td>\n",
              "      <td>1.000000</td>\n",
              "      <td>1.000000</td>\n",
              "      <td>1.000000</td>\n",
              "      <td>1.000000</td>\n",
              "      <td>1.000000</td>\n",
              "      <td>1.000000</td>\n",
              "      <td>1.000000</td>\n",
              "      <td>0.000000</td>\n",
              "      <td>0.000000</td>\n",
              "      <td>0.000000</td>\n",
              "      <td>0.000000</td>\n",
              "      <td>0.000000</td>\n",
              "      <td>0.000000</td>\n",
              "      <td>0.000000</td>\n",
              "      <td>0.000000</td>\n",
              "      <td>0.000000</td>\n",
              "      <td>0.000000</td>\n",
              "      <td>0.000000</td>\n",
              "      <td>0.000000</td>\n",
              "      <td>0.000000</td>\n",
              "      <td>0.000000</td>\n",
              "      <td>0.000000</td>\n",
              "    </tr>\n",
              "    <tr>\n",
              "      <th>25%</th>\n",
              "      <td>0.0000</td>\n",
              "      <td>35.000000</td>\n",
              "      <td>19224.717500</td>\n",
              "      <td>8.018214</td>\n",
              "      <td>10.000000</td>\n",
              "      <td>0.000000</td>\n",
              "      <td>0.000000</td>\n",
              "      <td>7.917694</td>\n",
              "      <td>139.979239</td>\n",
              "      <td>1236.470827</td>\n",
              "      <td>3.000000</td>\n",
              "      <td>3.000000</td>\n",
              "      <td>3.000000</td>\n",
              "      <td>3.000000</td>\n",
              "      <td>3.000000</td>\n",
              "      <td>3.000000</td>\n",
              "      <td>3.000000</td>\n",
              "      <td>3.000000</td>\n",
              "      <td>0.000000</td>\n",
              "      <td>0.000000</td>\n",
              "      <td>0.000000</td>\n",
              "      <td>0.000000</td>\n",
              "      <td>0.000000</td>\n",
              "      <td>0.000000</td>\n",
              "      <td>0.000000</td>\n",
              "      <td>1.000000</td>\n",
              "      <td>0.000000</td>\n",
              "      <td>0.000000</td>\n",
              "      <td>0.000000</td>\n",
              "      <td>0.000000</td>\n",
              "      <td>0.000000</td>\n",
              "      <td>0.000000</td>\n",
              "      <td>0.000000</td>\n",
              "    </tr>\n",
              "    <tr>\n",
              "      <th>50%</th>\n",
              "      <td>1.0000</td>\n",
              "      <td>53.000000</td>\n",
              "      <td>33170.605000</td>\n",
              "      <td>10.018560</td>\n",
              "      <td>12.000000</td>\n",
              "      <td>1.000000</td>\n",
              "      <td>0.000000</td>\n",
              "      <td>35.430507</td>\n",
              "      <td>167.484700</td>\n",
              "      <td>3279.536903</td>\n",
              "      <td>3.000000</td>\n",
              "      <td>4.000000</td>\n",
              "      <td>3.000000</td>\n",
              "      <td>3.000000</td>\n",
              "      <td>3.000000</td>\n",
              "      <td>3.000000</td>\n",
              "      <td>4.000000</td>\n",
              "      <td>3.000000</td>\n",
              "      <td>0.000000</td>\n",
              "      <td>0.000000</td>\n",
              "      <td>0.000000</td>\n",
              "      <td>0.000000</td>\n",
              "      <td>0.000000</td>\n",
              "      <td>0.000000</td>\n",
              "      <td>0.000000</td>\n",
              "      <td>1.000000</td>\n",
              "      <td>0.000000</td>\n",
              "      <td>0.000000</td>\n",
              "      <td>0.000000</td>\n",
              "      <td>0.000000</td>\n",
              "      <td>0.000000</td>\n",
              "      <td>0.000000</td>\n",
              "      <td>1.000000</td>\n",
              "    </tr>\n",
              "    <tr>\n",
              "      <th>75%</th>\n",
              "      <td>3.0000</td>\n",
              "      <td>71.000000</td>\n",
              "      <td>53246.170000</td>\n",
              "      <td>11.969485</td>\n",
              "      <td>14.000000</td>\n",
              "      <td>2.000000</td>\n",
              "      <td>1.000000</td>\n",
              "      <td>61.479795</td>\n",
              "      <td>200.734725</td>\n",
              "      <td>5586.141369</td>\n",
              "      <td>4.000000</td>\n",
              "      <td>4.000000</td>\n",
              "      <td>4.000000</td>\n",
              "      <td>4.000000</td>\n",
              "      <td>4.000000</td>\n",
              "      <td>4.000000</td>\n",
              "      <td>4.000000</td>\n",
              "      <td>4.000000</td>\n",
              "      <td>1.000000</td>\n",
              "      <td>1.000000</td>\n",
              "      <td>0.000000</td>\n",
              "      <td>0.000000</td>\n",
              "      <td>1.000000</td>\n",
              "      <td>1.000000</td>\n",
              "      <td>1.000000</td>\n",
              "      <td>1.000000</td>\n",
              "      <td>1.000000</td>\n",
              "      <td>1.000000</td>\n",
              "      <td>1.000000</td>\n",
              "      <td>1.000000</td>\n",
              "      <td>1.000000</td>\n",
              "      <td>1.000000</td>\n",
              "      <td>1.000000</td>\n",
              "    </tr>\n",
              "    <tr>\n",
              "      <th>max</th>\n",
              "      <td>10.0000</td>\n",
              "      <td>89.000000</td>\n",
              "      <td>258900.700000</td>\n",
              "      <td>21.207230</td>\n",
              "      <td>23.000000</td>\n",
              "      <td>7.000000</td>\n",
              "      <td>6.000000</td>\n",
              "      <td>71.999280</td>\n",
              "      <td>290.160419</td>\n",
              "      <td>7158.981530</td>\n",
              "      <td>7.000000</td>\n",
              "      <td>7.000000</td>\n",
              "      <td>8.000000</td>\n",
              "      <td>7.000000</td>\n",
              "      <td>7.000000</td>\n",
              "      <td>8.000000</td>\n",
              "      <td>7.000000</td>\n",
              "      <td>8.000000</td>\n",
              "      <td>1.000000</td>\n",
              "      <td>1.000000</td>\n",
              "      <td>1.000000</td>\n",
              "      <td>1.000000</td>\n",
              "      <td>1.000000</td>\n",
              "      <td>1.000000</td>\n",
              "      <td>1.000000</td>\n",
              "      <td>1.000000</td>\n",
              "      <td>1.000000</td>\n",
              "      <td>1.000000</td>\n",
              "      <td>1.000000</td>\n",
              "      <td>1.000000</td>\n",
              "      <td>1.000000</td>\n",
              "      <td>1.000000</td>\n",
              "      <td>1.000000</td>\n",
              "    </tr>\n",
              "  </tbody>\n",
              "</table>\n",
              "</div>"
            ],
            "text/plain": [
              "         Children           Age  ...  DummyStreamingTV  DummyPaperlessBilling\n",
              "count  10000.0000  10000.000000  ...      10000.000000           10000.000000\n",
              "mean       2.0877     53.078400  ...          0.492900               0.588200\n",
              "std        2.1472     20.698882  ...          0.499975               0.492184\n",
              "min        0.0000     18.000000  ...          0.000000               0.000000\n",
              "25%        0.0000     35.000000  ...          0.000000               0.000000\n",
              "50%        1.0000     53.000000  ...          0.000000               1.000000\n",
              "75%        3.0000     71.000000  ...          1.000000               1.000000\n",
              "max       10.0000     89.000000  ...          1.000000               1.000000\n",
              "\n",
              "[8 rows x 33 columns]"
            ]
          },
          "metadata": {
            "tags": []
          },
          "execution_count": 13
        }
      ]
    },
    {
      "cell_type": "code",
      "metadata": {
        "colab": {
          "base_uri": "https://localhost:8080/"
        },
        "id": "K0BFZhjtvv2N",
        "outputId": "2a86d3be-9319-49ad-f2e9-b48553edb95d"
      },
      "source": [
        "df = churn_df.columns\n",
        "print(df)"
      ],
      "execution_count": 14,
      "outputs": [
        {
          "output_type": "stream",
          "text": [
            "Index(['Children', 'Age', 'Income', 'Outage_sec_perweek', 'Email', 'Contacts',\n",
            "       'Yearly_equip_failure', 'Tenure', 'MonthlyCharge', 'Bandwidth_GB_Year',\n",
            "       'TimelyResponse', 'Fixes', 'Replacements', 'Reliability', 'Options',\n",
            "       'Respectfulness', 'Courteous', 'Listening', 'DummyGender', 'DummyChurn',\n",
            "       'DummyTechie', 'DummyContract', 'DummyPort_modem', 'DummyTablet',\n",
            "       'DummyInternetService', 'DummyPhone', 'DummyMultiple',\n",
            "       'DummyOnlineSecurity', 'DummyOnlineBackup', 'DummyDeviceProtection',\n",
            "       'DummyTechSupport', 'DummyStreamingTV', 'DummyPaperlessBilling'],\n",
            "      dtype='object')\n"
          ],
          "name": "stdout"
        }
      ]
    },
    {
      "cell_type": "code",
      "metadata": {
        "id": "w-j8XVwMvv2N"
      },
      "source": [
        "# Move DummyChurn to end of dataset as target\n",
        "churn_df = churn_df[['Children', 'Age', 'Income', 'Outage_sec_perweek', 'Email', 'Contacts',\n",
        "       'Yearly_equip_failure', 'Tenure', 'MonthlyCharge', 'Bandwidth_GB_Year', \n",
        "        'TimelyResponse', 'Fixes', 'Replacements',\n",
        "       'Reliability', 'Options', 'Respectfulness', 'Courteous', 'Listening',\n",
        "       'DummyGender', 'DummyTechie', 'DummyContract',\n",
        "       'DummyPort_modem', 'DummyTablet', 'DummyInternetService', 'DummyPhone',\n",
        "       'DummyMultiple', 'DummyOnlineSecurity', 'DummyOnlineBackup',\n",
        "       'DummyDeviceProtection', 'DummyTechSupport', 'DummyStreamingTV',\n",
        "       'DummyPaperlessBilling', 'DummyChurn']]"
      ],
      "execution_count": 15,
      "outputs": []
    },
    {
      "cell_type": "code",
      "metadata": {
        "scrolled": true,
        "colab": {
          "base_uri": "https://localhost:8080/"
        },
        "id": "ee4BxjFFvv2N",
        "outputId": "d84986e0-ccf3-4333-a00f-63f0266f2fd7"
      },
      "source": [
        "df = churn_df.columns\n",
        "print(df)"
      ],
      "execution_count": 16,
      "outputs": [
        {
          "output_type": "stream",
          "text": [
            "Index(['Children', 'Age', 'Income', 'Outage_sec_perweek', 'Email', 'Contacts',\n",
            "       'Yearly_equip_failure', 'Tenure', 'MonthlyCharge', 'Bandwidth_GB_Year',\n",
            "       'TimelyResponse', 'Fixes', 'Replacements', 'Reliability', 'Options',\n",
            "       'Respectfulness', 'Courteous', 'Listening', 'DummyGender',\n",
            "       'DummyTechie', 'DummyContract', 'DummyPort_modem', 'DummyTablet',\n",
            "       'DummyInternetService', 'DummyPhone', 'DummyMultiple',\n",
            "       'DummyOnlineSecurity', 'DummyOnlineBackup', 'DummyDeviceProtection',\n",
            "       'DummyTechSupport', 'DummyStreamingTV', 'DummyPaperlessBilling',\n",
            "       'DummyChurn'],\n",
            "      dtype='object')\n"
          ],
          "name": "stdout"
        }
      ]
    },
    {
      "cell_type": "markdown",
      "metadata": {
        "id": "tW_XFVRivv2N"
      },
      "source": [
        "#### <span style=\"color:green\"><b>C4. Visualizations</b>:</span>"
      ]
    },
    {
      "cell_type": "code",
      "metadata": {
        "colab": {
          "base_uri": "https://localhost:8080/",
          "height": 949
        },
        "id": "G1w6-Jmnvv2N",
        "outputId": "84d9689c-2cac-4359-fa37-667a540f57d3"
      },
      "source": [
        "# Visualize missing values in dataset\n",
        "\n",
        "# Install appropriate library\n",
        "!pip install missingno\n",
        "\n",
        "# Importing the libraries\n",
        "import missingno as msno\n",
        "\n",
        "# Visualize missing values as a matrix\n",
        "msno.matrix(churn_df);"
      ],
      "execution_count": 17,
      "outputs": [
        {
          "output_type": "stream",
          "text": [
            "Requirement already satisfied: missingno in /usr/local/lib/python3.7/dist-packages (0.5.0)\n",
            "Requirement already satisfied: numpy in /usr/local/lib/python3.7/dist-packages (from missingno) (1.19.5)\n",
            "Requirement already satisfied: seaborn in /usr/local/lib/python3.7/dist-packages (from missingno) (0.11.1)\n",
            "Requirement already satisfied: matplotlib in /usr/local/lib/python3.7/dist-packages (from missingno) (3.2.2)\n",
            "Requirement already satisfied: scipy in /usr/local/lib/python3.7/dist-packages (from missingno) (1.4.1)\n",
            "Requirement already satisfied: python-dateutil>=2.1 in /usr/local/lib/python3.7/dist-packages (from matplotlib->missingno) (2.8.1)\n",
            "Requirement already satisfied: cycler>=0.10 in /usr/local/lib/python3.7/dist-packages (from matplotlib->missingno) (0.10.0)\n",
            "Requirement already satisfied: pyparsing!=2.0.4,!=2.1.2,!=2.1.6,>=2.0.1 in /usr/local/lib/python3.7/dist-packages (from matplotlib->missingno) (2.4.7)\n",
            "Requirement already satisfied: kiwisolver>=1.0.1 in /usr/local/lib/python3.7/dist-packages (from matplotlib->missingno) (1.3.1)\n",
            "Requirement already satisfied: six in /usr/local/lib/python3.7/dist-packages (from cycler>=0.10->matplotlib->missingno) (1.15.0)\n",
            "Requirement already satisfied: pandas>=0.23 in /usr/local/lib/python3.7/dist-packages (from seaborn->missingno) (1.1.5)\n",
            "Requirement already satisfied: pytz>=2017.2 in /usr/local/lib/python3.7/dist-packages (from pandas>=0.23->seaborn->missingno) (2018.9)\n"
          ],
          "name": "stdout"
        },
        {
          "output_type": "display_data",
          "data": {
            "image/png": "[encoded data removed]",
            "text/plain": [
              "<Figure size 1800x720 with 2 Axes>"
            ]
          },
          "metadata": {
            "tags": [],
            "needs_background": "dark"
          }
        }
      ]
    },
    {
      "cell_type": "markdown",
      "metadata": {
        "id": "A4gNa7kQvv2O"
      },
      "source": [
        "#### Univariate Statistics"
      ]
    },
    {
      "cell_type": "code",
      "metadata": {
        "scrolled": true,
        "colab": {
          "base_uri": "https://localhost:8080/",
          "height": 297
        },
        "id": "22_smbY8vv2O",
        "outputId": "97c2da3d-38ec-4e20-c34e-b8f5522d746f"
      },
      "source": [
        "# Create histograms of contiuous variables\n",
        "churn_df[['Children', 'Age', 'Income', 'Outage_sec_perweek', 'Email', \n",
        "          'Contacts', 'Yearly_equip_failure', 'Tenure', 'MonthlyCharge', \n",
        "          'Bandwidth_GB_Year']].hist()\n",
        "plt.savefig('churn_pyplot.jpg')\n",
        "plt.tight_layout()"
      ],
      "execution_count": 18,
      "outputs": [
        {
          "output_type": "display_data",
          "data": {
            "image/png": "[encoded data removed]",
            "text/plain": [
              "<Figure size 432x288 with 12 Axes>"
            ]
          },
          "metadata": {
            "tags": [],
            "needs_background": "dark"
          }
        }
      ]
    },
    {
      "cell_type": "code",
      "metadata": {
        "colab": {
          "base_uri": "https://localhost:8080/",
          "height": 279
        },
        "id": "JCnHW_hUvv2O",
        "outputId": "170c357c-30c5-465d-d3e4-a000a49eedaa"
      },
      "source": [
        "# Create Seaborn boxplots for continuous variables\n",
        "sns.boxplot('Tenure', data = churn_df)\n",
        "plt.show()"
      ],
      "execution_count": 19,
      "outputs": [
        {
          "output_type": "display_data",
          "data": {
            "image/png": "[encoded data removed]",
            "text/plain": [
              "<Figure size 432x288 with 1 Axes>"
            ]
          },
          "metadata": {
            "tags": [],
            "needs_background": "dark"
          }
        }
      ]
    },
    {
      "cell_type": "code",
      "metadata": {
        "colab": {
          "base_uri": "https://localhost:8080/",
          "height": 279
        },
        "id": "oIyquiI_vv2O",
        "outputId": "30f64eee-0e61-4899-a652-ae98b16698fc"
      },
      "source": [
        "sns.boxplot('MonthlyCharge', data = churn_df)\n",
        "plt.show()"
      ],
      "execution_count": 20,
      "outputs": [
        {
          "output_type": "display_data",
          "data": {
            "image/png": "[encoded data removed]",
            "text/plain": [
              "<Figure size 432x288 with 1 Axes>"
            ]
          },
          "metadata": {
            "tags": [],
            "needs_background": "dark"
          }
        }
      ]
    },
    {
      "cell_type": "code",
      "metadata": {
        "colab": {
          "base_uri": "https://localhost:8080/",
          "height": 280
        },
        "id": "P45OBWt5vv2P",
        "outputId": "8baea3fc-1030-4200-cf54-cf7bac9370c9"
      },
      "source": [
        "sns.boxplot('Bandwidth_GB_Year', data = churn_df)\n",
        "plt.show()"
      ],
      "execution_count": 21,
      "outputs": [
        {
          "output_type": "display_data",
          "data": {
            "image/png": "[encoded data removed]",
            "text/plain": [
              "<Figure size 432x288 with 1 Axes>"
            ]
          },
          "metadata": {
            "tags": [],
            "needs_background": "dark"
          }
        }
      ]
    },
    {
      "cell_type": "markdown",
      "metadata": {
        "id": "P6SkIoP6vv2P"
      },
      "source": [
        "#### Anomalies\n",
        "&emsp; It appears that anomolies have been removed from the supplied dataset, churn_clean.csv. &nbsp; There are no remaining outliers."
      ]
    },
    {
      "cell_type": "markdown",
      "metadata": {
        "id": "3dhrNb8Wvv2P"
      },
      "source": [
        "#### Bivariate Statistics"
      ]
    },
    {
      "cell_type": "code",
      "metadata": {
        "colab": {
          "base_uri": "https://localhost:8080/",
          "height": 279
        },
        "id": "jxSBtsD2vv2P",
        "outputId": "6378fa19-c598-43b4-b3cc-1301c01537e8"
      },
      "source": [
        "# Run scatterplots to show direct or inverse relationships between target & independent variables\n",
        "sns.scatterplot(x=churn_df['Children'], y=churn_df['DummyChurn'], color='red')\n",
        "plt.show();"
      ],
      "execution_count": 22,
      "outputs": [
        {
          "output_type": "display_data",
          "data": {
            "image/png": "[encoded data removed]",
            "text/plain": [
              "<Figure size 432x288 with 1 Axes>"
            ]
          },
          "metadata": {
            "tags": [],
            "needs_background": "dark"
          }
        }
      ]
    },
    {
      "cell_type": "code",
      "metadata": {
        "scrolled": true,
        "colab": {
          "base_uri": "https://localhost:8080/",
          "height": 279
        },
        "id": "w4r--Vuavv2P",
        "outputId": "406cd4e1-7082-498a-f0cf-1de15ba20b41"
      },
      "source": [
        "sns.scatterplot(x=churn_df['Age'], y=churn_df['DummyChurn'], color='red')\n",
        "plt.show();"
      ],
      "execution_count": 23,
      "outputs": [
        {
          "output_type": "display_data",
          "data": {
            "image/png": "[encoded data removed]",
            "text/plain": [
              "<Figure size 432x288 with 1 Axes>"
            ]
          },
          "metadata": {
            "tags": [],
            "needs_background": "dark"
          }
        }
      ]
    },
    {
      "cell_type": "code",
      "metadata": {
        "colab": {
          "base_uri": "https://localhost:8080/",
          "height": 279
        },
        "id": "qGf1_x9ovv2P",
        "outputId": "b482b279-cedf-4905-e6b6-da56a980f2d2"
      },
      "source": [
        "sns.scatterplot(x=churn_df['Income'], y=churn_df['DummyChurn'], color='red')\n",
        "plt.show();"
      ],
      "execution_count": 24,
      "outputs": [
        {
          "output_type": "display_data",
          "data": {
            "image/png": "[encoded data removed]",
            "text/plain": [
              "<Figure size 432x288 with 1 Axes>"
            ]
          },
          "metadata": {
            "tags": [],
            "needs_background": "dark"
          }
        }
      ]
    },
    {
      "cell_type": "code",
      "metadata": {
        "colab": {
          "base_uri": "https://localhost:8080/",
          "height": 279
        },
        "id": "7j0XDOlXvv2P",
        "outputId": "577dcd49-e8ea-4164-b4b8-633b7b124056"
      },
      "source": [
        "sns.scatterplot(x=churn_df['DummyGender'], y=churn_df['DummyChurn'], color='red')\n",
        "plt.show();"
      ],
      "execution_count": 25,
      "outputs": [
        {
          "output_type": "display_data",
          "data": {
            "image/png": "[encoded data removed]",
            "text/plain": [
              "<Figure size 432x288 with 1 Axes>"
            ]
          },
          "metadata": {
            "tags": [],
            "needs_background": "dark"
          }
        }
      ]
    },
    {
      "cell_type": "code",
      "metadata": {
        "colab": {
          "base_uri": "https://localhost:8080/",
          "height": 280
        },
        "id": "IbG5KytLvv2Q",
        "outputId": "f1735eb5-b0a5-423a-948a-07a0a6c90c48"
      },
      "source": [
        "sns.scatterplot(x=churn_df['Outage_sec_perweek'], y=churn_df['DummyChurn'], color='red')\n",
        "plt.show();"
      ],
      "execution_count": 26,
      "outputs": [
        {
          "output_type": "display_data",
          "data": {
            "image/png": "[encoded data removed]",
            "text/plain": [
              "<Figure size 432x288 with 1 Axes>"
            ]
          },
          "metadata": {
            "tags": [],
            "needs_background": "dark"
          }
        }
      ]
    },
    {
      "cell_type": "code",
      "metadata": {
        "colab": {
          "base_uri": "https://localhost:8080/",
          "height": 279
        },
        "id": "O68YoqRRvv2Q",
        "outputId": "90d8e4e8-b764-486b-b594-d28295f3bf97"
      },
      "source": [
        "sns.scatterplot(x=churn_df['Email'], y=churn_df['DummyChurn'], color='red')\n",
        "plt.show();"
      ],
      "execution_count": 27,
      "outputs": [
        {
          "output_type": "display_data",
          "data": {
            "image/png": "[encoded data removed]",
            "text/plain": [
              "<Figure size 432x288 with 1 Axes>"
            ]
          },
          "metadata": {
            "tags": [],
            "needs_background": "dark"
          }
        }
      ]
    },
    {
      "cell_type": "code",
      "metadata": {
        "colab": {
          "base_uri": "https://localhost:8080/",
          "height": 279
        },
        "id": "1ZPATLbMvv2Q",
        "outputId": "cd1a5778-28d2-44bf-e1f7-d57535fc54f4"
      },
      "source": [
        "sns.scatterplot(x=churn_df['Contacts'], y=churn_df['DummyChurn'], color='red')\n",
        "plt.show();"
      ],
      "execution_count": 28,
      "outputs": [
        {
          "output_type": "display_data",
          "data": {
            "image/png": "[encoded data removed]",
            "text/plain": [
              "<Figure size 432x288 with 1 Axes>"
            ]
          },
          "metadata": {
            "tags": [],
            "needs_background": "dark"
          }
        }
      ]
    },
    {
      "cell_type": "code",
      "metadata": {
        "colab": {
          "base_uri": "https://localhost:8080/",
          "height": 280
        },
        "id": "brD2QMlSvv2Q",
        "outputId": "32bcb925-cacd-462d-dc85-b2408c910cee"
      },
      "source": [
        "sns.scatterplot(x=churn_df['Yearly_equip_failure'], y=churn_df['DummyChurn'], color='red')\n",
        "plt.show();"
      ],
      "execution_count": 29,
      "outputs": [
        {
          "output_type": "display_data",
          "data": {
            "image/png": "[encoded data removed]",
            "text/plain": [
              "<Figure size 432x288 with 1 Axes>"
            ]
          },
          "metadata": {
            "tags": [],
            "needs_background": "dark"
          }
        }
      ]
    },
    {
      "cell_type": "code",
      "metadata": {
        "scrolled": true,
        "colab": {
          "base_uri": "https://localhost:8080/",
          "height": 279
        },
        "id": "bi-rQgpnvv2Q",
        "outputId": "86e1b68a-7a13-454b-e79e-c727c6ca775c"
      },
      "source": [
        "sns.scatterplot(x=churn_df['DummyTechie'], y=churn_df['DummyChurn'], color='red')\n",
        "plt.show();"
      ],
      "execution_count": 30,
      "outputs": [
        {
          "output_type": "display_data",
          "data": {
            "image/png": "[encoded data removed]",
            "text/plain": [
              "<Figure size 432x288 with 1 Axes>"
            ]
          },
          "metadata": {
            "tags": [],
            "needs_background": "dark"
          }
        }
      ]
    },
    {
      "cell_type": "code",
      "metadata": {
        "colab": {
          "base_uri": "https://localhost:8080/",
          "height": 279
        },
        "id": "fQ6bb-icvv2Q",
        "outputId": "039266e8-b8da-46e9-e446-2eef24d752f2"
      },
      "source": [
        "sns.scatterplot(x=churn_df['Tenure'], y=churn_df['DummyChurn'], color='red')\n",
        "plt.show();"
      ],
      "execution_count": 31,
      "outputs": [
        {
          "output_type": "display_data",
          "data": {
            "image/png": "[encoded data removed]",
            "text/plain": [
              "<Figure size 432x288 with 1 Axes>"
            ]
          },
          "metadata": {
            "tags": [],
            "needs_background": "dark"
          }
        }
      ]
    },
    {
      "cell_type": "code",
      "metadata": {
        "scrolled": true,
        "colab": {
          "base_uri": "https://localhost:8080/",
          "height": 279
        },
        "id": "KxjRkwKovv2Q",
        "outputId": "7a0763ea-e52f-4d03-b895-01c3a5c304c4"
      },
      "source": [
        "sns.scatterplot(x=churn_df['MonthlyCharge'], y=churn_df['DummyChurn'], color='red')\n",
        "plt.show();"
      ],
      "execution_count": 32,
      "outputs": [
        {
          "output_type": "display_data",
          "data": {
            "image/png": "[encoded data removed]",
            "text/plain": [
              "<Figure size 432x288 with 1 Axes>"
            ]
          },
          "metadata": {
            "tags": [],
            "needs_background": "dark"
          }
        }
      ]
    },
    {
      "cell_type": "code",
      "metadata": {
        "colab": {
          "base_uri": "https://localhost:8080/",
          "height": 280
        },
        "id": "AxZ0RQzSvv2Q",
        "outputId": "ec506ee9-a41c-4d33-e803-a8694e95f5d2"
      },
      "source": [
        "sns.scatterplot(x=churn_df['Bandwidth_GB_Year'], y=churn_df['DummyChurn'], color='red')\n",
        "plt.show();"
      ],
      "execution_count": 33,
      "outputs": [
        {
          "output_type": "display_data",
          "data": {
            "image/png": "[encoded data removed]",
            "text/plain": [
              "<Figure size 432x288 with 1 Axes>"
            ]
          },
          "metadata": {
            "tags": [],
            "needs_background": "dark"
          }
        }
      ]
    },
    {
      "cell_type": "code",
      "metadata": {
        "colab": {
          "base_uri": "https://localhost:8080/",
          "height": 279
        },
        "id": "pu0wqZL-vv2R",
        "outputId": "7bd9ccab-1d75-4503-e3d9-5e2ce6ad71eb"
      },
      "source": [
        "sns.scatterplot(x=churn_df['TimelyResponse'], y=churn_df['DummyChurn'], color='red')\n",
        "plt.show();"
      ],
      "execution_count": 34,
      "outputs": [
        {
          "output_type": "display_data",
          "data": {
            "image/png": "[encoded data removed]",
            "text/plain": [
              "<Figure size 432x288 with 1 Axes>"
            ]
          },
          "metadata": {
            "tags": [],
            "needs_background": "dark"
          }
        }
      ]
    },
    {
      "cell_type": "code",
      "metadata": {
        "colab": {
          "base_uri": "https://localhost:8080/",
          "height": 279
        },
        "id": "fp7g-d3Tvv2R",
        "outputId": "695b5cc6-0546-46d7-a5eb-87ea8375b84a"
      },
      "source": [
        "sns.scatterplot(x=churn_df['Fixes'], y=churn_df['DummyChurn'], color='red')\n",
        "plt.show();"
      ],
      "execution_count": 35,
      "outputs": [
        {
          "output_type": "display_data",
          "data": {
            "image/png": "[encoded data removed]",
            "text/plain": [
              "<Figure size 432x288 with 1 Axes>"
            ]
          },
          "metadata": {
            "tags": [],
            "needs_background": "dark"
          }
        }
      ]
    },
    {
      "cell_type": "code",
      "metadata": {
        "colab": {
          "base_uri": "https://localhost:8080/",
          "height": 279
        },
        "id": "jD3o9HJfvv2R",
        "outputId": "f3485bc6-49fd-4bc0-cb41-68102f828fc4"
      },
      "source": [
        "sns.scatterplot(x=churn_df['Replacements'], y=churn_df['DummyChurn'], color='red')\n",
        "plt.show();"
      ],
      "execution_count": 36,
      "outputs": [
        {
          "output_type": "display_data",
          "data": {
            "image/png": "[encoded data removed]",
            "text/plain": [
              "<Figure size 432x288 with 1 Axes>"
            ]
          },
          "metadata": {
            "tags": [],
            "needs_background": "dark"
          }
        }
      ]
    },
    {
      "cell_type": "code",
      "metadata": {
        "colab": {
          "base_uri": "https://localhost:8080/",
          "height": 279
        },
        "id": "cOHyhTeJvv2R",
        "outputId": "88a7bddb-5f1a-4707-fb9a-796f44913884"
      },
      "source": [
        "sns.scatterplot(x=churn_df['Reliability'], y=churn_df['DummyChurn'], color='red')\n",
        "plt.show();"
      ],
      "execution_count": 37,
      "outputs": [
        {
          "output_type": "display_data",
          "data": {
            "image/png": "[encoded data removed]",
            "text/plain": [
              "<Figure size 432x288 with 1 Axes>"
            ]
          },
          "metadata": {
            "tags": [],
            "needs_background": "dark"
          }
        }
      ]
    },
    {
      "cell_type": "code",
      "metadata": {
        "colab": {
          "base_uri": "https://localhost:8080/",
          "height": 279
        },
        "id": "FGjNWfSQvv2R",
        "outputId": "35641b82-0503-4618-c2e4-c052ccd7ef70"
      },
      "source": [
        "sns.scatterplot(x=churn_df['Options'], y=churn_df['DummyChurn'], color='red')\n",
        "plt.show();"
      ],
      "execution_count": 38,
      "outputs": [
        {
          "output_type": "display_data",
          "data": {
            "image/png": "[encoded data removed]",
            "text/plain": [
              "<Figure size 432x288 with 1 Axes>"
            ]
          },
          "metadata": {
            "tags": [],
            "needs_background": "dark"
          }
        }
      ]
    },
    {
      "cell_type": "code",
      "metadata": {
        "colab": {
          "base_uri": "https://localhost:8080/",
          "height": 279
        },
        "id": "PGtJ8yxovv2R",
        "outputId": "a5f54a71-83b5-44b4-f2ef-c0749425a34f"
      },
      "source": [
        "sns.scatterplot(x=churn_df['Respectfulness'], y=churn_df['DummyChurn'], color='red')\n",
        "plt.show();"
      ],
      "execution_count": 39,
      "outputs": [
        {
          "output_type": "display_data",
          "data": {
            "image/png": "[encoded data removed]",
            "text/plain": [
              "<Figure size 432x288 with 1 Axes>"
            ]
          },
          "metadata": {
            "tags": [],
            "needs_background": "dark"
          }
        }
      ]
    },
    {
      "cell_type": "code",
      "metadata": {
        "colab": {
          "base_uri": "https://localhost:8080/",
          "height": 279
        },
        "id": "Co96ia9tvv2R",
        "outputId": "7b4e9006-e026-4d2c-ad8d-2d2b81de02f7"
      },
      "source": [
        "sns.scatterplot(x=churn_df['Courteous'], y=churn_df['DummyChurn'], color='red')\n",
        "plt.show();"
      ],
      "execution_count": 40,
      "outputs": [
        {
          "output_type": "display_data",
          "data": {
            "image/png": "[encoded data removed]",
            "text/plain": [
              "<Figure size 432x288 with 1 Axes>"
            ]
          },
          "metadata": {
            "tags": [],
            "needs_background": "dark"
          }
        }
      ]
    },
    {
      "cell_type": "code",
      "metadata": {
        "colab": {
          "base_uri": "https://localhost:8080/",
          "height": 279
        },
        "id": "9XaS8VWLvv2R",
        "outputId": "f16634dc-56fb-456d-80e9-88274adb8323"
      },
      "source": [
        "sns.scatterplot(x=churn_df['Listening'], y=churn_df['DummyChurn'], color='red')\n",
        "plt.show();"
      ],
      "execution_count": 41,
      "outputs": [
        {
          "output_type": "display_data",
          "data": {
            "image/png": "[encoded data removed]",
            "text/plain": [
              "<Figure size 432x288 with 1 Axes>"
            ]
          },
          "metadata": {
            "tags": [],
            "needs_background": "dark"
          }
        }
      ]
    },
    {
      "cell_type": "code",
      "metadata": {
        "colab": {
          "base_uri": "https://localhost:8080/",
          "height": 279
        },
        "id": "1aa-1EJvvv2S",
        "outputId": "299180f8-6283-438e-f081-140fd358f29e"
      },
      "source": [
        "sns.scatterplot(x=churn_df['MonthlyCharge'], y=churn_df['Outage_sec_perweek'], color='red')\n",
        "plt.show();"
      ],
      "execution_count": 42,
      "outputs": [
        {
          "output_type": "display_data",
          "data": {
            "image/png": "[encoded data removed]",
            "text/plain": [
              "<Figure size 432x288 with 1 Axes>"
            ]
          },
          "metadata": {
            "tags": [],
            "needs_background": "dark"
          }
        }
      ]
    },
    {
      "cell_type": "markdown",
      "metadata": {
        "id": "yaZ5sZFKvv2S"
      },
      "source": [
        "#### Scatterplot Summary\n",
        "&emsp; These scatterplots suggest no correlation between a customer churning (Churn = 1) & any of our continous user data points or categorical responses to survey data points."
      ]
    },
    {
      "cell_type": "markdown",
      "metadata": {
        "id": "blIxLFACvv2S"
      },
      "source": [
        "#### <span style=\"color:green\"><b>C5. Prepared Dataset</b>:</span>"
      ]
    },
    {
      "cell_type": "code",
      "metadata": {
        "id": "2b97mTnNvv2S"
      },
      "source": [
        "# Extract Clean dataset\n",
        "churn_df.to_csv('churn_prepared_log.csv')"
      ],
      "execution_count": 43,
      "outputs": []
    },
    {
      "cell_type": "markdown",
      "metadata": {
        "id": "F82Jz6sEvv2S"
      },
      "source": [
        "#### <span style=\"color:green\"><b>D1. Initial Model</b></span>"
      ]
    },
    {
      "cell_type": "code",
      "metadata": {
        "colab": {
          "base_uri": "https://localhost:8080/"
        },
        "id": "1of-Ba11vv2S",
        "outputId": "a81617e0-80fe-4ae5-e46b-c3a354cfa72b"
      },
      "source": [
        "\"\"\"Develop the initial estimated regression equation that could be used to predict the probability of customer churn, given the only continuous variables\"\"\"\n",
        "churn_df = pd.read_csv('churn_prepared_log.csv')\n",
        "churn_df['intercept'] = 1\n",
        "churn_df = pd.get_dummies(churn_df, drop_first=True)\n",
        "\n",
        "churn_logit_model = sm.Logit(churn_df['DummyChurn'], churn_df[['Children', 'Age', \n",
        "                                                               'Income',\n",
        "                                                               'Outage_sec_perweek', \n",
        "                                                               'Email', 'Contacts',\n",
        "                                                               'Yearly_equip_failure', \n",
        "                                                               'Tenure', 'MonthlyCharge',\n",
        "                                                               'Bandwidth_GB_Year',\n",
        "                                                               'TimelyResponse', 'Fixes', \n",
        "                                                               'Replacements', 'Reliability', \n",
        "                                                               'Options', 'Respectfulness', \n",
        "                                                               'Courteous', 'Listening', \n",
        "                                                               'intercept']]).fit()\n",
        "print(churn_logit_model.summary())"
      ],
      "execution_count": 44,
      "outputs": [
        {
          "output_type": "stream",
          "text": [
            "Optimization terminated successfully.\n",
            "         Current function value: 0.319573\n",
            "         Iterations 8\n",
            "                           Logit Regression Results                           \n",
            "==============================================================================\n",
            "Dep. Variable:             DummyChurn   No. Observations:                10000\n",
            "Model:                          Logit   Df Residuals:                     9981\n",
            "Method:                           MLE   Df Model:                           18\n",
            "Date:                Thu, 22 Jul 2021   Pseudo R-squ.:                  0.4473\n",
            "Time:                        21:33:18   Log-Likelihood:                -3195.7\n",
            "converged:                       True   LL-Null:                       -5782.2\n",
            "Covariance Type:            nonrobust   LLR p-value:                     0.000\n",
            "========================================================================================\n",
            "                           coef    std err          z      P>|z|      [0.025      0.975]\n",
            "----------------------------------------------------------------------------------------\n",
            "Children                -0.0980      0.016     -6.318      0.000      -0.128      -0.068\n",
            "Age                      0.0114      0.002      7.130      0.000       0.008       0.015\n",
            "Income                5.015e-07   1.12e-06      0.450      0.653   -1.68e-06    2.69e-06\n",
            "Outage_sec_perweek      -0.0009      0.011     -0.087      0.931      -0.022       0.020\n",
            "Email                    0.0018      0.010      0.169      0.866      -0.019       0.022\n",
            "Contacts                 0.0243      0.032      0.764      0.445      -0.038       0.087\n",
            "Yearly_equip_failure    -0.0267      0.050     -0.539      0.590      -0.124       0.071\n",
            "Tenure                  -0.3156      0.012    -25.482      0.000      -0.340      -0.291\n",
            "MonthlyCharge            0.0262      0.001     27.344      0.000       0.024       0.028\n",
            "Bandwidth_GB_Year        0.0029      0.000     20.156      0.000       0.003       0.003\n",
            "TimelyResponse          -0.0201      0.045     -0.447      0.655      -0.108       0.068\n",
            "Fixes                   -0.0162      0.042     -0.384      0.701      -0.099       0.067\n",
            "Replacements            -0.0053      0.039     -0.138      0.890      -0.081       0.070\n",
            "Reliability             -0.0376      0.034     -1.096      0.273      -0.105       0.030\n",
            "Options                 -0.0439      0.036     -1.223      0.221      -0.114       0.026\n",
            "Respectfulness          -0.0044      0.037     -0.119      0.906      -0.076       0.068\n",
            "Courteous               -0.0203      0.035     -0.580      0.562      -0.089       0.048\n",
            "Listening               -0.0024      0.033     -0.071      0.943      -0.067       0.062\n",
            "intercept               -5.4290      0.369    -14.709      0.000      -6.152      -4.706\n",
            "========================================================================================\n"
          ],
          "name": "stdout"
        }
      ]
    },
    {
      "cell_type": "markdown",
      "metadata": {
        "id": "TuIV9dorvv2S"
      },
      "source": [
        "#### Dummy Variables\n",
        "Now, we will run a model including all encoded categorical dummy variables."
      ]
    },
    {
      "cell_type": "code",
      "metadata": {
        "colab": {
          "base_uri": "https://localhost:8080/"
        },
        "id": "Rtvc12r1vv2S",
        "outputId": "57348d51-59cf-4b6e-b667-27113269d676"
      },
      "source": [
        "\"\"\"\"Model including all dummy variables\"\"\"\n",
        "churn_df = pd.read_csv('churn_prepared_log.csv')\n",
        "churn_df['intercept'] = 1\n",
        "churn_df = pd.get_dummies(churn_df, drop_first=True)\n",
        "\n",
        "churn_logit_model2 = sm.Logit(churn_df['DummyChurn'], churn_df[['Children', 'Age', \n",
        "                                                               'Income', 'Outage_sec_perweek', \n",
        "                                                               'Email', 'Contacts',\n",
        "                                                               'Yearly_equip_failure', \n",
        "                                                               'DummyTechie', 'DummyContract', \n",
        "                                                               'DummyPort_modem', 'DummyTablet', \n",
        "                                                               'DummyInternetService', 'DummyPhone', \n",
        "                                                               'DummyMultiple', 'DummyOnlineSecurity', \n",
        "                                                               'DummyOnlineBackup', 'DummyDeviceProtection', \n",
        "                                                               'DummyTechSupport', 'DummyStreamingTV', \n",
        "                                                               'DummyPaperlessBilling',\n",
        "                                                               'Tenure', 'MonthlyCharge', 'Bandwidth_GB_Year', \n",
        "                                                               'TimelyResponse', 'Fixes', \n",
        "                                                               'Replacements', 'Reliability', \n",
        "                                                               'Options', 'Respectfulness', \n",
        "                                                               'Courteous', 'Listening', \n",
        "                                                               'intercept']]).fit()\n",
        "print(churn_logit_model2.summary())"
      ],
      "execution_count": 45,
      "outputs": [
        {
          "output_type": "stream",
          "text": [
            "Optimization terminated successfully.\n",
            "         Current function value: 0.271990\n",
            "         Iterations 8\n",
            "                           Logit Regression Results                           \n",
            "==============================================================================\n",
            "Dep. Variable:             DummyChurn   No. Observations:                10000\n",
            "Model:                          Logit   Df Residuals:                     9968\n",
            "Method:                           MLE   Df Model:                           31\n",
            "Date:                Thu, 22 Jul 2021   Pseudo R-squ.:                  0.5296\n",
            "Time:                        21:33:18   Log-Likelihood:                -2719.9\n",
            "converged:                       True   LL-Null:                       -5782.2\n",
            "Covariance Type:            nonrobust   LLR p-value:                     0.000\n",
            "=========================================================================================\n",
            "                            coef    std err          z      P>|z|      [0.025      0.975]\n",
            "-----------------------------------------------------------------------------------------\n",
            "Children                 -0.0395      0.018     -2.232      0.026      -0.074      -0.005\n",
            "Age                       0.0069      0.002      3.659      0.000       0.003       0.011\n",
            "Income                 1.199e-07   1.22e-06      0.099      0.921   -2.26e-06     2.5e-06\n",
            "Outage_sec_perweek        0.0020      0.011      0.176      0.860      -0.021       0.025\n",
            "Email                    -0.0015      0.011     -0.133      0.894      -0.024       0.021\n",
            "Contacts                  0.0301      0.035      0.871      0.384      -0.038       0.098\n",
            "Yearly_equip_failure     -0.0308      0.054     -0.570      0.569      -0.137       0.075\n",
            "DummyTechie               0.7956      0.089      8.960      0.000       0.622       0.970\n",
            "DummyContract            -2.2950      0.104    -22.135      0.000      -2.498      -2.092\n",
            "DummyPort_modem           0.1610      0.068      2.353      0.019       0.027       0.295\n",
            "DummyTablet              -0.0796      0.074     -1.071      0.284      -0.225       0.066\n",
            "DummyInternetService     -1.4252      0.126    -11.314      0.000      -1.672      -1.178\n",
            "DummyPhone               -0.3157      0.117     -2.707      0.007      -0.544      -0.087\n",
            "DummyMultiple            -0.2908      0.080     -3.646      0.000      -0.447      -0.134\n",
            "DummyOnlineSecurity      -0.3280      0.074     -4.452      0.000      -0.472      -0.184\n",
            "DummyOnlineBackup        -0.5125      0.074     -6.931      0.000      -0.657      -0.368\n",
            "DummyDeviceProtection    -0.4100      0.071     -5.764      0.000      -0.549      -0.271\n",
            "DummyTechSupport         -0.3461      0.073     -4.717      0.000      -0.490      -0.202\n",
            "DummyStreamingTV          0.0311      0.083      0.374      0.708      -0.132       0.194\n",
            "DummyPaperlessBilling     0.1126      0.070      1.618      0.106      -0.024       0.249\n",
            "Tenure                   -0.2043      0.021     -9.693      0.000      -0.246      -0.163\n",
            "MonthlyCharge             0.0461      0.002     24.371      0.000       0.042       0.050\n",
            "Bandwidth_GB_Year         0.0013      0.000      5.215      0.000       0.001       0.002\n",
            "TimelyResponse           -0.0167      0.049     -0.342      0.732      -0.112       0.079\n",
            "Fixes                     0.0143      0.046      0.311      0.755      -0.076       0.104\n",
            "Replacements             -0.0158      0.042     -0.377      0.706      -0.098       0.066\n",
            "Reliability              -0.0250      0.037     -0.673      0.501      -0.098       0.048\n",
            "Options                  -0.0341      0.039     -0.877      0.380      -0.110       0.042\n",
            "Respectfulness           -0.0309      0.040     -0.776      0.438      -0.109       0.047\n",
            "Courteous                 0.0047      0.038      0.124      0.901      -0.070       0.079\n",
            "Listening                -0.0090      0.036     -0.251      0.802      -0.079       0.061\n",
            "intercept                -5.8583      0.425    -13.793      0.000      -6.691      -5.026\n",
            "=========================================================================================\n"
          ],
          "name": "stdout"
        }
      ]
    },
    {
      "cell_type": "markdown",
      "metadata": {
        "id": "cgrvaBftvv2T"
      },
      "source": [
        "#### Early Model Comparison\n",
        "Following the second run of our MLE model, our pseudo R went up from 0.4473 to 0.5296 as we added in our categorical dummy variables to our continuous variables. &nbsp; We will take that as a good sign that some of the explanation of our variance is within the categorical data points. &nbsp; We will use those 31 variables as our initial regression equation."
      ]
    },
    {
      "cell_type": "markdown",
      "metadata": {
        "id": "kdQySbqPvv2T"
      },
      "source": [
        "#### Initial Multiple Linear Regression Model\n",
        "With <b><i>31</i></b> independent variables (18 continuous & 13 categorical): \n",
        "<br><br>&emsp;<span style=\"color:gold\"><b><i>y</i></b> &nbsp; = &nbsp; -5.8583 + (-0.0395 * Children) + (0.0069 * Age) + (1.199e-07 * Income) + \n",
        "<br> &emsp; &emsp; &emsp; &emsp; &emsp; &emsp; &nbsp; (-0.0020 * Outage_sec_perweek) + (-0.0015 * Email) + (0.0301 * Contacts) + \n",
        "<br> &emsp; &emsp; &emsp; &emsp; &emsp; &emsp; &nbsp; (-0.0308 * Yearly_equip_failure) + (0.7956 * DummyTechie) + (-2.295 * DummyContract) + \n",
        "<br> &emsp; &emsp; &emsp; &emsp; &emsp; &emsp; &nbsp; (0.161 * DummyPort_modem) + (-0.0796 * DummyTablet) + (-1.4252 * DummyInternetService) + \n",
        "<br> &emsp; &emsp; &emsp; &emsp; &emsp; &emsp; &nbsp; (-0.3157 * DummyPhone) + (-0.2908 * DummyMultiple) + (-0.3280 * DummyOnlineSecurity) + \n",
        "<br> &emsp; &emsp; &emsp; &emsp; &emsp; &emsp; &nbsp; (-0.5125 * DummyOnlineBackup) + (-0.41 * DummyDeviceProtection) + (-0.3461 * DummyTechSupport) + \n",
        "<br> &emsp; &emsp; &emsp; &emsp; &emsp; &emsp; &nbsp; (0.0311 * DummyStreamingTV) + (0.1126 * DummyPaperlessBilling) + (-0.2043 * Tenure) + \n",
        "<br> &emsp; &emsp; &emsp; &emsp; &emsp; &emsp; &nbsp; (0.0461 * MonthlyCharge) + (0.0013 * Bandwidth_GB_Year) + (-0.0167 * TimelyResponse) + \n",
        "<br> &emsp; &emsp; &emsp; &emsp; &emsp; &emsp; &nbsp; (0.0143 * Fixes) + (-0.0158 * Replacements) + (-0.025 * Reliability) + \n",
        "<br> &emsp; &emsp; &emsp; &emsp; &emsp; &emsp; &nbsp; (-0.0341 * Options) + (-0.0309 * Respectfulness) + (0.0047 * Courteous) + \n",
        "<br> &emsp; &emsp; &emsp; &emsp; &emsp; &emsp; &nbsp; (-0.009 * Listening)</span>"
      ]
    },
    {
      "cell_type": "markdown",
      "metadata": {
        "id": "OhgbyCsjvv2T"
      },
      "source": [
        "#### <span style=\"color:green\"><b>D2. Justification of Model Reduction</b></span>\n",
        "&emsp; Based on the above MLE model we created, we have a pseudo R value = 0.5296, which is clearly not very good for the variance of our model. &nbsp; Also, coefficients on the above model are very low (less than 0.5) with the exception of variables DummyTechie, DummyContract, DummyInternetService & DummyOnlineBackup. &nbsp; Those variables also have p-values less than 0.000 & appear, therefore, significant.  \n",
        "&emsp; Subsequently, let us choose a p-value of 0.05 & include all variables with p-values &#8804; 0.05. &nbsp; We will remove any predictor variable with a p-value greater than 0.05 as not statistically significant to our model.\n",
        "\n",
        "<br>Our next MLE run will include the <b>continuous predictor variables</b>: \n",
        "\n",
        "* Age  \n",
        "* Tenure\n",
        "* MonthlyCharge\n",
        "* Bandwidth_GB_Year\n",
        "\n",
        "And, <b>categorical predictor variables</b>:\n",
        "\n",
        "* DummyTechie \n",
        "* DummyContract\n",
        "* DummyPort_modem\n",
        "* DummyInternetService\n",
        "* DummyPhone \n",
        "* DummyMultiple\n",
        "* DummyOnlineSecurity\n",
        "* DummyOnlineBackup\n",
        "* DummyDeviceProtection\n",
        "* DummyTechSupport\n",
        "\n",
        "We will run that reduced number of predictor variables against our DummyChurn dependent variable in another MLE model."
      ]
    },
    {
      "cell_type": "markdown",
      "metadata": {
        "id": "c6dbaaJjvv2T"
      },
      "source": [
        "#### <span style=\"color:green\"><b>D3. Reduced Multiple Regression Model</b></span>"
      ]
    },
    {
      "cell_type": "code",
      "metadata": {
        "colab": {
          "base_uri": "https://localhost:8080/"
        },
        "id": "Rs3v21M0vv2T",
        "outputId": "26acd11b-2d2b-4055-cf69-9a4b79488c05"
      },
      "source": [
        "# Run reduced OLS multiple regression\n",
        "churn_df['intercept'] = 1\n",
        "churn_logit_model_reduced = sm.Logit(churn_df['DummyChurn'], \n",
        "                                     churn_df[['Children', 'Age', 'DummyTechie', 'DummyContract', 'DummyPort_modem', \n",
        "                                               'DummyInternetService', 'DummyPhone','DummyMultiple', \n",
        "                                               'DummyOnlineSecurity', 'DummyOnlineBackup', 'DummyDeviceProtection', \n",
        "                                               'DummyTechSupport', 'Tenure', 'MonthlyCharge', 'Bandwidth_GB_Year', \n",
        "                                               'intercept']]).fit()\n",
        "print(churn_logit_model_reduced.summary())"
      ],
      "execution_count": 46,
      "outputs": [
        {
          "output_type": "stream",
          "text": [
            "Optimization terminated successfully.\n",
            "         Current function value: 0.272362\n",
            "         Iterations 8\n",
            "                           Logit Regression Results                           \n",
            "==============================================================================\n",
            "Dep. Variable:             DummyChurn   No. Observations:                10000\n",
            "Model:                          Logit   Df Residuals:                     9984\n",
            "Method:                           MLE   Df Model:                           15\n",
            "Date:                Thu, 22 Jul 2021   Pseudo R-squ.:                  0.5290\n",
            "Time:                        21:33:19   Log-Likelihood:                -2723.6\n",
            "converged:                       True   LL-Null:                       -5782.2\n",
            "Covariance Type:            nonrobust   LLR p-value:                     0.000\n",
            "=========================================================================================\n",
            "                            coef    std err          z      P>|z|      [0.025      0.975]\n",
            "-----------------------------------------------------------------------------------------\n",
            "Children                 -0.0391      0.018     -2.221      0.026      -0.074      -0.005\n",
            "Age                       0.0070      0.002      3.735      0.000       0.003       0.011\n",
            "DummyTechie               0.7970      0.089      8.996      0.000       0.623       0.971\n",
            "DummyContract            -2.2895      0.103    -22.136      0.000      -2.492      -2.087\n",
            "DummyPort_modem           0.1598      0.068      2.339      0.019       0.026       0.294\n",
            "DummyInternetService     -1.4240      0.125    -11.359      0.000      -1.670      -1.178\n",
            "DummyPhone               -0.3193      0.116     -2.749      0.006      -0.547      -0.092\n",
            "DummyMultiple            -0.2964      0.077     -3.857      0.000      -0.447      -0.146\n",
            "DummyOnlineSecurity      -0.3303      0.073     -4.497      0.000      -0.474      -0.186\n",
            "DummyOnlineBackup        -0.5146      0.072     -7.125      0.000      -0.656      -0.373\n",
            "DummyDeviceProtection    -0.4075      0.070     -5.790      0.000      -0.545      -0.270\n",
            "DummyTechSupport         -0.3555      0.073     -4.892      0.000      -0.498      -0.213\n",
            "Tenure                   -0.2049      0.021     -9.770      0.000      -0.246      -0.164\n",
            "MonthlyCharge             0.0463      0.002     25.620      0.000       0.043       0.050\n",
            "Bandwidth_GB_Year         0.0013      0.000      5.279      0.000       0.001       0.002\n",
            "intercept                -6.1973      0.236    -26.280      0.000      -6.659      -5.735\n",
            "=========================================================================================\n"
          ],
          "name": "stdout"
        }
      ]
    },
    {
      "cell_type": "markdown",
      "metadata": {
        "id": "sS7m0Hskvv2T"
      },
      "source": [
        "#### Reduced Logistic Regression Model\n",
        "With <b>15</b> independent variables (5 continuous & 10 categorical):\n",
        "\n",
        "<br><br>&emsp;<span style=\"color:gold\"><b><i>y</i></b> &nbsp; = &nbsp; -6.1973 + (-0.0391 * Children) + (0.0070 * Age) + \n",
        "(0.7970 * DummyTechie) + \n",
        "<br> &emsp; &emsp; &emsp; &emsp; &emsp; &emsp; &nbsp; (-2.2895 * DummyContract) + (0.1598 * DummyPort_modem) + (-1.4240 * DummyInternetService) + \n",
        "<br> &emsp; &emsp; &emsp; &emsp; &emsp; &emsp; &nbsp; (-0.3193 * DummyPhone) + (-0.2964 * DummyMultiple) + (-0.3303 * DummyOnlineSecurity) + \n",
        "<br> &emsp; &emsp; &emsp; &emsp; &emsp; &emsp; &nbsp; (-0.5146 * DummyOnlineBackup) + (-0.41 * DummyDeviceProtection) + (-0.3461 * DummyTechSupport) + \n",
        "<br> &emsp; &emsp; &emsp; &emsp; &emsp; &emsp; &nbsp; (-0.2049 * Tenure) + (0.0463 * MonthlyCharge) + (0.0013 * Bandwidth_GB_Year)</span>"
      ]
    },
    {
      "cell_type": "markdown",
      "metadata": {
        "id": "S3-6KZOIvv2T"
      },
      "source": [
        "#### <span style=\"color:green\"><b>E1. Model Comparison</b></span>\n",
        "The second model still explains 52% of variance, as demonstrated by the pseudo R, even though we have reduced the number of variables in half (from 31 to 15).  We have suggested an alpha threshold of 0.05 to retain predictor variables.  We can see that, as Churn = 1 & that our majority of our dummy variables (which are additional services that a customer may add on to their contract) have negative values.  \n",
        "&emsp; What is important to decision-makers & marketers is that those inverse relationships suggest that as a customer subscribes to more services that the company provided, an additional port modem or online backup for example, they are less likely to churn & leave the company.  Cleary, it is in the best interest of retaining customers to provide them with more services & improve their experience with the company by helping customers understand all the services that are available to them as a subscriber, not simply mobile phone service."
      ]
    },
    {
      "cell_type": "markdown",
      "metadata": {
        "id": "_nqu4hlwvv2T"
      },
      "source": [
        "#### Confusion Matrix"
      ]
    },
    {
      "cell_type": "code",
      "metadata": {
        "id": "VH9hvjYbvv2T"
      },
      "source": [
        "# Import the prepared dataset\n",
        "dataset = pd.read_csv('churn_prepared_log.csv')\n",
        "X = dataset.iloc[:, 1:-1].values\n",
        "y = dataset.iloc[:, -1].values"
      ],
      "execution_count": 47,
      "outputs": []
    },
    {
      "cell_type": "code",
      "metadata": {
        "id": "eJpuzxcKvv2T"
      },
      "source": [
        "# Split the dataset into the Training set and Test set\n",
        "from sklearn.model_selection import train_test_split\n",
        "X_train, X_test, y_train, y_test = train_test_split(X, y, test_size = 0.2, random_state = 0)"
      ],
      "execution_count": 48,
      "outputs": []
    },
    {
      "cell_type": "code",
      "metadata": {
        "colab": {
          "base_uri": "https://localhost:8080/"
        },
        "id": "IvWcdmNuvv2T",
        "outputId": "7782040c-f797-45d0-c8db-9ba1edda6c38"
      },
      "source": [
        "# Training the Logistic Regression model on the Training set\n",
        "from sklearn.linear_model import LogisticRegression\n",
        "classifier = LogisticRegression(random_state = 0)\n",
        "classifier.fit(X_train, y_train)"
      ],
      "execution_count": 49,
      "outputs": [
        {
          "output_type": "execute_result",
          "data": {
            "text/plain": [
              "LogisticRegression(C=1.0, class_weight=None, dual=False, fit_intercept=True,\n",
              "                   intercept_scaling=1, l1_ratio=None, max_iter=100,\n",
              "                   multi_class='auto', n_jobs=None, penalty='l2',\n",
              "                   random_state=0, solver='lbfgs', tol=0.0001, verbose=0,\n",
              "                   warm_start=False)"
            ]
          },
          "metadata": {
            "tags": []
          },
          "execution_count": 49
        }
      ]
    },
    {
      "cell_type": "code",
      "metadata": {
        "id": "XGhHn3gUvv2U"
      },
      "source": [
        "# Predict the Test set results\n",
        "y_pred = classifier.predict(X_test)"
      ],
      "execution_count": 50,
      "outputs": []
    },
    {
      "cell_type": "code",
      "metadata": {
        "colab": {
          "base_uri": "https://localhost:8080/"
        },
        "id": "T6mCn478vv2U",
        "outputId": "b99d1c49-8518-4768-f5f3-9acf1edd9f70"
      },
      "source": [
        "# Make the Confusion Matrix\n",
        "from sklearn.metrics import confusion_matrix\n",
        "cm = confusion_matrix(y_test, y_pred)\n",
        "print(cm)"
      ],
      "execution_count": 51,
      "outputs": [
        {
          "output_type": "stream",
          "text": [
            "[[1356  130]\n",
            " [ 181  333]]\n"
          ],
          "name": "stdout"
        }
      ]
    },
    {
      "cell_type": "code",
      "metadata": {
        "colab": {
          "base_uri": "https://localhost:8080/"
        },
        "id": "NVqRYF93vv2U",
        "outputId": "4ff2000c-e74d-4dfe-b769-f73443770ca6"
      },
      "source": [
        "## Compute the accuracy with k-Fold Cross Validation\n",
        "from sklearn.model_selection import cross_val_score\n",
        "accuracies = cross_val_score(estimator = classifier, X = X_train, y = y_train, cv = 10)\n",
        "print(\"Accuracy: {:.2f} %\".format(accuracies.mean()*100))\n",
        "print(\"Standard Deviation: {:.2f} %\".format(accuracies.std()*100))"
      ],
      "execution_count": 52,
      "outputs": [
        {
          "output_type": "stream",
          "text": [
            "Accuracy: 83.00 %\n",
            "Standard Deviation: 1.30 %\n"
          ],
          "name": "stdout"
        }
      ]
    },
    {
      "cell_type": "code",
      "metadata": {
        "colab": {
          "base_uri": "https://localhost:8080/",
          "height": 282
        },
        "id": "sCXGK2uxvv2U",
        "outputId": "53d775b6-c596-43cd-fc38-25c477433ab2"
      },
      "source": [
        "y_predict_test = classifier.predict(X_test)\n",
        "cm2 = confusion_matrix(y_test, y_predict_test)\n",
        "sns.heatmap(cm2, annot=True)"
      ],
      "execution_count": 53,
      "outputs": [
        {
          "output_type": "execute_result",
          "data": {
            "text/plain": [
              "<matplotlib.axes._subplots.AxesSubplot at 0x7fa17ccefe10>"
            ]
          },
          "metadata": {
            "tags": []
          },
          "execution_count": 53
        },
        {
          "output_type": "display_data",
          "data": {
            "image/png": "[encoded data removed]",
            "text/plain": [
              "<Figure size 432x288 with 2 Axes>"
            ]
          },
          "metadata": {
            "tags": [],
            "needs_background": "dark"
          }
        }
      ]
    },
    {
      "cell_type": "markdown",
      "metadata": {
        "id": "XiVFTq1Svv2U"
      },
      "source": [
        "#### Classification Report"
      ]
    },
    {
      "cell_type": "code",
      "metadata": {
        "colab": {
          "base_uri": "https://localhost:8080/"
        },
        "id": "IX7eyhvbvv2U",
        "outputId": "48d831ec-6b3e-41ca-a895-6f243efd34d6"
      },
      "source": [
        "from sklearn.metrics import classification_report\n",
        "print(classification_report(y_test, y_predict_test))"
      ],
      "execution_count": 54,
      "outputs": [
        {
          "output_type": "stream",
          "text": [
            "              precision    recall  f1-score   support\n",
            "\n",
            "           0       0.88      0.91      0.90      1486\n",
            "           1       0.72      0.65      0.68       514\n",
            "\n",
            "    accuracy                           0.84      2000\n",
            "   macro avg       0.80      0.78      0.79      2000\n",
            "weighted avg       0.84      0.84      0.84      2000\n",
            "\n"
          ],
          "name": "stdout"
        }
      ]
    },
    {
      "cell_type": "markdown",
      "metadata": {
        "id": "zoPUh7e2vv2U"
      },
      "source": [
        "#### <span style=\"color:green\"><b>E2. Output & Calculations</b></span>\n",
        "Calculations & code output above."
      ]
    },
    {
      "cell_type": "markdown",
      "metadata": {
        "id": "Nja8VkdAvv2U"
      },
      "source": [
        "#### <span style=\"color:green\"><b>E3. Code</b></span>\n",
        "All code for analysis include above."
      ]
    },
    {
      "cell_type": "markdown",
      "metadata": {
        "id": "NT4TS9uxvv2U"
      },
      "source": [
        "#### <span style=\"color:green\"><b>F1. Results</b></span>\n",
        "The final multiple regression equation with <b>15</b> predictor variables: \n",
        "<br><br>&emsp;<span style=\"color:gold\">y = -6.1973 - 0.0391 * Children + 0.0070 * Age + 0.7970 * DummyTechie - 2.2895 * DummyContract + 0.1598 * DummyPort_modem - 1.4240 * DummyInternetService - 0.3193 * DummyPhone - 0.2964 * DummyMultiple - 0.3303 * DummyOnlineSecurity - 0.5146 * DummyOnlineBackup - 0.4075 * DummyDeviceProtection - 0.3555 * DummyTechSupport - 0.2049 * Tenure + 0.0463 * MonthlyCharge + 0.0013 * Bandwidth_GB_Year</span>"
      ]
    },
    {
      "cell_type": "markdown",
      "metadata": {
        "id": "-OjZoiaxvv2U"
      },
      "source": [
        "#### <span style=\"color:green\"><b>F2. Recommendations</b></span>\n",
        "&emsp; It is critical that decision-makers & marketers understand that there is inverse relationship between our target variable of Churn & several of our predictor variables. &nbsp; This suggests that as a customer subscribes to more services that the company provided, an additional port modem or online backup for example, they are less likely to leave the company. &nbsp; Clearly, it is the best interest of retaining customers to provide them with more services & improve their experience with the company by helping customers understand all the services that are available to them as a subscriber, not simple mobile phone service. &nbsp; Given the negative coefficients of additional services, we suggest additional marketing efforts for contracts & internet services as those with contract appear less likely to leave the company.  \n",
        "&emsp; Also, with such a direct linear relationship between bandwidth used yearly & tenure with the telecom company it makes sense to suggest the company do everything within marketing & customer service capability to retain the customers gained as the longer they stay with the company the more bandwidth they tend to use. &nbsp; This would include making sure that fixes to customer problems are prompt & that the equipment provided is high quality to avoid fewer replacements of equipment. "
      ]
    },
    {
      "cell_type": "markdown",
      "metadata": {
        "id": "t7xqLWrXvv2V"
      },
      "source": [
        "#### <span style=\"color:green\"><b>G. Video</b></span>\n",
        "<span style=\"color:red\">link</span>"
      ]
    },
    {
      "cell_type": "markdown",
      "metadata": {
        "id": "sf89bOWnvv2V"
      },
      "source": [
        "#### <span style=\"color:green\"><b>H. Sources for Third-Party Code</b></span>\n",
        "\n",
        "GeeksForGeeks. &ensp; (2019, July 4). &ensp; <i>Python | Visualize missing values (NaN) values using Missingno Library</i>. &ensp; GeeksForGeeks. &ensp; https://www.geeksforgeeks.org/python-visualize-missing-values-nan-values-using-missingno-library/"
      ]
    },
    {
      "cell_type": "markdown",
      "metadata": {
        "id": "5BvMkm75vv2V"
      },
      "source": [
        "#### <span style=\"color:green\"><b>I. Sources</b></span>\n",
        "\n",
        "CBTNuggets. &ensp; (2018, September 20). &ensp; <i>Why Data Scientists Love Python</i>. &ensp; https://www.cbtnuggets.com/blog/technology/data/why-data-scientists-love-python\n",
        "\n",
        "<br> Massaron, L. & Boschetti, A. &ensp; (2016). &ensp; <i>Regression Analysis with Python</i>. &ensp; Packt Publishing."
      ]
    },
    {
      "cell_type": "code",
      "metadata": {
        "colab": {
          "base_uri": "https://localhost:8080/",
          "height": 783
        },
        "id": "81H8AFzIvv2V",
        "outputId": "3d205cfc-95fc-4c61-a45f-cc1ddd9d59be"
      },
      "source": [
        "!wget -nc https://raw.githubusercontent.com/brpy/colab-pdf/master/colab_pdf.py\n",
        "from colab_pdf import colab_pdf\n",
        "colab_pdf('D208_Performance_Assessment_NBM2_Task_2_revision2.ipynb')"
      ],
      "execution_count": 61,
      "outputs": [
        {
          "output_type": "stream",
          "text": [
            "File ‘colab_pdf.py’ already there; not retrieving.\n",
            "\n",
            "\n",
            "WARNING: apt does not have a stable CLI interface. Use with caution in scripts.\n",
            "\n",
            "\n",
            "WARNING: apt does not have a stable CLI interface. Use with caution in scripts.\n",
            "\n",
            "[NbConvertApp] Converting notebook /content/drive/MyDrive/Colab Notebooks/D208_Performance_Assessment_NBM2_Task_2_revision2.ipynb to pdf\n",
            "[NbConvertApp] Support files will be in D208_Performance_Assessment_NBM2_Task_2_revision2_files/\n",
            "[NbConvertApp] Making directory ./D208_Performance_Assessment_NBM2_Task_2_revision2_files\n",
            "[NbConvertApp] Making directory ./D208_Performance_Assessment_NBM2_Task_2_revision2_files\n",
            "[NbConvertApp] Making directory ./D208_Performance_Assessment_NBM2_Task_2_revision2_files\n",
            "[NbConvertApp] Making directory ./D208_Performance_Assessment_NBM2_Task_2_revision2_files\n",
            "[NbConvertApp] Making directory ./D208_Performance_Assessment_NBM2_Task_2_revision2_files\n",
            "[NbConvertApp] Making directory ./D208_Performance_Assessment_NBM2_Task_2_revision2_files\n",
            "[NbConvertApp] Making directory ./D208_Performance_Assessment_NBM2_Task_2_revision2_files\n",
            "[NbConvertApp] Making directory ./D208_Performance_Assessment_NBM2_Task_2_revision2_files\n",
            "[NbConvertApp] Making directory ./D208_Performance_Assessment_NBM2_Task_2_revision2_files\n",
            "[NbConvertApp] Making directory ./D208_Performance_Assessment_NBM2_Task_2_revision2_files\n",
            "[NbConvertApp] Making directory ./D208_Performance_Assessment_NBM2_Task_2_revision2_files\n",
            "[NbConvertApp] Making directory ./D208_Performance_Assessment_NBM2_Task_2_revision2_files\n",
            "[NbConvertApp] Making directory ./D208_Performance_Assessment_NBM2_Task_2_revision2_files\n",
            "[NbConvertApp] Making directory ./D208_Performance_Assessment_NBM2_Task_2_revision2_files\n",
            "[NbConvertApp] Making directory ./D208_Performance_Assessment_NBM2_Task_2_revision2_files\n",
            "[NbConvertApp] Making directory ./D208_Performance_Assessment_NBM2_Task_2_revision2_files\n",
            "[NbConvertApp] Making directory ./D208_Performance_Assessment_NBM2_Task_2_revision2_files\n",
            "[NbConvertApp] Making directory ./D208_Performance_Assessment_NBM2_Task_2_revision2_files\n",
            "[NbConvertApp] Making directory ./D208_Performance_Assessment_NBM2_Task_2_revision2_files\n",
            "[NbConvertApp] Making directory ./D208_Performance_Assessment_NBM2_Task_2_revision2_files\n",
            "[NbConvertApp] Making directory ./D208_Performance_Assessment_NBM2_Task_2_revision2_files\n",
            "[NbConvertApp] Making directory ./D208_Performance_Assessment_NBM2_Task_2_revision2_files\n",
            "[NbConvertApp] Making directory ./D208_Performance_Assessment_NBM2_Task_2_revision2_files\n",
            "[NbConvertApp] Making directory ./D208_Performance_Assessment_NBM2_Task_2_revision2_files\n",
            "[NbConvertApp] Making directory ./D208_Performance_Assessment_NBM2_Task_2_revision2_files\n",
            "[NbConvertApp] Making directory ./D208_Performance_Assessment_NBM2_Task_2_revision2_files\n",
            "[NbConvertApp] Making directory ./D208_Performance_Assessment_NBM2_Task_2_revision2_files\n",
            "[NbConvertApp] Writing 127207 bytes to ./notebook.tex\n",
            "[NbConvertApp] Building PDF\n",
            "[NbConvertApp] Running xelatex 3 times: [u'xelatex', u'./notebook.tex', '-quiet']\n",
            "[NbConvertApp] Running bibtex 1 time: [u'bibtex', u'./notebook']\n",
            "[NbConvertApp] WARNING | bibtex had problems, most likely because there were no citations\n",
            "[NbConvertApp] PDF successfully created\n",
            "[NbConvertApp] Writing 323157 bytes to /content/drive/My Drive/D208_Performance_Assessment_NBM2_Task_2_revision2.pdf\n"
          ],
          "name": "stdout"
        },
        {
          "output_type": "display_data",
          "data": {
            "application/javascript": [
              "\n",
              "    async function download(id, filename, size) {\n",
              "      if (!google.colab.kernel.accessAllowed) {\n",
              "        return;\n",
              "      }\n",
              "      const div = document.createElement('div');\n",
              "      const label = document.createElement('label');\n",
              "      label.textContent = `Downloading \"${filename}\": `;\n",
              "      div.appendChild(label);\n",
              "      const progress = document.createElement('progress');\n",
              "      progress.max = size;\n",
              "      div.appendChild(progress);\n",
              "      document.body.appendChild(div);\n",
              "\n",
              "      const buffers = [];\n",
              "      let downloaded = 0;\n",
              "\n",
              "      const channel = await google.colab.kernel.comms.open(id);\n",
              "      // Send a message to notify the kernel that we're ready.\n",
              "      channel.send({})\n",
              "\n",
              "      for await (const message of channel.messages) {\n",
              "        // Send a message to notify the kernel that we're ready.\n",
              "        channel.send({})\n",
              "        if (message.buffers) {\n",
              "          for (const buffer of message.buffers) {\n",
              "            buffers.push(buffer);\n",
              "            downloaded += buffer.byteLength;\n",
              "            progress.value = downloaded;\n",
              "          }\n",
              "        }\n",
              "      }\n",
              "      const blob = new Blob(buffers, {type: 'application/binary'});\n",
              "      const a = document.createElement('a');\n",
              "      a.href = window.URL.createObjectURL(blob);\n",
              "      a.download = filename;\n",
              "      div.appendChild(a);\n",
              "      a.click();\n",
              "      div.remove();\n",
              "    }\n",
              "  "
            ],
            "text/plain": [
              "<IPython.core.display.Javascript object>"
            ]
          },
          "metadata": {
            "tags": []
          }
        },
        {
          "output_type": "display_data",
          "data": {
            "application/javascript": [
              "download(\"download_c4f0f3bc-3b80-4ded-8831-954bcf9ddf2c\", \"D208_Performance_Assessment_NBM2_Task_2_revision2.pdf\", 323157)"
            ],
            "text/plain": [
              "<IPython.core.display.Javascript object>"
            ]
          },
          "metadata": {
            "tags": []
          }
        },
        {
          "output_type": "execute_result",
          "data": {
            "application/vnd.google.colaboratory.intrinsic+json": {
              "type": "string"
            },
            "text/plain": [
              "'File ready to be Downloaded and Saved to Drive'"
            ]
          },
          "metadata": {
            "tags": []
          },
          "execution_count": 61
        }
      ]
    }
  ]
}