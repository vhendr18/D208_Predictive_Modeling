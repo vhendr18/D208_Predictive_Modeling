{
 "cells": [
  {
   "cell_type": "code",
   "execution_count": 1,
   "metadata": {},
   "outputs": [],
   "source": [
    "\"\"\" Find the primes between 1,000,000,000,000 & 1,000,000,001,000 \"\"\"\n",
    "import numpy as np\n",
    "import math\n",
    "\n",
    "def get_primes(n_min, n_max):\n",
    "    result = []\n",
    "    for x in range(max(n_min, 2), n_max):\n",
    "        has_factor = False\n",
    "        for p in range(2, int(np.sqrt(x)) + 1):\n",
    "            if x % p == 0:\n",
    "                has_factor = True\n",
    "                break\n",
    "        if not has_factor:\n",
    "            result.append(x)\n",
    "    return result"
   ]
  },
  {
   "cell_type": "code",
   "execution_count": 2,
   "metadata": {},
   "outputs": [
    {
     "data": {
      "text/plain": [
       "[2, 3, 5, 7, 11, 13, 17, 19, 23, 29, 31, 37, 41, 43, 47]"
      ]
     },
     "execution_count": 2,
     "metadata": {},
     "output_type": "execute_result"
    }
   ],
   "source": [
    "get_primes(0, 50)"
   ]
  },
  {
   "cell_type": "code",
   "execution_count": 3,
   "metadata": {},
   "outputs": [
    {
     "data": {
      "text/plain": [
       "[1000000000039,\n",
       " 1000000000061,\n",
       " 1000000000063,\n",
       " 1000000000091,\n",
       " 1000000000121,\n",
       " 1000000000163,\n",
       " 1000000000169,\n",
       " 1000000000177,\n",
       " 1000000000189,\n",
       " 1000000000193,\n",
       " 1000000000211,\n",
       " 1000000000271,\n",
       " 1000000000303,\n",
       " 1000000000331,\n",
       " 1000000000333,\n",
       " 1000000000339,\n",
       " 1000000000459,\n",
       " 1000000000471,\n",
       " 1000000000537,\n",
       " 1000000000543,\n",
       " 1000000000547,\n",
       " 1000000000561,\n",
       " 1000000000609,\n",
       " 1000000000661,\n",
       " 1000000000669,\n",
       " 1000000000721,\n",
       " 1000000000751,\n",
       " 1000000000787,\n",
       " 1000000000789,\n",
       " 1000000000799,\n",
       " 1000000000841,\n",
       " 1000000000903,\n",
       " 1000000000921,\n",
       " 1000000000931,\n",
       " 1000000000933,\n",
       " 1000000000949,\n",
       " 1000000000997]"
      ]
     },
     "execution_count": 3,
     "metadata": {},
     "output_type": "execute_result"
    }
   ],
   "source": [
    "get_primes(1000000000000, 1000000001000)"
   ]
  },
  {
   "cell_type": "code",
   "execution_count": 4,
   "metadata": {},
   "outputs": [],
   "source": [
    "ps = get_primes(10**12, 10**12 + 1000)"
   ]
  },
  {
   "cell_type": "code",
   "execution_count": 5,
   "metadata": {},
   "outputs": [
    {
     "data": {
      "text/plain": [
       "37"
      ]
     },
     "execution_count": 5,
     "metadata": {},
     "output_type": "execute_result"
    }
   ],
   "source": [
    "len(ps)"
   ]
  },
  {
   "cell_type": "code",
   "execution_count": 6,
   "metadata": {},
   "outputs": [
    {
     "data": {
      "text/plain": [
       "0.037"
      ]
     },
     "execution_count": 6,
     "metadata": {},
     "output_type": "execute_result"
    }
   ],
   "source": [
    "len(ps) / 1000"
   ]
  },
  {
   "cell_type": "code",
   "execution_count": 7,
   "metadata": {},
   "outputs": [
    {
     "data": {
      "text/plain": [
       "27.027027027027028"
      ]
     },
     "execution_count": 7,
     "metadata": {},
     "output_type": "execute_result"
    }
   ],
   "source": [
    "1000 / len(ps)"
   ]
  },
  {
   "cell_type": "code",
   "execution_count": 8,
   "metadata": {},
   "outputs": [
    {
     "data": {
      "text/plain": [
       "27.631021115928547"
      ]
     },
     "execution_count": 8,
     "metadata": {},
     "output_type": "execute_result"
    }
   ],
   "source": [
    "math.log(10**12)"
   ]
  },
  {
   "cell_type": "code",
   "execution_count": 10,
   "metadata": {},
   "outputs": [],
   "source": [
    "math.log?"
   ]
  },
  {
   "cell_type": "code",
   "execution_count": null,
   "metadata": {},
   "outputs": [],
   "source": []
  }
 ],
 "metadata": {
  "kernelspec": {
   "display_name": "Python 3",
   "language": "python",
   "name": "python3"
  },
  "language_info": {
   "codemirror_mode": {
    "name": "ipython",
    "version": 3
   },
   "file_extension": ".py",
   "mimetype": "text/x-python",
   "name": "python",
   "nbconvert_exporter": "python",
   "pygments_lexer": "ipython3",
   "version": "3.7.6"
  },
  "varInspector": {
   "cols": {
    "lenName": 16,
    "lenType": 16,
    "lenVar": 40
   },
   "kernels_config": {
    "python": {
     "delete_cmd_postfix": "",
     "delete_cmd_prefix": "del ",
     "library": "var_list.py",
     "varRefreshCmd": "print(var_dic_list())"
    },
    "r": {
     "delete_cmd_postfix": ") ",
     "delete_cmd_prefix": "rm(",
     "library": "var_list.r",
     "varRefreshCmd": "cat(var_dic_list()) "
    }
   },
   "types_to_exclude": [
    "module",
    "function",
    "builtin_function_or_method",
    "instance",
    "_Feature"
   ],
   "window_display": false
  }
 },
 "nbformat": 4,
 "nbformat_minor": 4
}
